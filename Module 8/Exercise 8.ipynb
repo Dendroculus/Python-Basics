{
 "cells": [
  {
   "cell_type": "markdown",
   "metadata": {},
   "source": [
    "# 🏛️ Module 8: OOP & Dataclasses (Exercises) 🏷️\n",
    "\n",
    "Let's put your understanding of Object-Oriented Programming to the test. These exercises will guide you through creating your own classes and dataclasses.\n",
    "\n",
    "Complete the code in each cell where you see `# TODO:` to match the expected output."
   ]
  },
  {
   "cell_type": "markdown",
   "metadata": {},
   "source": [
    "---"
   ]
  },
  {
   "cell_type": "markdown",
   "metadata": {},
   "source": [
    "### ✏️ Exercise 1: Create a `Book` Class\n",
    "\n",
    "**Goal**: Practice creating a basic class with an `__init__` method and an instance method.\n",
    "\n",
    "**Task**: \n",
    "1. Define a class named `Book`.\n",
    "2. In the `__init__` method, accept `title`, `author`, and `pages` as arguments and store them as attributes.\n",
    "3. Create an instance method called `summary()` that returns a formatted string: `\"'{title}' by {author} is {pages} pages long.\"`\n",
    "4. Create an instance of the `Book` class and print its summary.\n",
    "\n",
    "#### Expected Output:\n",
    "```\n",
    "'The Hobbit' by J.R.R. Tolkien is 310 pages long.\n",
    "```"
   ]
  },
  {
   "cell_type": "code",
   "execution_count": null,
   "metadata": {},
   "outputs": [],
   "source": [
    "# TODO: Define the Book class\n",
    "class Book:\n",
    "    # TODO: Define the __init__ method\n",
    "    pass\n",
    "\n",
    "    # TODO: Define the summary method\n",
    "    pass\n",
    "\n",
    "# TODO: Create an instance of the Book class\n",
    "my_book = None # Replace this\n",
    "\n",
    "# TODO: Print the summary of your book instance\n"
   ]
  },
  {
   "cell_type": "markdown",
   "metadata": {},
   "source": [
    "<details>\n",
    "  <summary>Click here for the solution</summary>\n",
    "\n",
    "  ```python\n",
    "  class Book:\n",
    "      def __init__(self, title: str, author: str, pages: int):\n",
    "          self.title = title\n",
    "          self.author = author\n",
    "          self.pages = pages\n",
    "\n",
    "      def summary(self) -> str:\n",
    "          return f\"'{self.title}' by {self.author} is {self.pages} pages long.\"\n",
    "\n",
    "  my_book = Book(\"The Hobbit\", \"J.R.R. Tolkien\", 310)\n",
    "  print(my_book.summary())\n",
    "  ```\n",
    "</details>"
   ]
  },
  {
   "cell_type": "markdown",
   "metadata": {},
   "source": [
    "---"
   ]
  },
  {
   "cell_type": "markdown",
   "metadata": {},
   "source": [
    "### ✏️ Exercise 2: `BankAccount` with a Property\n",
    "\n",
    "**Goal**: Use a property to create a read-only attribute and control data access.\n",
    "\n",
    "**Task**:\n",
    "1. Create a `BankAccount` class.\n",
    "2. In `__init__`, initialize a \"private\" attribute `_balance` with a starting value.\n",
    "3. Create a read-only `@property` named `balance` that returns the value of `_balance`.\n",
    "4. Create a `deposit(amount)` method that adds to the balance.\n",
    "5. Create a `withdraw(amount)` method that subtracts from the balance but raises a `ValueError` if the amount is greater than the current balance.\n",
    "\n",
    "#### Expected Output:\n",
    "```\n",
    "Initial balance: 1000\n",
    "Balance after deposit: 1500\n",
    "Balance after withdrawal: 1300\n",
    "Error: Cannot withdraw $1500. Insufficient funds.\n",
    "Final balance: 1300\n",
    "```"
   ]
  },
  {
   "cell_type": "code",
   "execution_count": null,
   "metadata": {},
   "outputs": [],
   "source": [
    "class BankAccount:\n",
    "    # TODO: Complete the class definition\n",
    "    pass\n",
    "\n",
    "account = BankAccount(1000)\n",
    "print(f\"Initial balance: {account.balance}\")\n",
    "\n",
    "account.deposit(500)\n",
    "print(f\"Balance after deposit: {account.balance}\")\n",
    "\n",
    "account.withdraw(200)\n",
    "print(f\"Balance after withdrawal: {account.balance}\")\n",
    "\n",
    "try:\n",
    "    account.withdraw(1500)\n",
    "except ValueError as e:\n",
    "    print(f\"Error: {e}\")\n",
    "\n",
    "print(f\"Final balance: {account.balance}\")"
   ]
  },
  {
   "cell_type": "markdown",
   "metadata": {},
   "source": [
    "<details>\n",
    "  <summary>Click here for the solution</summary>\n",
    "\n",
    "  ```python\n",
    "  class BankAccount:\n",
    "      def __init__(self, initial_balance: float):\n",
    "          self._balance = initial_balance\n",
    "\n",
    "      @property\n",
    "      def balance(self) -> float:\n",
    "          return self._balance\n",
    "\n",
    "      def deposit(self, amount: float):\n",
    "          if amount > 0:\n",
    "              self._balance += amount\n",
    "\n",
    "      def withdraw(self, amount: float):\n",
    "          if amount > self._balance:\n",
    "              raise ValueError(f\"Cannot withdraw ${amount}. Insufficient funds.\")\n",
    "          self._balance -= amount\n",
    "  \n",
    "  # The rest of the test code remains the same\n",
    "  ```\n",
    "</details>"
   ]
  },
  {
   "cell_type": "markdown",
   "metadata": {},
   "source": [
    "---"
   ]
  },
  {
   "cell_type": "markdown",
   "metadata": {},
   "source": [
    "### ✏️ Exercise 3: Simple `Product` Dataclass\n",
    "\n",
    "**Goal**: Understand the convenience of dataclasses for data storage.\n",
    "\n",
    "**Task**:\n",
    "1. Import `dataclass` from the `dataclasses` module.\n",
    "2. Define a `Product` dataclass with the following attributes and types: `name` (str), `price` (float), and `product_id` (int).\n",
    "3. Create two instances of the `Product` dataclass. Print one of them to see the automatic `__repr__`.\n",
    "\n",
    "#### Expected Output:\n",
    "```\n",
    "Product(name='Laptop', price=1299.99, product_id=101)\n",
    "```"
   ]
  },
  {
   "cell_type": "code",
   "execution_count": null,
   "metadata": {},
   "outputs": [],
   "source": [
    "# TODO: Import dataclass\n",
    "\n",
    "# TODO: Define the Product dataclass\n",
    "\n",
    "\n",
    "# TODO: Create an instance and print it\n"
   ]
  },
  {
   "cell_type": "markdown",
   "metadata": {},
   "source": [
    "<details>\n",
    "  <summary>Click here for the solution</summary>\n",
    "\n",
    "  ```python\n",
    "  from dataclasses import dataclass\n",
    "\n",
    "  @dataclass\n",
    "  class Product:\n",
    "      name: str\n",
    "      price: float\n",
    "      product_id: int\n",
    "\n",
    "  product1 = Product(name=\"Laptop\", price=1299.99, product_id=101)\n",
    "  product2 = Product(name=\"Mouse\", price=24.50, product_id=102)\n",
    "\n",
    "  print(product1)\n",
    "  ```\n",
    "</details>"
   ]
  },
  {
   "cell_type": "markdown",
   "metadata": {},
   "source": [
    "---"
   ]
  },
  {
   "cell_type": "markdown",
   "metadata": {},
   "source": [
    "### ✏️ Exercise 4: Dataclass with a Method\n",
    "\n",
    "**Goal**: Show that dataclasses can have methods just like regular classes.\n",
    "\n",
    "**Task**:\n",
    "1. Define an `InventoryItem` dataclass with attributes: `name` (str), `unit_price` (float), and `quantity_on_hand` (int) with a default value of `0`.\n",
    "2. Add a method `total_cost()` to the dataclass that returns the `unit_price` multiplied by the `quantity_on_hand`.\n",
    "3. Create an instance and print its total cost.\n",
    "\n",
    "#### Expected Output:\n",
    "```\n",
    "Total cost for Screws: 50.0\n",
    "```"
   ]
  },
  {
   "cell_type": "code",
   "execution_count": null,
   "metadata": {},
   "outputs": [],
   "source": [
    "from dataclasses import dataclass\n",
    "\n",
    "# TODO: Define the InventoryItem dataclass with a default value and a method\n",
    "\n",
    "\n",
    "# TODO: Create an instance of InventoryItem\n",
    "item = None # Replace this\n",
    "\n",
    "# TODO: Print the total cost using the method\n"
   ]
  },
  {
   "cell_type": "markdown",
   "metadata": {},
   "source": [
    "<details>\n",
    "  <summary>Click here for the solution</summary>\n",
    "\n",
    "  ```python\n",
    "  from dataclasses import dataclass\n",
    "\n",
    "  @dataclass\n",
    "  class InventoryItem:\n",
    "      name: str\n",
    "      unit_price: float\n",
    "      quantity_on_hand: int = 0\n",
    "\n",
    "      def total_cost(self) -> float:\n",
    "          return self.unit_price * self.quantity_on_hand\n",
    "\n",
    "  item = InventoryItem(name=\"Screws\", unit_price=0.50, quantity_on_hand=100)\n",
    "  print(f\"Total cost for {item.name}: {item.total_cost()}\")\n",
    "  ```\n",
    "</details>"
   ]
  },
  {
   "cell_type": "markdown",
   "metadata": {},
   "source": [
    "---"
   ]
  },
  {
   "cell_type": "markdown",
   "metadata": {},
   "source": [
    "## 🎉 Congratulations!\n",
    "\n",
    "You've reached the end of the core Python modules. Mastering Object-Oriented Programming and knowing when to use tools like dataclasses will enable you to write clean, reusable, and highly organized code. This is a cornerstone of modern software development."
   ]
  }
 ],
 "metadata": {
  "kernelspec": {
   "display_name": "Python 3",
   "language": "python",
   "name": "python3"
  },
  "language_info": {
   "name": "python",
   "version": "3.12"
  }
 },
 "nbformat": 4,
 "nbformat_minor": 2
}