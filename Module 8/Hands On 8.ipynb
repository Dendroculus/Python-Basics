{
 "cells": [
  {
   "cell_type": "markdown",
   "metadata": {},
   "source": [
    "# 🏷️ Module 8: OOP & Dataclasses (Concepts & Examples) 🏛️\n",
    "\n",
    "Welcome to our final core module. Before we begin, I want to express my gratitude for your dedication throughout this course. If any of the concepts in Modules 1 through 7 felt challenging or unclear, please know that this is a natural part of the learning process. Programming is a skill built layer by layer, and each new topic reinforces the last. My hope is that this final module on Object-Oriented Programming will tie many of those concepts together, providing a powerful new way to structure your code.\n",
    "\n",
    "OOP is a programming paradigm based on the concept of \"objects\", which can contain data (attributes) and code to manipulate that data (methods). It's the foundation of most modern, large-scale software.\n",
    "\n",
    "**Our goals are to understand:**\n",
    "- **Classes and Objects**: The fundamental building blocks of OOP.\n",
    "- **Attributes and Methods**: Defining the data and behavior of objects.\n",
    "- **The `self` Keyword**: How an object refers to itself.\n",
    "- **Properties**: A Pythonic way to control attribute access.\n",
    "- **Dataclasses**: A modern shortcut for creating data-centric classes."
   ]
  },
  {
   "cell_type": "markdown",
   "metadata": {},
   "source": [
    "---"
   ]
  },
  {
   "cell_type": "markdown",
   "metadata": {},
   "source": [
    "## 1. Classes and Objects: The Blueprint and the Instance\n",
    "\n",
    "- A **Class** is like a blueprint for creating objects. It defines a set of attributes and methods that all objects of that class will have. For example, a `Car` class would define that all cars have a `color` and a `max_speed`.\n",
    "- An **Object** (or **Instance**) is a specific creation based on a class. For example, `my_blue_tesla` could be an object of the `Car` class with `color = \"blue\"`."
   ]
  },
  {
   "cell_type": "markdown",
   "metadata": {},
   "source": [
    "### Defining a Class\n",
    "We use the `class` keyword. The `__init__` method is a special method called a **constructor**. It runs automatically when you create a new object and is used to initialize the object's attributes."
   ]
  },
  {
   "cell_type": "code",
   "execution_count": null,
   "metadata": {},
   "outputs": [],
   "source": [
    "class Dog:\n",
    "    # The __init__ method initializes the object's attributes\n",
    "    def __init__(self, name: str, breed: str, age: int):\n",
    "        # 'self' refers to the specific instance of the object being created\n",
    "        self.name = name\n",
    "        self.breed = breed\n",
    "        self.age = age\n",
    "        print(f\"A new dog named {self.name} has been created!\")\n",
    "\n",
    "# Creating objects (instances) of the Dog class\n",
    "dog1 = Dog(\"Buddy\", \"Golden Retriever\", 5)\n",
    "dog2 = Dog(\"Lucy\", \"Poodle\", 3)\n",
    "\n",
    "# Accessing attributes of each object\n",
    "print(f\"{dog1.name} is a {dog1.breed} and is {dog1.age} years old.\")\n",
    "print(f\"{dog2.name} is a {dog2.breed}.\")"
   ]
  },
  {
   "cell_type": "markdown",
   "metadata": {},
   "source": [
    "---"
   ]
  },
  {
   "cell_type": "markdown",
   "metadata": {},
   "source": [
    "## 2. Instance Methods\n",
    "\n",
    "Methods are functions defined inside a class that describe the behaviors of an object. The first parameter of an instance method is always `self`, which gives the method access to the object's attributes."
   ]
  },
  {
   "cell_type": "code",
   "execution_count": null,
   "metadata": {},
   "outputs": [],
   "source": [
    "class Dog:\n",
    "    def __init__(self, name: str, age: int):\n",
    "        self.name = name\n",
    "        self.age = age\n",
    "\n",
    "    # This is an instance method\n",
    "    def bark(self):\n",
    "        return f\"{self.name} says Woof!\"\n",
    "\n",
    "    # This method uses an attribute in its logic\n",
    "    def have_birthday(self):\n",
    "        self.age += 1\n",
    "        return f\"Happy birthday {self.name}! You are now {self.age}.\"\n",
    "\n",
    "my_dog = Dog(\"Rex\", 7)\n",
    "print(my_dog.bark())\n",
    "print(my_dog.have_birthday())"
   ]
  },
  {
   "cell_type": "markdown",
   "metadata": {},
   "source": [
    "---"
   ]
  },
  {
   "cell_type": "markdown",
   "metadata": {},
   "source": [
    "## 3. Properties: Controlled Attribute Access\n",
    "\n",
    "Sometimes you want to control how an attribute is accessed. For example, you might want to make an attribute read-only. A **property** lets you define a method that can be accessed like an attribute.\n",
    "\n",
    "It's a common convention to prefix an attribute with an underscore (e.g., `_balance`) to indicate that it should be treated as private and not accessed directly from outside the class."
   ]
  },
  {
   "cell_type": "code",
   "execution_count": null,
   "metadata": {},
   "outputs": [],
   "source": [
    "class Circle:\n",
    "    def __init__(self, radius: float):\n",
    "        if radius < 0:\n",
    "            raise ValueError(\"Radius cannot be negative.\")\n",
    "        self._radius = radius  # Private-like attribute\n",
    "\n",
    "    @property\n",
    "    def diameter(self) -> float:\n",
    "        \"\"\"Calculates the diameter. This is a read-only property.\"\"\"\n",
    "        return self._radius * 2\n",
    "    \n",
    "    @property\n",
    "    def radius(self) -> float:\n",
    "        \"\"\"Getter for the radius.\"\"\"\n",
    "        return self._radius\n",
    "\n",
    "c = Circle(10)\n",
    "print(f\"Radius: {c.radius}\")\n",
    "print(f\"Diameter: {c.diameter}\") # Accessed like an attribute, not a method\n",
    "\n",
    "# Trying to set the diameter would raise an AttributeError because it's read-only\n",
    "# c.diameter = 30"
   ]
  },
  {
   "cell_type": "markdown",
   "metadata": {},
   "source": [
    "---"
   ]
  },
  {
   "cell_type": "markdown",
   "metadata": {},
   "source": [
    "## 4. Dataclasses: Less Boilerplate, More Data\n",
    "\n",
    "Often, you'll create classes that are primarily used to store data. For these cases, writing `__init__`, `__repr__` (for printing), and `__eq__` (for comparison) can be repetitive. The `dataclasses` module, introduced in Python 3.7, automates this for you.\n"
   ]
  },
  {
   "cell_type": "code",
   "execution_count": null,
   "metadata": {},
   "outputs": [],
   "source": [
    "# The old way: A standard class\n",
    "class PointOld:\n",
    "    def __init__(self, x, y):\n",
    "        self.x = x\n",
    "        self.y = y\n",
    "    \n",
    "    def __repr__(self):\n",
    "        return f\"PointOld(x={self.x}, y={self.y})\"\n",
    "\n",
    "    def __eq__(self, other):\n",
    "        return self.x == other.x and self.y == other.y\n",
    "\n",
    "p1_old = PointOld(1, 2)\n",
    "print(f\"Old way: {p1_old}\")\n",
    "\n",
    "# The new way: a dataclass\n",
    "from dataclasses import dataclass\n",
    "\n",
    "@dataclass\n",
    "class Point:\n",
    "    x: int\n",
    "    y: int\n",
    "\n",
    "p1 = Point(1, 2)\n",
    "p2 = Point(1, 2)\n",
    "print(f\"New way: {p1}\") # __repr__ is automatic!\n",
    "print(f\"Are p1 and p2 equal? {p1 == p2}\") # __eq__ is automatic!"
   ]
  },
  {
   "cell_type": "markdown",
   "metadata": {},
   "source": [
    "### Dataclass Features\n",
    "You can still add default values and methods to dataclasses."
   ]
  },
  {
   "cell_type": "code",
   "execution_count": null,
   "metadata": {},
   "outputs": [],
   "source": [
    "from dataclasses import dataclass, field\n",
    "\n",
    "@dataclass\n",
    "class User:\n",
    "    username: str\n",
    "    is_active: bool = True # A simple default value\n",
    "    # For mutable defaults like lists, you must use default_factory\n",
    "    roles: list[str] = field(default_factory=list)\n",
    "\n",
    "    def grant_admin_role(self):\n",
    "        \"\"\"A custom method on our dataclass.\"\"\"\n",
    "        if \"admin\" not in self.roles:\n",
    "            self.roles.append(\"admin\")\n",
    "\n",
    "admin_user = User(\"admin1\")\n",
    "admin_user.grant_admin_role()\n",
    "print(admin_user)"
   ]
  },
  {
   "cell_type": "markdown",
   "metadata": {},
   "source": [
    "## When to Use Which?\n",
    "- Use a **`dataclass`** when your class is primarily a container for data and you want sensible defaults for initialization, representation, and comparison.\n",
    "- Use a **standard `class`** when your class has significant behavior (many methods), needs to manage complex state, or when you need full control over the special methods.\n",
    "\n",
    "🎉 Congratulations on completing the core modules! You now have a powerful set of tools to build complex, well-structured programs.\n",
    "\n",
    "Next: move to **`Exercise 8.ipynb`** to practice these OOP concepts."
   ]
  }
 ],
 "metadata": {
  "kernelspec": {
   "display_name": "Python 3",
   "language": "python",
   "name": "python3"
  },
  "language_info": {
   "name": "python",
   "version": "3.12"
  }
 },
 "nbformat": 4,
 "nbformat_minor": 2
}