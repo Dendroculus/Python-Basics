{
 "cells": [
  {
   "cell_type": "markdown",
   "metadata": {},
   "source": [
    "# 🧯 Module 7: Errors & Logging (Concepts & Examples) 🐞\n",
    "\n",
    "Welcome to Module 7! No program is perfect; errors happen. A robust application anticipates and handles errors gracefully instead of crashing. This module covers Python's exception handling system and the standard `logging` library, which allows you to record events and diagnose problems effectively.\n",
    "\n",
    "**Our goals are to understand:**\n",
    "- **Exceptions vs. Syntax Errors**: The two main types of errors.\n",
    "- **Handling Exceptions**: Using the `try`, `except`, `else`, and `finally` blocks.\n",
    "- **Raising Exceptions**: How and when to trigger errors intentionally with `raise`.\n",
    "- **Custom Exceptions**: Creating your own error types for specific application logic.\n",
    "- **Logging Basics**: Why `logging` is superior to `print()` for debugging and monitoring.\n",
    "- **Logging Levels**: How to categorize messages by severity (`DEBUG`, `INFO`, `WARNING`, `ERROR`)."
   ]
  },
  {
   "cell_type": "markdown",
   "metadata": {},
   "source": [
    "---"
   ]
  },
  {
   "cell_type": "markdown",
   "metadata": {},
   "source": [
    "## 1. Understanding Exceptions\n",
    "\n",
    "An **exception** is an error that occurs *during the execution* of a program. It disrupts the normal flow of instructions. A **syntax error**, by contrast, is a mistake in the code's structure that Python detects *before* execution even begins.\n"
   ]
  },
  {
   "cell_type": "code",
   "execution_count": null,
   "metadata": {},
   "outputs": [],
   "source": [
    "# This is a SyntaxError because the colon is missing. The code won't run.\n",
    "# for i in range(5)\n",
    "#     print(i)\n",
    "\n",
    "# This will cause an exception (ZeroDivisionError) when it's executed.\n",
    "numerator = 10\n",
    "denominator = 0\n",
    "# print(numerator / denominator) # Uncommenting this line will crash the cell."
   ]
  },
  {
   "cell_type": "markdown",
   "metadata": {},
   "source": [
    "---"
   ]
  },
  {
   "cell_type": "markdown",
   "metadata": {},
   "source": [
    "## 2. Handling Exceptions: `try...except`\n",
    "\n",
    "To prevent a crash, we can wrap potentially problematic code in a `try` block. If an exception occurs, the code in the corresponding `except` block is executed."
   ]
  },
  {
   "cell_type": "code",
   "execution_count": null,
   "metadata": {},
   "outputs": [],
   "source": [
    "def safe_divide(a, b):\n",
    "    try:\n",
    "        result = a / b\n",
    "        print(f\"Result is: {result}\")\n",
    "    except ZeroDivisionError:\n",
    "        print(\"Error: You cannot divide by zero!\")\n",
    "\n",
    "safe_divide(10, 2)\n",
    "safe_divide(10, 0)"
   ]
  },
  {
   "cell_type": "markdown",
   "metadata": {},
   "source": [
    "### Handling Multiple Exception Types\n",
    "You can handle different exceptions in different ways."
   ]
  },
  {
   "cell_type": "code",
   "execution_count": null,
   "metadata": {},
   "outputs": [],
   "source": [
    "def process_value(value):\n",
    "    try:\n",
    "        number = int(value)\n",
    "        result = 100 / number\n",
    "        print(f\"Result of 100 / {number} is {result}\")\n",
    "    except ValueError:\n",
    "        print(f\"Error: '{value}' is not a valid integer.\")\n",
    "    except ZeroDivisionError:\n",
    "        print(\"Error: Input cannot be zero.\")\n",
    "    except Exception as e: # A general catch-all for any other error\n",
    "        print(f\"An unexpected error occurred: {e}\")\n",
    "\n",
    "process_value(\"5\")\n",
    "process_value(\"hello\")\n",
    "process_value(\"0\")"
   ]
  },
  {
   "cell_type": "markdown",
   "metadata": {},
   "source": [
    "### The `else` and `finally` Clauses\n",
    "- **`else`**: This block runs **only if no exceptions** were raised in the `try` block.\n",
    "- **`finally`**: This block runs **no matter what**, whether an exception occurred or not. It's perfect for cleanup code, like closing a file."
   ]
  },
  {
   "cell_type": "code",
   "execution_count": null,
   "metadata": {},
   "outputs": [],
   "source": [
    "def process_file(path):\n",
    "    f = None # Initialize to ensure it exists for the 'finally' block\n",
    "    try:\n",
    "        f = open(path, 'r')\n",
    "        content = f.read()\n",
    "    except FileNotFoundError:\n",
    "        print(f\"Error: File '{path}' not found.\")\n",
    "    else:\n",
    "        print(\"File read successfully!\")\n",
    "        print(f\"Content: {content}\")\n",
    "    finally:\n",
    "        if f:\n",
    "            f.close()\n",
    "            print(\"File has been closed.\")\n",
    "\n",
    "# Create a dummy file to test\n",
    "with open(\"test.txt\", \"w\") as f:\n",
    "    f.write(\"Hello World\")\n",
    "\n",
    "print(\"--- Testing with an existing file ---\")\n",
    "process_file(\"test.txt\")\n",
    "print(\"\\n--- Testing with a missing file ---\")\n",
    "process_file(\"missing.txt\")"
   ]
  },
  {
   "cell_type": "markdown",
   "metadata": {},
   "source": [
    "---"
   ]
  },
  {
   "cell_type": "markdown",
   "metadata": {},
   "source": [
    "## 3. Raising Exceptions\n",
    "\n",
    "Sometimes, you need to trigger an error yourself. The `raise` keyword lets you create and throw an exception, typically when a function receives invalid input."
   ]
  },
  {
   "cell_type": "code",
   "execution_count": null,
   "metadata": {},
   "outputs": [],
   "source": [
    "def set_age(age: int):\n",
    "    if not isinstance(age, int):\n",
    "        raise TypeError(\"Age must be an integer.\")\n",
    "    if age < 0:\n",
    "        raise ValueError(\"Age cannot be negative.\")\n",
    "    print(f\"Age successfully set to {age}\")\n",
    "\n",
    "try:\n",
    "    set_age(25)\n",
    "    # set_age(-5)\n",
    "    # set_age(\"thirty\")\n",
    "except (ValueError, TypeError) as e:\n",
    "    print(f\"Error setting age: {e}\")"
   ]
  },
  {
   "cell_type": "markdown",
   "metadata": {},
   "source": [
    "### Custom Exceptions\n",
    "For application-specific errors, it's good practice to create your own exception classes. This makes your error handling more precise. A custom exception is just a class that inherits from Python's base `Exception` class."
   ]
  },
  {
   "cell_type": "code",
   "execution_count": null,
   "metadata": {},
   "outputs": [],
   "source": [
    "# Define a custom exception\n",
    "class InsufficientBalanceError(Exception):\n",
    "    \"\"\"Raised when a withdrawal is attempted with insufficient funds.\"\"\"\n",
    "    pass\n",
    "\n",
    "def withdraw(balance, amount):\n",
    "    if amount > balance:\n",
    "        raise InsufficientBalanceError(f\"Cannot withdraw ${amount}. Balance is only ${balance}.\")\n",
    "    return balance - amount\n",
    "\n",
    "my_balance = 100\n",
    "try:\n",
    "    my_balance = withdraw(my_balance, 50)\n",
    "    print(f\"New balance: {my_balance}\")\n",
    "    my_balance = withdraw(my_balance, 75)\n",
    "except InsufficientBalanceError as e:\n",
    "    print(f\"Transaction failed: {e}\")"
   ]
  },
  {
   "cell_type": "markdown",
   "metadata": {},
   "source": [
    "---"
   ]
  },
  {
   "cell_type": "markdown",
   "metadata": {},
   "source": [
    "## 4. Introduction to Logging\n",
    "\n",
    "Using `print()` for debugging is fine for small scripts, but it's a bad habit for larger applications. The `logging` module is far superior because it allows you to:\n",
    "- **Control Message Severity**: Differentiate between a debug message and a critical error.\n",
    "- **Configure Output**: Easily switch between printing to the console and writing to a file.\n",
    "- **Add Context**: Automatically include timestamps, function names, and line numbers."
   ]
  },
  {
   "cell_type": "markdown",
   "metadata": {},
   "source": [
    "### Logging Levels\n",
    "These are the standard levels, in increasing order of severity:\n",
    "- **`DEBUG`**: Detailed information, typically of interest only when diagnosing problems.\n",
    "- **`INFO`**: Confirmation that things are working as expected.\n",
    "- **`WARNING`**: An indication that something unexpected happened, but the software is still working as expected.\n",
    "- **`ERROR`**: Due to a more serious problem, the software has not been able to perform some function.\n",
    "- **`CRITICAL`**: A very serious error, indicating that the program itself may be unable to continue running."
   ]
  },
  {
   "cell_type": "code",
   "execution_count": null,
   "metadata": {},
   "outputs": [],
   "source": [
    "import logging\n",
    "\n",
    "# Basic configuration: set the minimum level to report and the message format\n",
    "logging.basicConfig(\n",
    "    level=logging.DEBUG, # Log all messages from DEBUG level and up\n",
    "    format='%(asctime)s - %(levelname)s - %(message)s'\n",
    ")\n",
    "\n",
    "logging.debug(\"This is a detailed debug message.\")\n",
    "logging.info(\"Program is starting up...\")\n",
    "logging.warning(\"The 'config.ini' file was not found. Using default settings.\")\n",
    "logging.error(\"Failed to connect to the database.\")\n",
    "logging.critical(\"The application is out of memory and cannot continue.\")"
   ]
  },
  {
   "cell_type": "markdown",
   "metadata": {},
   "source": [
    "### Logging to a File\n",
    "It's often more useful to send logs to a file. You just need to add the `filename` argument to the configuration."
   ]
  },
  {
   "cell_type": "code",
   "execution_count": null,
   "metadata": {},
   "outputs": [],
   "source": [
    "import logging\n",
    "\n",
    "# This will create a file 'app.log' in the same directory\n",
    "logging.basicConfig(\n",
    "    filename='app.log', \n",
    "    filemode='w', # 'w' for overwrite, 'a' for append\n",
    "    level=logging.INFO,\n",
    "    format='%(asctime)s - %(name)s - %(levelname)s - %(message)s'\n",
    ")\n",
    "\n",
    "logging.info(\"This is the first message to the log file.\")\n",
    "try:\n",
    "    result = 10 / 0\n",
    "except ZeroDivisionError:\n",
    "    # exc_info=True automatically adds exception info to the log message\n",
    "    logging.error(\"Division by zero occurred!\", exc_info=True)\n",
    "\n",
    "print(\"Logs have been written to app.log. Check the file!\")"
   ]
  },
  {
   "cell_type": "markdown",
   "metadata": {},
   "source": [
    "🎉 You've now learned how to write resilient code that can handle errors and how to use logging to gain insight into your application's behavior.\n",
    "\n",
    "Next: move to **`Exercise 7.ipynb`** to put these powerful tools into practice."
   ]
  }
 ],
 "metadata": {
  "kernelspec": {
   "display_name": "Python 3",
   "language": "python",
   "name": "python3"
  },
  "language_info": {
   "name": "python",
   "version": "3.12"
  }
 },
 "nbformat": 4,
 "nbformat_minor": 2
}