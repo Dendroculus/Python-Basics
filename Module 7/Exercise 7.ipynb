{
 "cells": [
  {
   "cell_type": "markdown",
   "metadata": {},
   "source": [
    "# 🐞 Module 7: Errors & Logging (Exercises) 🧯\n",
    "\n",
    "Let's practice making our code more robust. These exercises will challenge you to handle different types of errors and implement logging to track your program's behavior.\n",
    "\n",
    "Complete the code in each cell where you see `# TODO:` to match the expected output."
   ]
  },
  {
   "cell_type": "markdown",
   "metadata": {},
   "source": [
    "---"
   ]
  },
  {
   "cell_type": "markdown",
   "metadata": {},
   "source": [
    "### ✏️ Exercise 1: Robust Division Function\n",
    "\n",
    "**Goal**: Handle multiple specific exceptions in a single function.\n",
    "\n",
    "**Task**: Create a function `divide_numbers(a, b)` that attempts to return `a / b`. It should gracefully handle two potential errors:\n",
    "1. `ZeroDivisionError`: If `b` is `0`, it should print an error message.\n",
    "2. `TypeError`: If `a` or `b` are not numbers, it should print a different error message.\n",
    "\n",
    "#### Expected Output:\n",
    "```\n",
    "Result: 5.0\n",
    "Error: Cannot divide by zero.\n",
    "Error: Both inputs must be numbers (integers or floats).\n",
    "```"
   ]
  },
  {
   "cell_type": "code",
   "execution_count": null,
   "metadata": {},
   "outputs": [],
   "source": [
    "def divide_numbers(a, b):\n",
    "    # TODO: Use a try...except block to handle ZeroDivisionError and TypeError\n",
    "    try:\n",
    "        result = a / b\n",
    "        print(f\"Result: {result}\")\n",
    "    except ZeroDivisionError:\n",
    "        pass # Your error message here\n",
    "    except TypeError:\n",
    "        pass # Your error message here\n",
    "\n",
    "# Test cases\n",
    "divide_numbers(10, 2)\n",
    "divide_numbers(10, 0)\n",
    "divide_numbers(10, \"apple\")"
   ]
  },
  {
   "cell_type": "markdown",
   "metadata": {},
   "source": [
    "<details>\n",
    "  <summary>Click here for the solution</summary>\n",
    "\n",
    "  ```python\n",
    "  def divide_numbers(a, b):\n",
    "      try:\n",
    "          result = a / b\n",
    "          print(f\"Result: {result}\")\n",
    "      except ZeroDivisionError:\n",
    "          print(\"Error: Cannot divide by zero.\")\n",
    "      except TypeError:\n",
    "          print(\"Error: Both inputs must be numbers (integers or floats).\")\n",
    "\n",
    "  # Test cases\n",
    "  divide_numbers(10, 2)\n",
    "  divide_numbers(10, 0)\n",
    "  divide_numbers(10, \"apple\")\n",
    "  ```\n",
    "</details>"
   ]
  },
  {
   "cell_type": "markdown",
   "metadata": {},
   "source": [
    "---"
   ]
  },
  {
   "cell_type": "markdown",
   "metadata": {},
   "source": [
    "### ✏️ Exercise 2: Validating User Input with `raise`\n",
    "\n",
    "**Goal**: Use `raise` to enforce rules on function inputs.\n",
    "\n",
    "**Task**: Create a function `create_user_profile(username, age)`.\n",
    "1. It should check if `username` is a string and has a length between 3 and 15 characters. If not, it should `raise` a `ValueError` with an appropriate message.\n",
    "2. It should check if `age` is an integer and is 18 or older. If not, it should `raise` a `ValueError`.\n",
    "3. If both are valid, it should return a dictionary representing the profile.\n",
    "4. Wrap the function calls in a `try...except` block to catch the `ValueError` and print the error message.\n",
    "\n",
    "#### Expected Output:\n",
    "```\n",
    "Profile created: {'username': 'alex_p', 'age': 28}\n",
    "Error creating profile: Username must be between 3 and 15 characters.\n",
    "Error creating profile: Age must be 18 or older.\n",
    "```"
   ]
  },
  {
   "cell_type": "code",
   "execution_count": null,
   "metadata": {},
   "outputs": [],
   "source": [
    "def create_user_profile(username: str, age: int) -> dict:\n",
    "    # TODO: Validate username length (3-15 chars)\n",
    "    \n",
    "    # TODO: Validate age (must be >= 18)\n",
    "    \n",
    "    # TODO: If valid, return the profile dictionary\n",
    "    return {}\n",
    "\n",
    "def run_tests():\n",
    "    test_cases = [(\"alex_p\", 28), (\"bo\", 30), (\"charlie\", 17)]\n",
    "    for user, age in test_cases:\n",
    "        # TODO: Use a try...except block to handle the profile creation\n",
    "        pass\n",
    "\n",
    "run_tests()"
   ]
  },
  {
   "cell_type": "markdown",
   "metadata": {},
   "source": [
    "<details>\n",
    "  <summary>Click here for the solution</summary>\n",
    "\n",
    "  ```python\n",
    "  def create_user_profile(username: str, age: int) -> dict:\n",
    "      if not (3 <= len(username) <= 15):\n",
    "          raise ValueError(\"Username must be between 3 and 15 characters.\")\n",
    "      if not (isinstance(age, int) and age >= 18):\n",
    "          raise ValueError(\"Age must be 18 or older.\")\n",
    "      return {\"username\": username, \"age\": age}\n",
    "\n",
    "  def run_tests():\n",
    "      test_cases = [(\"alex_p\", 28), (\"bo\", 30), (\"charlie\", 17)]\n",
    "      for user, age in test_cases:\n",
    "          try:\n",
    "              profile = create_user_profile(user, age)\n",
    "              print(f\"Profile created: {profile}\")\n",
    "          except ValueError as e:\n",
    "              print(f\"Error creating profile: {e}\")\n",
    "\n",
    "  run_tests()\n",
    "  ```\n",
    "</details>"
   ]
  },
  {
   "cell_type": "markdown",
   "metadata": {},
   "source": [
    "---"
   ]
  },
  {
   "cell_type": "markdown",
   "metadata": {},
   "source": [
    "### ✏️ Exercise 3: Implementing Basic Logging\n",
    "\n",
    "**Goal**: Replace `print` statements with structured logging.\n",
    "\n",
    "**Task**: You have a function `process_data` that currently uses `print`. Modify it to use the `logging` module instead:\n",
    "1. Configure the `logging` module to display messages of `INFO` level and higher. The format should include the timestamp, level name, and message.\n",
    "2. Replace the `print` statements with appropriate logging calls:\n",
    "   - `logging.info()` for status messages.\n",
    "   - `logging.warning()` for non-critical problems.\n",
    "   - `logging.error()` for critical failures.\n",
    "\n",
    "#### Expected Output:\n",
    "```\n",
    "<timestamp> - INFO - Starting data processing for user: admin\n",
    "<timestamp> - WARNING - User 'guest' has limited permissions. Skipping some operations.\n",
    "<timestamp> - INFO - Data processing finished for user: guest\n",
    "<timestamp> - ERROR - Invalid user type encountered: <class 'int'>\n",
    "<timestamp> - INFO - Data processing finished for user: 12345\n",
    "```"
   ]
  },
  {
   "cell_type": "code",
   "execution_count": null,
   "metadata": {},
   "outputs": [],
   "source": [
    "import logging\n",
    "\n",
    "# TODO: Configure basic logging here\n",
    "\n",
    "\n",
    "def process_data(user_id):\n",
    "    # TODO: Log an info message that processing is starting\n",
    "    \n",
    "    if not isinstance(user_id, str):\n",
    "        # TODO: Log an error message about the invalid type\n",
    "        pass\n",
    "    elif user_id == 'guest':\n",
    "        # TODO: Log a warning message about limited permissions\n",
    "        pass\n",
    "    \n",
    "    # TODO: Log an info message that processing has finished\n",
    "\n",
    "# Test cases\n",
    "process_data(\"admin\")\n",
    "process_data(\"guest\")\n",
    "process_data(12345)"
   ]
  },
  {
   "cell_type": "markdown",
   "metadata": {},
   "source": [
    "<details>\n",
    "  <summary>Click here for the solution</summary>\n",
    "\n",
    "  ```python\n",
    "  import logging\n",
    "\n",
    "  logging.basicConfig(\n",
    "      level=logging.INFO,\n",
    "      format='%(asctime)s - %(levelname)s - %(message)s'\n",
    "  )\n",
    "\n",
    "  def process_data(user_id):\n",
    "      logging.info(f\"Starting data processing for user: {user_id}\")\n",
    "      \n",
    "      if not isinstance(user_id, str):\n",
    "          logging.error(f\"Invalid user type encountered: {type(user_id)}\")\n",
    "      elif user_id == 'guest':\n",
    "          logging.warning(f\"User '{user_id}' has limited permissions. Skipping some operations.\")\n",
    "      \n",
    "      logging.info(f\"Data processing finished for user: {user_id}\")\n",
    "\n",
    "  # Test cases\n",
    "  process_data(\"admin\")\n",
    "  process_data(\"guest\")\n",
    "  process_data(12345)\n",
    "  ```\n",
    "</details>"
   ]
  },
  {
   "cell_type": "markdown",
   "metadata": {},
   "source": [
    "---"
   ]
  },
  {
   "cell_type": "markdown",
   "metadata": {},
   "source": [
    "## 🎉 Excellent Work!\n",
    "\n",
    "You've learned how to write programs that don't just work, but are also resilient and observable. Proper error handling and logging are hallmarks of a professional software developer."
   ]
  }
 ],
 "metadata": {
  "kernelspec": {
   "display_name": "Python 3",
   "language": "python",
   "name": "python3"
  },
  "language_info": {
   "name": "python",
   "version": "3.12"
  }
 },
 "nbformat": 4,
 "nbformat_minor": 2
}