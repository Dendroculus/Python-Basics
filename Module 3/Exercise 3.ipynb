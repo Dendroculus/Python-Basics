{
 "cells": [
  {
   "cell_type": "markdown",
   "metadata": {},
   "source": [
    "# 🏗️ Module 3: Data Structures (Exercises) 🧺\n",
    "\n",
    "Welcome to the exercises for Module 3! It's time to apply your knowledge of strings, lists, tuples, sets, and dictionaries.\n",
    "\n",
    "Complete the code in each cell where you see `# TODO:` to match the expected output. You can check your work by looking at the solution in the collapsible section."
   ]
  },
  {
   "cell_type": "markdown",
   "metadata": {},
   "source": [
    "---"
   ]
  },
  {
   "cell_type": "markdown",
   "metadata": {},
   "source": [
    "### ✏️ Exercise 1: String Slicing and Methods\n",
    "\n",
    "**Goal**: Extract and clean specific information from a raw string.\n",
    "\n",
    "**Task**: Given the `log_entry` string, extract the user's name (`\"alex_coder\"`). Then, capitalize it and print a welcome message.\n",
    "\n",
    "#### Expected Output:\n",
    "```\n",
    "Welcome, Alex_coder!\n",
    "```"
   ]
  },
  {
   "cell_type": "code",
   "execution_count": null,
   "metadata": {},
   "outputs": [],
   "source": [
    "log_entry = \"INFO:user='alex_coder';level=5;status=active\"\n",
    "\n",
    "# TODO: Find the start and end index of the username\n",
    "start_index = log_entry.find(\"'\") + 1\n",
    "end_index = log_entry.find(\"';\")\n",
    "\n",
    "# TODO: Slice the string to get the username\n",
    "username = \"\"\n",
    "\n",
    "# TODO: Capitalize the username and print the welcome message\n"
   ]
  },
  {
   "cell_type": "markdown",
   "metadata": {},
   "source": [
    "<details>\n",
    "  <summary>Click here for the solution</summary>\n",
    "\n",
    "  ```python\n",
    "  log_entry = \"INFO:user='alex_coder';level=5;status=active\"\n",
    "\n",
    "  start_index = log_entry.find(\"'\") + 1\n",
    "  end_index = log_entry.find(\"';\")\n",
    "\n",
    "  username = log_entry[start_index:end_index]\n",
    "\n",
    "  print(f\"Welcome, {username.capitalize()}!\")\n",
    "  ```\n",
    "</details>"
   ]
  },
  {
   "cell_type": "markdown",
   "metadata": {},
   "source": [
    "---"
   ]
  },
  {
   "cell_type": "markdown",
   "metadata": {},
   "source": [
    "### ✏️ Exercise 2: List Management\n",
    "\n",
    "**Goal**: Practice modifying a list using its methods.\n",
    "\n",
    "**Task**: You have a list of `tasks`. Perform the following actions:\n",
    "1. Add the task `\"Pay bills\"` to the end of the list.\n",
    "2. Remove the task `\"Go grocery shopping\"` from the list.\n",
    "3. Sort the final list alphabetically.\n",
    "\n",
    "#### Expected Output:\n",
    "```\n",
    "['Clean room', 'Pay bills', 'Study Python']\n",
    "```"
   ]
  },
  {
   "cell_type": "code",
   "execution_count": null,
   "metadata": {},
   "outputs": [],
   "source": [
    "tasks = [\"Study Python\", \"Go grocery shopping\", \"Clean room\"]\n",
    "\n",
    "# TODO: Add \"Pay bills\"\n",
    "\n",
    "# TODO: Remove \"Go grocery shopping\"\n",
    "\n",
    "# TODO: Sort the list\n",
    "\n",
    "print(tasks)"
   ]
  },
  {
   "cell_type": "markdown",
   "metadata": {},
   "source": [
    "<details>\n",
    "  <summary>Click here for the solution</summary>\n",
    "\n",
    "  ```python\n",
    "  tasks = [\"Study Python\", \"Go grocery shopping\", \"Clean room\"]\n",
    "\n",
    "  tasks.append(\"Pay bills\")\n",
    "  tasks.remove(\"Go grocery shopping\")\n",
    "  tasks.sort()\n",
    "\n",
    "  print(tasks)\n",
    "  ```\n",
    "</details>"
   ]
  },
  {
   "cell_type": "markdown",
   "metadata": {},
   "source": [
    "---"
   ]
  },
  {
   "cell_type": "markdown",
   "metadata": {},
   "source": [
    "### ✏️ Exercise 3: Set Operations for Data Analysis\n",
    "\n",
    "**Goal**: Use sets to efficiently find common and unique items between two collections.\n",
    "\n",
    "**Task**: Given two sets of user IDs, find:\n",
    "1. `common_users`: Users who are in *both* the `premium_users` and `active_users` sets.\n",
    "2. `exclusive_premium`: Users who are in the `premium_users` set but *not* in the `active_users` set.\n",
    "\n",
    "#### Expected Output:\n",
    "```\n",
    "Common Users: {'user2', 'user4'}\n",
    "Exclusive Premium Users: {'user1'}\n",
    "```"
   ]
  },
  {
   "cell_type": "code",
   "execution_count": null,
   "metadata": {},
   "outputs": [],
   "source": [
    "premium_users = {\"user1\", \"user2\", \"user4\"}\n",
    "active_users = {\"user2\", \"user3\", \"user4\", \"user5\"}\n",
    "\n",
    "# TODO: Find the intersection of the two sets\n",
    "common_users = set()\n",
    "\n",
    "# TODO: Find the difference between the two sets\n",
    "exclusive_premium = set()\n",
    "\n",
    "print(f\"Common Users: {common_users}\")\n",
    "print(f\"Exclusive Premium Users: {exclusive_premium}\")"
   ]
  },
  {
   "cell_type": "markdown",
   "metadata": {},
   "source": [
    "<details>\n",
    "  <summary>Click here for the solution</summary>\n",
    "\n",
    "  ```python\n",
    "  premium_users = {\"user1\", \"user2\", \"user4\"}\n",
    "  active_users = {\"user2\", \"user3\", \"user4\", \"user5\"}\n",
    "\n",
    "  common_users = premium_users.intersection(active_users)\n",
    "  # Alternative: common_users = premium_users & active_users\n",
    "\n",
    "  exclusive_premium = premium_users.difference(active_users)\n",
    "  # Alternative: exclusive_premium = premium_users - active_users\n",
    "\n",
    "  print(f\"Common Users: {common_users}\")\n",
    "  print(f\"Exclusive Premium Users: {exclusive_premium}\")\n",
    "  ```\n",
    "</details>"
   ]
  },
  {
   "cell_type": "markdown",
   "metadata": {},
   "source": [
    "---"
   ]
  },
  {
   "cell_type": "markdown",
   "metadata": {},
   "source": [
    "### ✏️ Exercise 4: Dictionary for Profile Management\n",
    "\n",
    "**Goal**: Practice accessing, adding, and updating data in a dictionary.\n",
    "\n",
    "**Task**: You have a `user_profile` dictionary. Perform the following actions:\n",
    "1. Update the user's `email` to `\"jane.doe@example.com\"`.\n",
    "2. Add a new key-value pair: `\"city\": \"New York\"`.\n",
    "3. Print the user's name and city in a formatted string.\n",
    "\n",
    "#### Expected Output:\n",
    "```\n",
    "User Jane lives in New York.\n",
    "```"
   ]
  },
  {
   "cell_type": "code",
   "execution_count": null,
   "metadata": {},
   "outputs": [],
   "source": [
    "user_profile = {\n",
    "    \"name\": \"Jane\",\n",
    "    \"email\": \"jane@example.com\",\n",
    "    \"age\": 28\n",
    "}\n",
    "\n",
    "# TODO: Update the email\n",
    "\n",
    "# TODO: Add a city\n",
    "\n",
    "# TODO: Print the summary string using values from the dictionary\n"
   ]
  },
  {
   "cell_type": "markdown",
   "metadata": {},
   "source": [
    "<details>\n",
    "  <summary>Click here for the solution</summary>\n",
    "\n",
    "  ```python\n",
    "  user_profile = {\n",
    "      \"name\": \"Jane\",\n",
    "      \"email\": \"jane@example.com\",\n",
    "      \"age\": 28\n",
    "  }\n",
    "\n",
    "  user_profile[\"email\"] = \"jane.doe@example.com\"\n",
    "  user_profile[\"city\"] = \"New York\"\n",
    "\n",
    "  print(f\"User {user_profile['name']} lives in {user_profile['city']}.\")\n",
    "  ```\n",
    "</details>"
   ]
  },
  {
   "cell_type": "markdown",
   "metadata": {},
   "source": [
    "---"
   ]
  },
  {
   "cell_type": "markdown",
   "metadata": {},
   "source": [
    "## 🎉 Excellent Work!\n",
    "\n",
    "You've successfully managed data using Python's core data structures. Understanding when to use a list, tuple, set, or dictionary is a key skill for any Python developer.\n",
    "\n",
    "**Time to submit your work:**\n",
    "1. Make sure you've saved this notebook.\n",
    "2. Commit your changes to your Git branch.\n",
    "3. Push your branch to GitHub and open a Pull Request for review."
   ]
  }
 ],
 "metadata": {
  "kernelspec": {
   "display_name": "Python 3",
   "language": "python",
   "name": "python3"
  },
  "language_info": {
   "name": "python",
   "version": "3.12"
  }
 },
 "nbformat": 4,
 "nbformat_minor": 2
}