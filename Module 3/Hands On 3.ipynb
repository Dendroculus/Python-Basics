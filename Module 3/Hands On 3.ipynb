{
 "cells": [
  {
   "cell_type": "markdown",
   "metadata": {},
   "source": [
    "# 🧺 Module 3: Data Structures (Concepts & Examples) 🏗️\n",
    "\n",
    "Welcome to Module 3! Data structures are how we organize, store, and manage data. Think of them as different types of containers, each with its own strengths.\n",
    "\n",
    "Run each code cell (Shift+Enter) to see the concepts in action.\n",
    "\n",
    "**Our goals are to understand:**\n",
    "- **Strings (`str`)**: Ordered, immutable text, plus common methods.\n",
    "- **Lists (`list`)**: Ordered, mutable collections, and how to manage them.\n",
    "- **Tuples (`tuple`)**: Ordered, immutable collections.\n",
    "- **Sets (`set`)**: Unordered, unique collections and their operations.\n",
    "- **Dictionaries (`dict`)**: Unordered key-value pairs and safe data access.\n",
    "- **Slicing**: How to access parts of a sequence.\n",
    "- **Mutability**: Which types can be changed and which cannot."
   ]
  },
  {
   "cell_type": "markdown",
   "metadata": {},
   "source": [
    "---"
   ]
  },
  {
   "cell_type": "markdown",
   "metadata": {},
   "source": [
    "## 1. Strings (`str`) - A Deeper Look\n",
    "\n",
    "Strings are sequences of characters. They are **ordered** and **immutable**.\n",
    "\n",
    "### Indexing and Slicing\n",
    "- **Indexing**: Access a single character using `[]`. The first character is at index `0`, the last is at `-1`.\n",
    "- **Slicing**: Access a subsequence using `[start:stop:step]`."
   ]
  },
  {
   "cell_type": "code",
   "execution_count": null,
   "metadata": {},
   "outputs": [],
   "source": [
    "greeting = \"Hello, Python!\"\n",
    "\n",
    "print(f\"First character: {greeting[0]}\")\n",
    "print(f\"Last character: {greeting[-1]}\")\n",
    "print(f\"Slice from index 7 to 12: {greeting[7:13]}\")\n",
    "print(f\"Every second character: {greeting[::2]}\")"
   ]
  },
  {
   "cell_type": "markdown",
   "metadata": {},
   "source": [
    "### Common String Methods\n",
    "Since strings are immutable, these methods don't change the original string; they **return a new, modified string**."
   ]
  },
  {
   "cell_type": "code",
   "execution_count": null,
   "metadata": {},
   "outputs": [],
   "source": [
    "raw_text = \"   welcome to the JUNGLE!   \"\n",
    "\n",
    "# Cleaning and formatting\n",
    "print(f\"Original: '{raw_text}'\")\n",
    "print(f\"Stripped: '{raw_text.strip()}'\")\n",
    "print(f\"Lowercased: '{raw_text.lower()}'\")\n",
    "print(f\"Uppercased: '{raw_text.upper()}'\")\n",
    "print(f\"Capitalized: '{raw_text.strip().capitalize()}'\") # Chaining methods\n",
    "print(f\"Replaced: '{raw_text.replace('JUNGLE', 'world')}'\")\n",
    "\n",
    "# Finding substrings\n",
    "position = raw_text.find('to')\n",
    "print(f\"'to' was found at index: {position}\")"
   ]
  },
  {
   "cell_type": "markdown",
   "metadata": {},
   "source": [
    "---"
   ]
  },
  {
   "cell_type": "markdown",
   "metadata": {},
   "source": [
    "## 2. Lists (`list`) - The All-Rounder\n",
    "\n",
    "Lists are **ordered** and **mutable** collections. They are your go-to for storing a sequence of items that might need to change."
   ]
  },
  {
   "cell_type": "code",
   "execution_count": null,
   "metadata": {},
   "outputs": [],
   "source": [
    "items = [10, 20, 30, 40, 50]\n",
    "print(f\"Original list: {items}, Length: {len(items)}\")\n",
    "\n",
    "# Change an item by index\n",
    "items[1] = 25\n",
    "print(f\"After changing index 1: {items}\")\n",
    "\n",
    "# Add items\n",
    "items.append(60) # Adds to the end\n",
    "print(f\"After appending 60: {items}\")\n",
    "items.insert(2, 99) # Inserts 99 at index 2\n",
    "print(f\"After inserting 99 at index 2: {items}\")\n",
    "\n",
    "# Remove items\n",
    "last_item = items.pop() # Removes and returns the LAST item\n",
    "print(f\"Popped item: {last_item}, List is now: {items}\")\n",
    "items.remove(30) # Removes the FIRST occurrence of a specific value\n",
    "print(f\"After removing 30: {items}\")\n",
    "\n",
    "# Sort the list\n",
    "items.sort(reverse=True)\n",
    "print(f\"Sorted descending: {items}\")"
   ]
  },
  {
   "cell_type": "markdown",
   "metadata": {},
   "source": [
    "---"
   ]
  },
  {
   "cell_type": "markdown",
   "metadata": {},
   "source": [
    "## 3. Tuples (`tuple`) - The Protector\n",
    "\n",
    "Tuples are **ordered** and **immutable**. Use them for data that should not change. They are slightly more memory-efficient than lists."
   ]
  },
  {
   "cell_type": "code",
   "execution_count": null,
   "metadata": {},
   "outputs": [],
   "source": [
    "point = (10.5, 25.3, 5.1) # An (x, y, z) coordinate\n",
    "print(f\"Coordinates: {point}\")\n",
    "print(f\"X-coordinate: {point[0]}\")\n",
    "\n",
    "# This would cause a TypeError! Tuples are immutable.\n",
    "# point[0] = 11.0\n",
    "\n",
    "# Tuples are great for unpacking\n",
    "x, y, z = point\n",
    "print(f\"Unpacked values: x={x}, y={y}, z={z}\")"
   ]
  },
  {
   "cell_type": "markdown",
   "metadata": {},
   "source": [
    "---"
   ]
  },
  {
   "cell_type": "markdown",
   "metadata": {},
   "source": [
    "## 4. Sets (`set`) - The Unique Collector\n",
    "\n",
    "Sets are **unordered**, **mutable** collections that store **unique items**. They are highly optimized for membership testing (`in`) and mathematical set operations."
   ]
  },
  {
   "cell_type": "code",
   "execution_count": null,
   "metadata": {},
   "outputs": [],
   "source": [
    "unique_tags = {\"python\", \"data\", \"code\", \"web\"}\n",
    "print(f\"Original set: {unique_tags}\")\n",
    "\n",
    "# Adding and removing\n",
    "unique_tags.add(\"programming\")\n",
    "unique_tags.remove(\"data\")\n",
    "print(f\"After changes: {unique_tags}\")\n",
    "\n",
    "# Membership testing (very fast)\n",
    "print(f\"Is 'python' in our tags? {'python' in unique_tags}\")\n",
    "print(f\"Is 'java' in our tags? {'java' in unique_tags}\")\n",
    "\n",
    "# Set operations\n",
    "frontend_tags = {\"web\", \"css\", \"javascript\"}\n",
    "backend_tags = {\"python\", \"database\", \"web\"}\n",
    "\n",
    "print(f\"\\nIntersection (common): {frontend_tags.intersection(backend_tags)} or {frontend_tags & backend_tags}\")\n",
    "print(f\"Union (all unique): {frontend_tags.union(backend_tags)} or {frontend_tags | backend_tags}\")\n",
    "print(f\"Difference (in backend, not frontend): {backend_tags.difference(frontend_tags)} or {backend_tags - frontend_tags}\")"
   ]
  },
  {
   "cell_type": "markdown",
   "metadata": {},
   "source": [
    "---"
   ]
  },
  {
   "cell_type": "markdown",
   "metadata": {},
   "source": [
    "## 5. Dictionaries (`dict`) - The Organizer\n",
    "\n",
    "Dictionaries store data in **key-value pairs**. Keys must be unique and immutable (like strings or numbers). Dictionaries are **mutable**."
   ]
  },
  {
   "cell_type": "code",
   "execution_count": null,
   "metadata": {},
   "outputs": [],
   "source": [
    "user = {\n",
    "    \"username\": \"alex_coder\",\n",
    "    \"email\": \"alex@example.com\",\n",
    "    \"level\": 5\n",
    "}\n",
    "\n",
    "# Accessing and adding/updating data\n",
    "print(f\"User's email: {user['email']}\")\n",
    "user[\"is_active\"] = True # Add new key-value pair\n",
    "user[\"level\"] = 6       # Update existing value\n",
    "print(f\"Updated user: {user}\")\n",
    "\n",
    "# Safely accessing data with .get()\n",
    "# This avoids an error if the key doesn't exist\n",
    "city = user.get(\"city\", \"Unknown\") # Returns 'Unknown' if 'city' key is not found\n",
    "print(f\"User's city: {city}\")\n",
    "\n",
    "# Getting keys, values, or both\n",
    "print(f\"All keys: {list(user.keys())}\")\n",
    "print(f\"All values: {list(user.values())}\")"
   ]
  },
  {
   "cell_type": "markdown",
   "metadata": {},
   "source": [
    "---"
   ]
  },
  {
   "cell_type": "markdown",
   "metadata": {},
   "source": [
    "## 6. Mutability vs. Immutability\n",
    "\n",
    "- **Mutable** objects can be changed in place (their ID remains the same). E.g., `list`, `set`, `dict`.\n",
    "- **Immutable** objects cannot be changed. Any \"change\" creates a brand new object in memory (with a new ID). E.g., `str`, `tuple`, `int`."
   ]
  },
  {
   "cell_type": "code",
   "execution_count": null,
   "metadata": {},
   "outputs": [],
   "source": [
    "# Mutable example: list\n",
    "my_list = [1, 2, 3]\n",
    "print(f\"List before change: {my_list} (ID: {id(my_list)})\")\n",
    "my_list.append(4)\n",
    "print(f\"List after change:  {my_list} (ID: {id(my_list)})\") # ID is the same!\n",
    "\n",
    "# Immutable example: string\n",
    "my_string = \"hello\"\n",
    "print(f\"\\nString before change: {my_string} (ID: {id(my_string)})\")\n",
    "my_string = my_string.upper()\n",
    "print(f\"String after change:  {my_string} (ID: {id(my_string)})\") # ID is different!"
   ]
  },
  {
   "cell_type": "markdown",
   "metadata": {},
   "source": [
    "---\n",
    "## 🧭 Summary Table\n",
    "\n",
    "| Data Structure | Ordered? | Mutable? | Example |\n",
    "| :--- | :---: | :---: | :--- |\n",
    "| String (`str`) | Yes | No | `\"hello\"` |\n",
    "| List (`list`) | Yes | Yes | `[1, 2, 3]` |\n",
    "| Tuple (`tuple`) | Yes | No | `(1, 2, 3)` |\n",
    "| Set (`set`) | No | Yes | `{1, 2, 3}` |\n",
    "| Dictionary (`dict`) | No* | Yes | `{\"key\": \"value\"}` |\n",
    "\n",
    "_*As of Python 3.7+, dictionaries maintain insertion order, but this is an implementation detail, not a language guarantee. It's best not to rely on it for core logic._\n",
    "\n",
    "🎉 Great work! You’ve finished **Module 3 — Data Structures**. Next: move to `Exercise 3.ipynb` to practice!"
   ]
  }
 ],
 "metadata": {
  "kernelspec": {
   "display_name": "Python 3",
   "language": "python",
   "name": "python3"
  },
  "language_info": {
   "name": "python",
   "version": "3.12"
  }
 },
 "nbformat": 4,
 "nbformat_minor": 2
}