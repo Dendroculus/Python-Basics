{
 "cells": [
  {
   "cell_type": "markdown",
   "metadata": {},
   "source": [
    "# 🧩 Module 4: Functions & Types (Concepts & Examples) 🛠️\n",
    "\n",
    "Welcome to Module 4! Functions are the primary way we organize code into reusable, logical blocks. They take input, perform actions, and produce output, making our programs modular, easier to read, and less repetitive.\n",
    "\n",
    "**Our goals are to understand:**\n",
    "- **Defining Functions**: The `def` keyword and function naming.\n",
    "- **Parameters vs. Arguments**: Positional, keyword, and default arguments.\n",
    "- **Return Values**: Using `return` to send data back.\n",
    "- **Docstrings**: How to properly document your functions.\n",
    "- **Type Hints**: Making your code clearer and safer.\n",
    "- **Variable Scope**: Local vs. Global variables.\n",
    "- **Special Arguments**: `*args` and `**kwargs` for flexibility."
   ]
  },
  {
   "cell_type": "markdown",
   "metadata": {},
   "source": [
    "---"
   ]
  },
  {
   "cell_type": "markdown",
   "metadata": {},
   "source": [
    "## 1. Defining a Simple Function\n",
    "\n",
    "A function is defined with the `def` keyword, followed by a name, parentheses `()`, and a colon `:`. The code inside the function must be indented.\n",
    "\n",
    "Think of it like defining a recipe: you give it a name and list the steps to follow."
   ]
  },
  {
   "cell_type": "code",
   "execution_count": null,
   "metadata": {},
   "outputs": [],
   "source": [
    "# Defining the function\n",
    "def say_hello():\n",
    "    print(\"Hello, welcome to the world of functions!\")\n",
    "\n",
    "# Calling the function to execute its code\n",
    "print(\"Before calling the function...\")\n",
    "say_hello()\n",
    "print(\"After calling the function.\")"
   ]
  },
  {
   "cell_type": "markdown",
   "metadata": {},
   "source": [
    "---"
   ]
  },
  {
   "cell_type": "markdown",
   "metadata": {},
   "source": [
    "## 2. Parameters and Arguments\n",
    "\n",
    "Functions become truly useful when they can process data we give them.\n",
    "\n",
    "- **Parameter**: The variable name inside the function's parentheses (the ingredient in the recipe).\n",
    "- **Argument**: The actual value you pass to the function when you call it (the specific ingredient you use)."
   ]
  },
  {
   "cell_type": "code",
   "execution_count": null,
   "metadata": {},
   "outputs": [],
   "source": [
    "# 'name' is a parameter\n",
    "def greet(name):\n",
    "    print(f\"Hello, {name}!\")\n",
    "\n",
    "# 'Alice' and 'Bob' are arguments\n",
    "greet(\"Alice\")\n",
    "greet(\"Bob\")"
   ]
  },
  {
   "cell_type": "markdown",
   "metadata": {},
   "source": [
    "### Positional vs. Keyword Arguments\n",
    "You can pass arguments in two ways:"
   ]
  },
  {
   "cell_type": "code",
   "execution_count": null,
   "metadata": {},
   "outputs": [],
   "source": [
    "def describe_pet(animal_type, pet_name):\n",
    "    print(f\"I have a {animal_type} named {pet_name}.\")\n",
    "\n",
    "# 1. Positional arguments (order matters)\n",
    "describe_pet(\"hamster\", \"Harry\")\n",
    "\n",
    "# 2. Keyword arguments (order doesn't matter)\n",
    "describe_pet(pet_name=\"Willy\", animal_type=\"whale\")"
   ]
  },
  {
   "cell_type": "markdown",
   "metadata": {},
   "source": [
    "### Default Argument Values\n",
    "You can provide a default value for a parameter, making it optional when the function is called."
   ]
  },
  {
   "cell_type": "code",
   "execution_count": null,
   "metadata": {},
   "outputs": [],
   "source": [
    "# 'country' has a default value\n",
    "def describe_city(city, country=\"Norway\"):\n",
    "    print(f\"{city} is in {country}.\")\n",
    "\n",
    "describe_city(\"Reykjavik\", \"Iceland\") # Overwrites the default\n",
    "describe_city(\"Oslo\") # Uses the default value"
   ]
  },
  {
   "cell_type": "markdown",
   "metadata": {},
   "source": [
    "---"
   ]
  },
  {
   "cell_type": "markdown",
   "metadata": {},
   "source": [
    "## 3. The `return` Statement\n",
    "\n",
    "So far, our functions have only printed text. To get a value *back* from a function, we use the `return` statement. This is essential for using the result of a function in other parts of your code."
   ]
  },
  {
   "cell_type": "code",
   "execution_count": null,
   "metadata": {},
   "outputs": [],
   "source": [
    "def square(number):\n",
    "    return number * number\n",
    "\n",
    "# The function call becomes the returned value\n",
    "result = square(5)\n",
    "print(f\"The square of 5 is {result}.\")\n",
    "\n",
    "another_result = square(12) + 8\n",
    "print(f\"Another calculation: {another_result}\")"
   ]
  },
  {
   "cell_type": "markdown",
   "metadata": {},
   "source": [
    "### Returning Multiple Values\n",
    "You can return multiple values from a function. Python automatically packs them into a tuple."
   ]
  },
  {
   "cell_type": "code",
   "execution_count": null,
   "metadata": {},
   "outputs": [],
   "source": [
    "def get_user_info():\n",
    "    name = \"Alex\"\n",
    "    age = 30\n",
    "    city = \"San Francisco\"\n",
    "    return name, age, city\n",
    "\n",
    "user_data = get_user_info()\n",
    "print(f\"Returned data: {user_data}\")\n",
    "print(f\"Type of returned data: {type(user_data)}\")\n",
    "\n",
    "# We can unpack the tuple directly\n",
    "user_name, user_age, user_city = get_user_info()\n",
    "print(f\"{user_name} is {user_age} and lives in {user_city}.\")"
   ]
  },
  {
   "cell_type": "markdown",
   "metadata": {},
   "source": [
    "---"
   ]
  },
  {
   "cell_type": "markdown",
   "metadata": {},
   "source": [
    "## 4. Docstrings & Type Hints\n",
    "\n",
    "Writing clear code is essential. Docstrings and type hints are two powerful tools for documenting and clarifying your functions.\n",
    "\n",
    "- **Docstrings**: A string literal that appears as the first line in a function definition. It explains what the function does.\n",
    "- **Type Hints**: Annotations that suggest the expected data types for parameters and return values."
   ]
  },
  {
   "cell_type": "code",
   "execution_count": null,
   "metadata": {},
   "outputs": [],
   "source": [
    "import math\n",
    "\n",
    "def calculate_circle_area(radius: float) -> float:\n",
    "    \"\"\"Calculates the area of a circle given its radius.\n",
    "\n",
    "    Args:\n",
    "        radius (float): The radius of the circle. Must be a positive number.\n",
    "\n",
    "    Returns:\n",
    "        float: The calculated area of the circle.\n",
    "    \"\"\"\n",
    "    if radius < 0:\n",
    "        return 0.0 # Or raise an error, a more advanced topic\n",
    "    return math.pi * (radius ** 2)\n",
    "\n",
    "# Now the function is much easier to understand!\n",
    "area = calculate_circle_area(10.0)\n",
    "print(f\"Area: {area:.2f}\")\n",
    "\n",
    "# You can access the docstring with help()\n",
    "# help(calculate_circle_area)"
   ]
  },
  {
   "cell_type": "markdown",
   "metadata": {},
   "source": [
    "---"
   ]
  },
  {
   "cell_type": "markdown",
   "metadata": {},
   "source": [
    "## 5. Variable Scope\n",
    "\n",
    "A variable's **scope** determines where it can be accessed.\n",
    "- **Local Scope**: Variables created inside a function are only accessible within that function.\n",
    "- **Global Scope**: Variables created outside of any function are accessible from anywhere in the script."
   ]
  },
  {
   "cell_type": "code",
   "execution_count": null,
   "metadata": {},
   "outputs": [],
   "source": [
    "global_var = \"I am global\"\n",
    "\n",
    "def my_function():\n",
    "    local_var = \"I am local\"\n",
    "    print(local_var) # This works\n",
    "    print(global_var) # This also works\n",
    "\n",
    "my_function()\n",
    "\n",
    "print(global_var) # This works\n",
    "# The line below would cause a NameError because local_var is out of scope\n",
    "# print(local_var)"
   ]
  },
  {
   "cell_type": "markdown",
   "metadata": {},
   "source": [
    "---"
   ]
  },
  {
   "cell_type": "markdown",
   "metadata": {},
   "source": [
    "## 6. Flexible Arguments: `*args` and `**kwargs`\n",
    "\n",
    "Sometimes you don't know how many arguments a function will receive.\n",
    "\n",
    "- **`*args`**: Packs all extra positional arguments into a **tuple**.\n",
    "- **`**kwargs`**: Packs all extra keyword arguments into a **dictionary**."
   ]
  },
  {
   "cell_type": "code",
   "execution_count": null,
   "metadata": {},
   "outputs": [],
   "source": [
    "# Using *args to accept any number of positional arguments\n",
    "def add_all(*numbers):\n",
    "    print(f\"Arguments received as a tuple: {numbers}\")\n",
    "    return sum(numbers)\n",
    "\n",
    "print(f\"Sum: {add_all(1, 2, 3)}\")\n",
    "print(f\"Sum: {add_all(10, 20, 30, 40, 50)}\")\n",
    "\n",
    "# Using **kwargs to accept any number of keyword arguments\n",
    "def display_user_profile(**user_info):\n",
    "    print(f\"\\nArguments received as a dictionary: {user_info}\")\n",
    "    for key, value in user_info.items():\n",
    "        print(f\"- {key.title()}: {value}\")\n",
    "\n",
    "display_user_profile(name=\"Chris\", age=40, city=\"Boston\")"
   ]
  },
  {
   "cell_type": "markdown",
   "metadata": {},
   "source": [
    "🎉 Great work! You’ve mastered the core concepts of functions in Python. They are the most important organizational tool you'll use.\n",
    "\n",
    "Next: move to **`Exercise 4.ipynb`** to practice what you've learned!"
   ]
  }
 ],
 "metadata": {
  "kernelspec": {
   "display_name": "Python 3",
   "language": "python",
   "name": "python3"
  },
  "language_info": {
   "name": "python",
   "version": "3.12"
  }
 },
 "nbformat": 4,
 "nbformat_minor": 2
}