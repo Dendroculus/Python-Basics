{
 "cells": [
  {
   "cell_type": "markdown",
   "metadata": {},
   "source": [
    "# 🛠️ Module 4: Functions & Types (Exercises) 🧩\n",
    "\n",
    "Time to build! These exercises will test your ability to define and use functions effectively.\n",
    "\n",
    "Complete the code in each cell where you see `# TODO:` to match the expected output. Check your work against the solution in the collapsible section."
   ]
  },
  {
   "cell_type": "markdown",
   "metadata": {},
   "source": [
    "---"
   ]
  },
  {
   "cell_type": "markdown",
   "metadata": {},
   "source": [
    "### ✏️ Exercise 1: Basic Greeting Function\n",
    "\n",
    "**Goal**: Create a simple function that takes an argument and returns a formatted string.\n",
    "\n",
    "**Task**: Define a function `create_greeting` that takes one argument, `name`. The function should return the string `\"Hello, {name}! Welcome.\"`. Call the function with your name and print the result.\n",
    "\n",
    "#### Expected Output (for `name = \"Alex\"`):\n",
    "```\n",
    "Hello, Alex! Welcome.\n",
    "```"
   ]
  },
  {
   "cell_type": "code",
   "execution_count": null,
   "metadata": {},
   "outputs": [],
   "source": [
    "# TODO: Define the create_greeting function here\n",
    "def create_greeting(name):\n",
    "    # TODO: Return the formatted string\n",
    "    pass\n",
    "\n",
    "# TODO: Call the function and print its return value\n",
    "my_greeting = \"\"\n",
    "print(my_greeting)"
   ]
  },
  {
   "cell_type": "markdown",
   "metadata": {},
   "source": [
    "<details>\n",
    "  <summary>Click here for the solution</summary>\n",
    "\n",
    "  ```python\n",
    "  def create_greeting(name):\n",
    "      return f\"Hello, {name}! Welcome.\"\n",
    "\n",
    "  my_greeting = create_greeting(\"Alex\")\n",
    "  print(my_greeting)\n",
    "  ```\n",
    "</details>"
   ]
  },
  {
   "cell_type": "markdown",
   "metadata": {},
   "source": [
    "---"
   ]
  },
  {
   "cell_type": "markdown",
   "metadata": {},
   "source": [
    "### ✏️ Exercise 2: Rectangle Area with Defaults and Docs\n",
    "\n",
    "**Goal**: Write a function with default arguments, a docstring, and type hints.\n",
    "\n",
    "**Task**: Define a function `calculate_area` that calculates the area of a rectangle.\n",
    "1. It should accept two parameters: `length` and `width`.\n",
    "2. Give `width` a default value of `10.0`.\n",
    "3. Add type hints: both parameters should be `float`, and the return value should be a `float`.\n",
    "4. Write a clear docstring explaining what the function does, its parameters, and what it returns.\n",
    "5. Call the function once with both arguments, and once using the default width.\n",
    "\n",
    "#### Expected Output:\n",
    "```\n",
    "Area with custom width: 75.0\n",
    "Area with default width: 50.0\n",
    "```"
   ]
  },
  {
   "cell_type": "code",
   "execution_count": null,
   "metadata": {},
   "outputs": [],
   "source": [
    "# TODO: Define the calculate_area function with type hints, a docstring, and a default value\n",
    "def calculate_area(): # Add parameters here\n",
    "    \"\"\"Your docstring goes here.\"\"\"\n",
    "    pass\n",
    "\n",
    "# TODO: Call the function with two arguments and print the result\n",
    "area1 = 0.0\n",
    "print(f\"Area with custom width: {area1}\")\n",
    "\n",
    "# TODO: Call the function with one argument and print the result\n",
    "area2 = 0.0\n",
    "print(f\"Area with default width: {area2}\")"
   ]
  },
  {
   "cell_type": "markdown",
   "metadata": {},
   "source": [
    "<details>\n",
    "  <summary>Click here for the solution</summary>\n",
    "\n",
    "  ```python\n",
    "  def calculate_area(length: float, width: float = 10.0) -> float:\n",
    "      \"\"\"Calculates the area of a rectangle.\n",
    "\n",
    "      Args:\n",
    "          length (float): The length of the rectangle.\n",
    "          width (float): The width of the rectangle. Defaults to 10.0.\n",
    "\n",
    "      Returns:\n",
    "          float: The calculated area (length * width).\n",
    "      \"\"\"\n",
    "      return length * width\n",
    "\n",
    "  area1 = calculate_area(length=7.5, width=10.0)\n",
    "  print(f\"Area with custom width: {area1}\")\n",
    "\n",
    "  area2 = calculate_area(length=5.0)\n",
    "  print(f\"Area with default width: {area2}\")\n",
    "  ```\n",
    "</details>"
   ]
  },
  {
   "cell_type": "markdown",
   "metadata": {},
   "source": [
    "---"
   ]
  },
  {
   "cell_type": "markdown",
   "metadata": {},
   "source": [
    "### ✏️ Exercise 3: Return Multiple Values\n",
    "\n",
    "**Goal**: Create a function that returns more than one piece of information.\n",
    "\n",
    "**Task**: Define a function `analyze_list` that takes a list of numbers. It should calculate and return both the **sum** and the **average** of the numbers in the list. Unpack the returned values into two separate variables and print them.\n",
    "\n",
    "#### Expected Output (for `data = [10, 20, 30, 40, 50]`):\n",
    "```\n",
    "Sum: 150\n",
    "Average: 30.0\n",
    "```"
   ]
  },
  {
   "cell_type": "code",
   "execution_count": null,
   "metadata": {},
   "outputs": [],
   "source": [
    "from typing import List, Tuple\n",
    "\n",
    "def analyze_list(numbers: List[float]) -> Tuple[float, float]:\n",
    "    \"\"\"Calculates the sum and average of a list of numbers.\"\"\"\n",
    "    # TODO: Calculate the sum\n",
    "    list_sum = 0.0\n",
    "\n",
    "    # TODO: Calculate the average (handle the case of an empty list to avoid errors!)\n",
    "    list_avg = 0.0\n",
    "\n",
    "    # TODO: Return both values\n",
    "    return 0.0, 0.0\n",
    "\n",
    "data = [10, 20, 30, 40, 50]\n",
    "# TODO: Unpack the returned values from the function call\n",
    "total, average = 0, 0\n",
    "\n",
    "print(f\"Sum: {total}\")\n",
    "print(f\"Average: {average}\")"
   ]
  },
  {
   "cell_type": "markdown",
   "metadata": {},
   "source": [
    "<details>\n",
    "  <summary>Click here for the solution</summary>\n",
    "\n",
    "  ```python\n",
    "  from typing import List, Tuple\n",
    "\n",
    "  def analyze_list(numbers: List[float]) -> Tuple[float, float]:\n",
    "      \"\"\"Calculates the sum and average of a list of numbers.\"\"\"\n",
    "      if not numbers: # Handle empty list\n",
    "          return 0.0, 0.0\n",
    "\n",
    "      list_sum = sum(numbers)\n",
    "      list_avg = list_sum / len(numbers)\n",
    "\n",
    "      return list_sum, list_avg\n",
    "\n",
    "  data = [10, 20, 30, 40, 50]\n",
    "  total, average = analyze_list(data)\n",
    "\n",
    "  print(f\"Sum: {total}\")\n",
    "  print(f\"Average: {average}\")\n",
    "  ```\n",
    "</details>"
   ]
  },
  {
   "cell_type": "markdown",
   "metadata": {},
   "source": [
    "---"
   ]
  },
  {
   "cell_type": "markdown",
   "metadata": {},
   "source": [
    "### ✏️ Exercise 4: Flexible Arguments with `*args`\n",
    "\n",
    "**Goal**: Write a function that can accept a variable number of arguments.\n",
    "\n",
    "**Task**: Define a function `multiply_all` that accepts any number of positional arguments and returns their product. If no arguments are given, it should return `1`.\n",
    "\n",
    "#### Expected Output:\n",
    "```\n",
    "Product of (2, 3, 4): 24\n",
    "Product of (10, 2): 20\n",
    "Product of (): 1\n",
    "```"
   ]
  },
  {
   "cell_type": "code",
   "execution_count": null,
   "metadata": {},
   "outputs": [],
   "source": [
    "# TODO: Define the multiply_all function using *args\n",
    "def multiply_all(*args):\n",
    "    # TODO: Initialize a variable to hold the running product\n",
    "    \n",
    "    # TODO: Loop through the args and multiply them\n",
    "    \n",
    "    # TODO: Return the final product\n",
    "    pass\n",
    "\n",
    "print(f\"Product of (2, 3, 4): {multiply_all(2, 3, 4)}\")\n",
    "print(f\"Product of (10, 2): {multiply_all(10, 2)}\")\n",
    "print(f\"Product of (): {multiply_all()}\")"
   ]
  },
  {
   "cell_type": "markdown",
   "metadata": {},
   "source": [
    "<details>\n",
    "  <summary>Click here for the solution</summary>\n",
    "\n",
    "  ```python\n",
    "  def multiply_all(*numbers):\n",
    "      product = 1\n",
    "      for num in numbers:\n",
    "          product *= num\n",
    "      return product\n",
    "\n",
    "  print(f\"Product of (2, 3, 4): {multiply_all(2, 3, 4)}\")\n",
    "  print(f\"Product of (10, 2): {multiply_all(10, 2)}\")\n",
    "  print(f\"Product of (): {multiply_all()}\")\n",
    "  ```\n",
    "</details>"
   ]
  },
  {
   "cell_type": "markdown",
   "metadata": {},
   "source": [
    "## 🎉 Excellent Work!\n",
    "\n",
    "You've built a solid foundation in creating and using functions. This skill is absolutely essential for writing clean, maintainable, and powerful Python programs."
   ]
  }
 ],
 "metadata": {
  "kernelspec": {
   "display_name": "Python 3",
   "language": "python",
   "name": "python3"
  },
  "language_info": {
   "name": "python",
   "version": "3.12"
  }
 },
 "nbformat": 4,
 "nbformat_minor": 2
}