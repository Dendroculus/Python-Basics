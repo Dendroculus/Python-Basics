{
 "cells": [
  {
   "cell_type": "markdown",
   "metadata": {},
   "source": [
    "# 🚀 Module 1: Python Basics I (Exercises) 🧱\n",
    "\n",
    "Welcome to the exercises for Module 1! This notebook will guide you through practicing the fundamental concepts of Python. Each section includes an explanation, a task, and an example of the expected output.\n",
    "\n",
    "Your goal is to fill in the code cells where you see `# TODO:` to match the expected output."
   ]
  },
  {
   "cell_type": "markdown",
   "metadata": {},
   "source": [
    "---"
   ]
  },
  {
   "cell_type": "markdown",
   "metadata": {},
   "source": [
    "## 1. Printing Output with `print()` 🖨️\n",
    "\n",
    "### Explanation\n",
    "The `print()` function is the most basic way to see the output of your code. You can give it text (a \"string\"), numbers, or variables, and it will display them in the output area. Text must be enclosed in quotes (`\"` or `'`)."
   ]
  },
  {
   "cell_type": "markdown",
   "metadata": {},
   "source": [
    "### Your Turn: Print an Introduction\n",
    "\n",
    "Write code in the cell below to:\n",
    "1. Print your name.\n",
    "2. Print your favorite hobby.\n",
    "\n",
    "#### Expected Output:\n",
    "```\n",
    "My name is Alex\n",
    "My favorite hobby is coding\n",
    "```"
   ]
  },
  {
   "cell_type": "code",
   "execution_count": null,
   "metadata": {},
   "outputs": [],
   "source": [
    "# TODO: Print your name on one line\n",
    "\n",
    "# TODO: Print your favorite hobby on the next line\n"
   ]
  },
  {
   "cell_type": "markdown",
   "metadata": {},
   "source": [
    "<details>\n",
    "  <summary>Click here for the solution</summary>\n",
    "  \n",
    "  ```python\n",
    "  print(\"My name is Alex\")\n",
    "  print(\"My favorite hobby is coding\")\n",
    "  ```\n",
    "</details>"
   ]
  },
  {
   "cell_type": "markdown",
   "metadata": {},
   "source": [
    "---"
   ]
  },
  {
   "cell_type": "markdown",
   "metadata": {},
   "source": [
    "## 2. Variables and Data Types 📦\n",
    "\n",
    "### Explanation\n",
    "A **variable** is a name that acts as a container for a value, assigned with `=`. The **data type** refers to the kind of data being stored.\n",
    "\n",
    "- **`int`**: Whole numbers (e.g., `100`).\n",
    "- **`float`**: Numbers with decimals (e.g., `1.88`).\n",
    "- **`str`**: Textual data, in quotes (e.g., `\"Captain Coder\"`).\n",
    "- **`bool`**: Represents `True` or `False`."
   ]
  },
  {
   "cell_type": "markdown",
   "metadata": {},
   "source": [
    "### Your Turn: Store Your Profile\n",
    "\n",
    "Create variables to store the following information about a fictional character, then print each variable.\n",
    "1. `character_name` (a string)\n",
    "2. `character_age` (an integer)\n",
    "3. `character_height_meters` (a float)\n",
    "4. `is_a_hero` (a boolean)\n",
    "\n",
    "#### Expected Output:\n",
    "```\n",
    "Captain Coder\n",
    "35\n",
    "1.88\n",
    "True\n",
    "```"
   ]
  },
  {
   "cell_type": "code",
   "execution_count": null,
   "metadata": {},
   "outputs": [],
   "source": [
    "# TODO: Create the four variables: character_name, character_age, character_height_meters, is_a_hero\n",
    "\n",
    "# TODO: Print each variable on a new line to check your work\n"
   ]
  },
  {
   "cell_type": "markdown",
   "metadata": {},
   "source": [
    "<details>\n",
    "  <summary>Click here for the solution</summary>\n",
    "  \n",
    "  ```python\n",
    "  character_name = \"Captain Coder\"\n",
    "  character_age = 35\n",
    "  character_height_meters = 1.88\n",
    "  is_a_hero = True\n",
    "\n",
    "  print(character_name)\n",
    "  print(character_age)\n",
    "  print(character_height_meters)\n",
    "  print(is_a_hero)\n",
    "  ```\n",
    "</details>"
   ]
  },
  {
   "cell_type": "markdown",
   "metadata": {},
   "source": [
    "---"
   ]
  },
  {
   "cell_type": "markdown",
   "metadata": {},
   "source": [
    "## 3. Math Operations ➕➖✖️➗\n",
    "\n",
    "### Explanation\n",
    "Python uses standard math operators: `+`, `-`, `*`, `/`. Remember `*` is for multiplication and `/` is for division."
   ]
  },
  {
   "cell_type": "markdown",
   "metadata": {},
   "source": [
    "### Your Turn: Simple Shopping Trip\n",
    "\n",
    "You're buying some items from a store.\n",
    "1. Create variables for `apple_price` (value: 5) and `orange_price` (value: 6).\n",
    "2. Calculate the `total_cost` of buying 3 apples and 2 oranges.\n",
    "3. You pay with `money_given` of 50. Calculate the `change_due`.\n",
    "\n",
    "#### Expected Output:\n",
    "```\n",
    "Total cost of items: 27\n",
    "Change due: 23\n",
    "```"
   ]
  },
  {
   "cell_type": "code",
   "execution_count": null,
   "metadata": {},
   "outputs": [],
   "source": [
    "# TODO: Define prices\n",
    "\n",
    "# TODO: Calculate total cost\n",
    "\n",
    "# TODO: Calculate change\n",
    "\n",
    "# TODO: Print the total cost and change due\n"
   ]
  },
  {
   "cell_type": "markdown",
   "metadata": {},
   "source": [
    "<details>\n",
    "  <summary>Click here for the solution</summary>\n",
    "  \n",
    "  ```python\n",
    "  apple_price = 5\n",
    "  orange_price = 6\n",
    "\n",
    "  total_cost = (3 * apple_price) + (2 * orange_price)\n",
    "\n",
    "  money_given = 50\n",
    "  change_due = money_given - total_cost\n",
    "\n",
    "  print(\"Total cost of items:\", total_cost)\n",
    "  print(\"Change due:\", change_due)\n",
    "  ```\n",
    "</details>"
   ]
  },
  {
   "cell_type": "markdown",
   "metadata": {},
   "source": [
    "---"
   ]
  },
  {
   "cell_type": "markdown",
   "metadata": {},
   "source": [
    "## 4. Strings and F-Strings 🧵\n",
    "\n",
    "### Explanation\n",
    "An **f-string** is a modern way to format strings. By putting an `f` before the opening quote, you can embed variables and expressions directly inside curly braces `{}`."
   ]
  },
  {
   "cell_type": "markdown",
   "metadata": {},
   "source": [
    "### Your Turn: Profile Summary\n",
    "\n",
    "Using the character variables you created in Exercise 2, print a summary sentence using a single f-string.\n",
    "\n",
    "#### Expected Output:\n",
    "```\n",
    "Captain Coder is a 35-year-old hero who is 1.88 meters tall.\n",
    "```"
   ]
  },
  {
   "cell_type": "code",
   "execution_count": null,
   "metadata": {},
   "outputs": [],
   "source": [
    "# (Variables from Exercise 2 are still available in this notebook's memory)\n",
    "# character_name = \"Captain Coder\"\n",
    "# character_age = 35\n",
    "# character_height_meters = 1.88\n",
    "# is_a_hero = True\n",
    "\n",
    "# TODO: Create and print the summary sentence using one f-string\n"
   ]
  },
  {
   "cell_type": "markdown",
   "metadata": {},
   "source": [
    "<details>\n",
    "  <summary>Click here for the solution</summary>\n",
    "  \n",
    "  ```python\n",
    "  profile_summary = f\"{character_name} is a {character_age}-year-old hero who is {character_height_meters} meters tall.\"\n",
    "  print(profile_summary)\n",
    "  ```\n",
    "</details>"
   ]
  },
  {
   "cell_type": "markdown",
   "metadata": {},
   "source": [
    "---"
   ]
  },
  {
   "cell_type": "markdown",
   "metadata": {},
   "source": [
    "## 5. User Input with `input()` ⌨️\n",
    "\n",
    "### Explanation\n",
    "The `input()` function waits for the user to type something and press Enter. It **always returns the input as a string**. To do math, you must convert it to a number with `int()` or `float()`."
   ]
  },
  {
   "cell_type": "markdown",
   "metadata": {},
   "source": [
    "### Your Turn: Unit Converter (Miles to Kilometers)\n",
    "\n",
    "1. Ask the user to enter a number of miles.\n",
    "2. Convert their input to a float.\n",
    "3. Calculate the distance in kilometers (1 mile = 1.60934 km).\n",
    "4. Print the result, formatted to two decimal places.\n",
    "\n",
    "#### Expected Output (if user enters 10):\n",
    "```\n",
    "Enter a distance in miles: 10\n",
    "10.0 miles is equal to 16.09 km.\n",
    "```"
   ]
  },
  {
   "cell_type": "code",
   "execution_count": null,
   "metadata": {},
   "outputs": [],
   "source": [
    "# TODO: Your code here\n",
    "# You will need input(), float(), and print() with an f-string.\n"
   ]
  },
  {
   "cell_type": "markdown",
   "metadata": {},
   "source": [
    "<details>\n",
    "  <summary>Click here for the solution</summary>\n",
    "  \n",
    "  ```python\n",
    "  print(\"--- Miles to Kilometers Converter ---\")\n",
    "\n",
    "  # 1. Ask for input\n",
    "  miles_str = input(\"Enter a distance in miles: \")\n",
    "\n",
    "  # 2. Convert to float\n",
    "  miles = float(miles_str)\n",
    "\n",
    "  # 3. Calculate kilometers\n",
    "  conversion_factor = 1.60934\n",
    "  kilometers = miles * conversion_factor\n",
    "\n",
    "  # 4. Print the result\n",
    "  print(f\"{miles} miles is equal to {kilometers:.2f} km.\")\n",
    "  ```\n",
    "</details>"
   ]
  },
  {
   "cell_type": "markdown",
   "metadata": {},
   "source": [
    "---"
   ]
  },
  {
   "cell_type": "markdown",
   "metadata": {},
   "source": [
    "## 🏗️ Final Mini-Project: Simple Receipt Formatter\n",
    "\n",
    "Combine everything to create a formatted receipt. This will test your knowledge of variables, math, and f-string formatting for alignment.\n",
    "\n",
    "1. You are given three items with their prices and quantities.\n",
    "2. Calculate the subtotal, tax amount (use a tax rate of 8%), and the final total.\n",
    "3. Print everything in a neatly aligned receipt format.\n",
    "\n",
    "#### Expected Output:\n",
    "```\n",
    "-----------------------------------\n",
    "         STORE RECEIPT         \n",
    "-----------------------------------\n",
    "Item             Qty      Price\n",
    "...................................\n",
    "Book               1      $12.99\n",
    "Pen                3       $4.50\n",
    "Notebook           2       $8.00\n",
    "-----------------------------------\n",
    "Subtotal:                  $25.49\n",
    "Tax (8%):                   $2.04\n",
    "Total:                     $27.53\n",
    "-----------------------------------\n",
    "```"
   ]
  },
  {
   "cell_type": "code",
   "execution_count": null,
   "metadata": {},
   "outputs": [],
   "source": [
    "# Item data (You don't need to change this part)\n",
    "item1_name, item1_price, item1_qty = \"Book\", 12.99, 1\n",
    "item2_name, item2_price, item2_qty = \"Pen\", 1.50, 3\n",
    "item3_name, item3_price, item3_qty = \"Notebook\", 4.00, 2\n",
    "tax_rate = 0.08 # 8%\n",
    "\n",
    "# TODO: Perform your calculations for subtotal, tax_amount, and final_total\n",
    "\n",
    "# TODO: Print the formatted receipt using f-strings for alignment\n",
    "# Hint: Use alignment like {variable:<15} (left), {variable:^5} (center), and {variable:>10.2f} (right, 2 decimals)\n"
   ]
  },
  {
   "cell_type": "markdown",
   "metadata": {},
   "source": [
    "<details>\n",
    "  <summary>Click here for the solution</summary>\n",
    "  \n",
    "  ```python\n",
    "  subtotal = (item1_price * item1_qty) + (item2_price * item2_qty) + (item3_price * item3_qty)\n",
    "  tax_amount = subtotal * tax_rate\n",
    "  final_total = subtotal + tax_amount\n",
    "\n",
    "  print(\"-\" * 35)\n",
    "  print(\"         STORE RECEIPT         \")\n",
    "  print(\"-\" * 35)\n",
    "  print(f\"{'Item':<15} {'Qty':^5} {'Price':>10}\")\n",
    "  print(\".\" * 35)\n",
    "  print(f\"{item1_name:<15} {item1_qty:^5} ${item1_price * item1_qty:>9.2f}\")\n",
    "  print(f\"{item2_name:<15} {item2_qty:^5} ${item2_price * item2_qty:>9.2f}\")\n",
    "  print(f\"{item3_name:<15} {item3_qty:^5} ${item3_price * item3_qty:>9.2f}\")\n",
    "  print(\"-\" * 35)\n",
    "  print(f\"{'Subtotal:':<21} ${subtotal:>9.2f}\")\n",
    "  print(f\"{'Tax (8%):':<21} ${tax_amount:>9.2f}\")\n",
    "  print(f\"{'Total:':<21} ${final_total:>9.2f}\")\n",
    "  print(\"-\" * 35)\n",
    "  ```\n",
    "</details>"
   ]
  },
  {
   "cell_type": "markdown",
   "metadata": {},
   "source": [
    "---"
   ]
  },
  {
   "cell_type": "markdown",
   "metadata": {},
   "source": [
    "## 🎉 Well Done!\n",
    "\n",
    "You've completed all the exercises for Module 1! You now have hands-on experience with the most fundamental building blocks of Python.\n",
    "\n",
    "**Don't forget to:**\n",
    "1. Save this notebook.\n",
    "2. Commit your changes to your Git branch.\n",
    "3. Push the branch to GitHub and open a Pull Request!"
   ]
  }
 ],
 "metadata": {
  "kernelspec": {
   "display_name": "Python 3",
   "language": "python",
   "name": "python3"
  },
  "language_info": {
   "codemirror_mode": {
    "name": "ipython",
    "version": 3
   },
   "file_extension": ".py",
   "mimetype": "text/x-python",
   "name": "python",
   "nbconvert_exporter": "python",
   "pygments_lexer": "ipython3",
   "version": "3.12.0"
  }
 },
 "nbformat": 4,
 "nbformat_minor": 2
}
