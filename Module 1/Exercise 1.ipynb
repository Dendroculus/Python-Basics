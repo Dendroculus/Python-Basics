{
 "cells": [
  {
   "cell_type": "markdown",
   "metadata": {},
   "source": [
    "# 🧱 Module 1 — Python Basics: Exercises (Hidden Solutions)\n",
    "\n",
    "This workbook matches the topics in your hands-on lesson: **syntax, variables & types, numbers & math, strings (basic), input/output, and comments**.\n",
    "\n",
    "**How this notebook is structured**:\n",
    "- Each exercise has a clear explanation and an empty code cell labeled **Your attempt**.\n",
    "- A **hidden solution** follows each exercise. To view it, click **Show solution** (the collapsible section). The solution is shown as a code snippet — it will not run unless you copy it into a code cell.\n",
    "\n",
    "This keeps the terminal clean (no printed answers) while making solutions available on demand. Enjoy! 🚀"
   ]
  },
  {
   "cell_type": "markdown",
   "metadata": {},
   "source": [
    "---\n",
    "## Exercise 1 — Print & `print()` basics (syntax)\n",
    "\n",
    "**Goal:** Learn how to print multiple items, change the separator, and change the `end` behavior.\n",
    "\n",
    "**Task:** Using a single `print()` call, print these three items: `Name`, `2025`, and `Python` separated by ` | ` (space-pipe-space). After those items, end the output with ` <-- end` instead of a newline.\n",
    "\n",
    "**Why this matters:** `sep` controls how `print` joins items; `end` controls what `print` appends after the items. These options are useful for formatting quick console output.\n"
   ]
  },
  {
   "cell_type": "code",
   "execution_count": null,
   "metadata": {},
   "outputs": [
    {
     "name": "stdout",
     "output_type": "stream",
     "text": [
      "Name | 2025 | Python <-- end"
     ]
    }
   ],
   "source": [
    "# Your attempt — Exercise 1\n",
    "# Write one print() statement below that meets the task requirements\n"
   ]
  },
  {
   "cell_type": "markdown",
   "metadata": {},
   "source": [
    "<details>\n",
    "<summary><strong>Show solution</strong></summary>\n",
    "\n",
    "```python\n",
    "# Solution (click to reveal)\n",
    "print('Name', 2025, 'Python', sep=' | ', end=' <-- end')\n",
    "```\n",
    "\n",
    "</details>"
   ]
  },
  {
   "cell_type": "markdown",
   "metadata": {},
   "source": [
    "---\n",
    "## Exercise 2 — Variables, Types & f-strings\n",
    "\n",
    "**Goal:** Create variables of different types and format them into a readable sentence with an f-string.\n",
    "\n",
    "**Task:** Create three variables: `pet_name` (string), `pet_age` (integer), and `is_cute` (boolean). Then print a single sentence using an **f-string** that says: `Meet <pet_name>: age <pet_age>, cute? <is_cute>`.\n",
    "\n",
    "**Why this matters:** Variables store values; `type()` helps you inspect their types; f-strings make formatting easy and readable.\n"
   ]
  },
  {
   "cell_type": "code",
   "execution_count": 2,
   "metadata": {},
   "outputs": [],
   "source": [
    "# Your attempt — Exercise 2\n",
    "# Define pet_name, pet_age, is_cute and print the requested f-string\n"
   ]
  },
  {
   "cell_type": "markdown",
   "metadata": {},
   "source": [
    "<details>\n",
    "<summary><strong>Show solution</strong></summary>\n",
    "\n",
    "```python\n",
    "# Solution (click to reveal)\n",
    "pet_name = 'Mochi'\n",
    "pet_age = 3\n",
    "is_cute = true\n",
    "print(f'Meet {pet_name}: age {pet_age}, cute? {is_cute}')\n",
    "# You can also inspect types: type(pet_name), type(pet_age), type(is_cute)\n",
    "```\n",
    "\n",
    "</details>"
   ]
  },
  {
   "cell_type": "markdown",
   "metadata": {},
   "source": [
    "---\n",
    "## Exercise 3 — Numbers & Math (operations + formatting)\n",
    "\n",
    "**Goal:** Compute simple interest and format numeric output.\n",
    "\n",
    "**Task:** Given `principal = 1500`, `rate = 0.05` (annual), and `time = 2` (years) compute `final = principal + (principal * rate * time)`. Print the final value rounded to 2 decimal places. Then compute the monthly average by dividing by `months = time * 12` and print that number rounded to 2 decimals using an f-string.\n",
    "\n",
    "**Why this matters:** Learn arithmetic operators, order of operations, and number formatting with format specifiers.\n"
   ]
  },
  {
   "cell_type": "code",
   "execution_count": 3,
   "metadata": {},
   "outputs": [],
   "source": [
    "# Your attempt — Exercise 3\n",
    "# Compute `final` and `monthly` and print them with 2 decimal places\n"
   ]
  },
  {
   "cell_type": "markdown",
   "metadata": {},
   "source": [
    "<details>\n",
    "<summary><strong>Show solution</strong></summary>\n",
    "\n",
    "```python\n",
    "# Solution (click to reveal)\n",
    "principal = 1500\n",
    "rate = 0.05\n",
    "time = 2\n",
    "final = principal + (principal * rate * time)\n",
    "print(f'Final amount: ${final:.2f}')\n",
    "months = time * 12\n",
    "monthly = final / months\n",
    "print(f'Monthly average: ${monthly:.2f}')\n",
    "```\n",
    "\n",
    "</details>"
   ]
  },
  {
   "cell_type": "markdown",
   "metadata": {},
   "source": [
    "---\n",
    "## Exercise 4 — Strings: methods & concatenation (no slicing)\n",
    "\n",
    "**Goal:** Use basic string methods to clean text and perform concatenation.\n",
    "\n",
    "**Task:** Given `text = '   Hello|World|Python   '`, produce `clean` so it becomes `'hello world python'` by chaining `.strip()`, `.replace()`, and `.lower()`. Then extract the first word using `.split()` and create `greeting` by concatenating `'Hi'`, a space, and that first word. Print `greeting` with an exclamation using an f-string. (Note: we avoid slicing/indexing entirely.)\n",
    "\n",
    "**Why this matters:** Real inputs often need cleaning; string methods are safe and expressive. `.split()` is a simple way to separate words without manual indexing.\n"
   ]
  },
  {
   "cell_type": "code",
   "execution_count": 4,
   "metadata": {},
   "outputs": [],
   "source": [
    "# Your attempt — Exercise 4\n",
    "text = '   Hello|World|Python   '\n",
    "# Create `clean` and `greeting` as instructed\n"
   ]
  },
  {
   "cell_type": "markdown",
   "metadata": {},
   "source": [
    "<details>\n",
    "<summary><strong>Show solution</strong></summary>\n",
    "\n",
    "```python\n",
    "# Solution (click to reveal)\n",
    "text = '   Hello|World|Python   '\n",
    "clean = text.strip().replace('|', ' ').lower()\n",
    "first_word = clean.split()[0]  # safe way to get first word\n",
    "greeting = 'Hi' + ' ' + first_word\n",
    "print(f'{greeting}!')\n",
    "```\n",
    "\n",
    "</details>"
   ]
  },
  {
   "cell_type": "markdown",
   "metadata": {},
   "source": [
    "---\n",
    "## Exercise 5 — Input / Output (interactive-friendly)\n",
    "\n",
    "**Goal:** Use `input()`, and convert its result to a numeric type when needed.\n",
    "\n",
    "**Task:** Create a program that asks the user for their name and how many hours they code per week. Convert the hours to an integer and print: `'<name> codes <hours> hours per week'` using an f-string.\n",
    "\n",
    "**Note:** If your environment is not interactive (e.g., some automated graders or static runners), keep the input lines commented and provide example fallback values. The hidden solution below shows both approaches.\n"
   ]
  },
  {
   "cell_type": "code",
   "execution_count": 5,
   "metadata": {},
   "outputs": [
    {
     "name": "stdout",
     "output_type": "stream",
     "text": [
      "Alex codes 10 hours per week\n"
     ]
    }
   ],
   "source": [
    "# Your attempt — Exercise 5\n",
    "# Uncomment the lines below to run interactively:\n",
    "# name = input(\"What's your name? \")\n",
    "# hours = int(input(\"How many hours do you code per week? \"))\n",
    "# print(f\"{name} codes {hours} hours per week\")\n",
    "\n",
    "# If not interactive, set example values:\n",
    "name = 'Alex'\n",
    "hours = 10\n",
    "print(f'{name} codes {hours} hours per week')\n"
   ]
  },
  {
   "cell_type": "markdown",
   "metadata": {},
   "source": [
    "<details>\n",
    "<summary><strong>Show solution</strong></summary>\n",
    "\n",
    "```python\n",
    "# Solution (click to reveal)\n",
    "# Interactive version:\n",
    "# name = input(\"What's your name? \")\n",
    "# hours = int(input(\"How many hours do you code per week? \"))\n",
    "# print(f\"{name} codes {hours} hours per week\")\n",
    "\n",
    "# Non-interactive fallback:\n",
    "name = 'Alex'\n",
    "hours = 10\n",
    "print(f'{name} codes {hours} hours per week')\n",
    "```\n",
    "\n",
    "</details>"
   ]
  },
  {
   "cell_type": "markdown",
   "metadata": {},
   "source": [
    "---\n",
    "## Exercise 6 — Comments & Naming (style)\n",
    "\n",
    "**Goal:** Use comments to explain code and prefer descriptive variable names.\n",
    "\n",
    "**Task:** Below there is a variable `x = 42`. Add a comment that explains what the variable represents (use a meaningful doc-style comment), then rename `x` to `answer_to_everything` and print it.\n"
   ]
  },
  {
   "cell_type": "code",
   "execution_count": 6,
   "metadata": {},
   "outputs": [],
   "source": [
    "# Your attempt — Exercise 6\n",
    "x = 42\n",
    "# Add a descriptive comment above and rename the variable, then print it\n"
   ]
  },
  {
   "cell_type": "markdown",
   "metadata": {},
   "source": [
    "<details>\n",
    "<summary><strong>Show solution</strong></summary>\n",
    "\n",
    "```python\n",
    "# Solution (click to reveal)\n",
    "# This variable stores the (humorous) answer to life, the universe, and everything\n",
    "answer_to_everything = 42\n",
    "print(answer_to_everything)\n",
    "```\n",
    "\n",
    "</details>"
   ]
  },
  {
   "cell_type": "markdown",
   "metadata": {},
   "source": [
    "---\n",
    "## Exercise 7 — Mini Challenge (combine concepts)\n",
    "\n",
    "**Goal:** Combine input, numeric conversion, arithmetic, and f-strings in one small program.\n",
    "\n",
    "**Task:** Write a program that:\n",
    "1. Asks for the user's name (or uses a fallback).\n",
    "2. Asks for `principal` (float), `annual_rate` (percent as a number), and `years` (int).\n",
    "3. Converts `annual_rate` to decimal and computes `final = principal + (principal * rate_decimal * years)` (simple interest).\n",
    "4. Prints a friendly summary sentence using an f-string with the final amount rounded to 2 decimals.\n",
    "\n",
    "Provide a non-interactive example so the cell runs anywhere.\n"
   ]
  },
  {
   "cell_type": "code",
   "execution_count": 7,
   "metadata": {},
   "outputs": [
    {
     "name": "stdout",
     "output_type": "stream",
     "text": [
      "Alex, after 2 years at 5.0% simple interest, your $1000.00 becomes $1100.00.\n"
     ]
    }
   ],
   "source": [
    "# Your attempt — Exercise 7\n",
    "# Uncomment and run interactively if you want:\n",
    "# name = input(\"What's your name? \")\n",
    "# principal = float(input(\"Principal amount? \"))\n",
    "# annual_rate = float(input(\"Annual rate (percent)? \"))\n",
    "# years = int(input(\"Years? \"))\n",
    "# rate_decimal = annual_rate / 100\n",
    "# final = principal + (principal * rate_decimal * years)\n",
    "# print(f\"{name}, after {years} years at {annual_rate}% simple interest, your ${principal:.2f} becomes ${final:.2f}.\")\n",
    "\n",
    "# Non-interactive example:\n",
    "name = 'Alex'\n",
    "principal = 1000.0\n",
    "annual_rate = 5.0\n",
    "years = 2\n",
    "rate_decimal = annual_rate / 100\n",
    "final = principal + (principal * rate_decimal * years)\n",
    "print(f'{name}, after {years} years at {annual_rate}% simple interest, your ${principal:.2f} becomes ${final:.2f}.')\n"
   ]
  },
  {
   "cell_type": "markdown",
   "metadata": {},
   "source": [
    "## 🎉 Excellent Work!\n",
    "\n",
    "You have now mastered the art of controlling your Python Basics. These concepts are the foundation upon which all complex applications are built.\n",
    "\n",
    "**Time to submit your work:**\n",
    "1. Make sure you've saved this notebook.\n",
    "2. Commit your changes to your Git branch.\n",
    "3. Push your branch to GitHub and open a Pull Request for review."
   ]
  }
 ],
 "metadata": {
  "kernelspec": {
   "display_name": "Python 3",
   "language": "python",
   "name": "python3"
  },
  "language_info": {
   "codemirror_mode": {
    "name": "ipython",
    "version": 3
   },
   "file_extension": ".py",
   "mimetype": "text/x-python",
   "name": "python",
   "nbconvert_exporter": "python",
   "pygments_lexer": "ipython3",
   "version": "3.13.8"
  }
 },
 "nbformat": 4,
 "nbformat_minor": 2
}
