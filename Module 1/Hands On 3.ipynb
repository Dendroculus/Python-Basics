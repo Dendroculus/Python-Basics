{
 "cells": [
  {
   "cell_type": "markdown",
   "metadata": {},
   "source": [
    "# 🚀 Module 1: Additional Practice & Mini-Projects 🧱\n",
    "\n",
    "Welcome to some extra practice for Module 1! These exercises are designed to help you strengthen your understanding of variables, math, strings, and user input by applying them to new problems.\n",
    "\n",
    "Let's dive in! 🌟"
   ]
  },
  {
   "cell_type": "markdown",
   "metadata": {},
   "source": [
    "---"
   ]
  },
  {
   "cell_type": "markdown",
   "metadata": {},
   "source": [
    "## 1. Variables: The Great Swap\n",
    "\n",
    "A classic programming puzzle is to swap the values of two variables. Let's try it."
   ]
  },
  {
   "cell_type": "markdown",
   "metadata": {},
   "source": [
    "### ✏️ Exercise 1.1: Swap the values\n",
    "\n",
    "Given `a = 10` and `b = 20`, write code to swap their values so that `a` becomes 20 and `b` becomes 10. \n",
    "\n",
    "**Hint**: You might need a third, temporary variable to hold one of the values."
   ]
  },
  {
   "cell_type": "code",
   "execution_count": null,
   "metadata": {},
   "outputs": [],
   "source": [
    "a = 10\n",
    "b = 20\n",
    "\n",
    "print(f\"Before swap: a = {a}, b = {b}\")\n",
    "\n",
    "# TODO: Your code to swap the variables here\n",
    "temp = a\n",
    "a = b\n",
    "b = temp\n",
    "\n",
    "print(f\"After swap: a = {a}, b = {b}\")\n",
    "\n",
    "# Fun fact: Python has a cool shortcut for this!\n",
    "# a, b = b, a"
   ]
  },
  {
   "cell_type": "markdown",
   "metadata": {},
   "source": [
    "---"
   ]
  },
  {
   "cell_type": "markdown",
   "metadata": {},
   "source": [
    "## 2. Math & Numbers: Simple Interest Calculator\n",
    "\n",
    "Let's practice math with a real-world formula."
   ]
  },
  {
   "cell_type": "markdown",
   "metadata": {},
   "source": [
    "### ✏️ Exercise 2.1: Calculate Simple Interest\n",
    "\n",
    "The formula for simple interest is `Interest = Principal * Rate * Time`.\n",
    "- Create variables for `principal` (initial amount), `rate` (annual interest rate as a decimal), and `time` (in years).\n",
    "- Calculate the `interest` earned.\n",
    "- Calculate the `final_amount` (principal + interest).\n",
    "- Print the results in a clear, formatted way."
   ]
  },
  {
   "cell_type": "code",
   "execution_count": null,
   "metadata": {},
   "outputs": [],
   "source": [
    "# TODO: Your code here\n",
    "principal = 1000  # e.g., $1000\n",
    "rate = 0.05     # e.g., 5% annual interest\n",
    "time = 3        # e.g., 3 years\n",
    "\n",
    "# Calculate the interest and final amount\n",
    "interest = principal * rate * time\n",
    "final_amount = principal + interest\n",
    "\n",
    "# Print the results\n",
    "print(\"--- Simple Interest Calculation ---\")\n",
    "print(f\"Initial Principal: ${principal:.2f}\")\n",
    "print(f\"Interest Rate: {rate * 100:.0f}%\")\n",
    "print(f\"Time Period: {time} years\")\n",
    "print(\"-\" * 35)\n",
    "print(f\"Interest Earned: ${interest:.2f}\")\n",
    "print(f\"Final Amount: ${final_amount:.2f}\")"
   ]
  },
  {
   "cell_type": "markdown",
   "metadata": {},
   "source": [
    "---"
   ]
  },
  {
   "cell_type": "markdown",
   "metadata": {},
   "source": [
    "## 3. Strings & Formatting: Data Cleanup\n",
    "\n",
    "A very common task in programming is cleaning up messy text data."
   ]
  },
  {
   "cell_type": "markdown",
   "metadata": {},
   "source": [
    "### ✏️ Exercise 3.1: Clean a log entry\n",
    "\n",
    "You are given a messy log string. Your task is to clean it up and extract the useful information.\n",
    "1. Remove the leading/trailing whitespace.\n",
    "2. Replace the pipe `|` separators with commas `,`.\n",
    "3. Convert the entire message to lowercase.\n",
    "4. Print the final, cleaned string."
   ]
  },
  {
   "cell_type": "code",
   "execution_count": null,
   "metadata": {},
   "outputs": [],
   "source": [
    "messy_log = \"   INFO|UserLoggedIn|UserID=12345   \\n\"\n",
    "\n",
    "# TODO: Your code here\n",
    "# Step 1: Remove whitespace\n",
    "stripped_log = messy_log.strip()\n",
    "\n",
    "# Step 2: Replace pipes with commas\n",
    "replaced_log = stripped_log.replace(\"|\", \",\")\n",
    "\n",
    "# Step 3: Convert to lowercase\n",
    "cleaned_log = replaced_log.lower()\n",
    "\n",
    "# Step 4: Print the result\n",
    "print(f\"Original: {messy_log!r}\") # !r shows the hidden characters like \\n\n",
    "print(f\"Cleaned:  {cleaned_log}\")"
   ]
  },
  {
   "cell_type": "markdown",
   "metadata": {},
   "source": [
    "---"
   ]
  },
  {
   "cell_type": "markdown",
   "metadata": {},
   "source": [
    "## 4. User Input: Mini Mad Libs\n",
    "\n",
    "Let's make a fun, interactive story generator."
   ]
  },
  {
   "cell_type": "markdown",
   "metadata": {},
   "source": [
    "### ✏️ Exercise 4.1: Create a Mad Libs story\n",
    "\n",
    "1. Ask the user for three words: a **noun**, a **verb**, and an **adjective**.\n",
    "2. Store each word in its own variable.\n",
    "3. Plug their words into the `story` f-string below to create a funny sentence.\n",
    "4. Print the final story."
   ]
  },
  {
   "cell_type": "code",
   "execution_count": null,
   "metadata": {},
   "outputs": [],
   "source": [
    "# TODO: Your code here (uncomment to run)\n",
    "# print(\"--- Mini Mad Libs ---\")\n",
    "\n",
    "# 1. Ask for user input\n",
    "# noun = input(\"Enter a noun (e.g., 'dragon', 'car'): \")\n",
    "# verb = input(\"Enter a verb (e.g., 'sings', 'jumps'): \")\n",
    "# adjective = input(\"Enter an adjective (e.g., 'silly', 'blue'): \")\n",
    "\n",
    "# 2. Create the story using an f-string\n",
    "# story = f\"The {adjective} {noun} suddenly {verb} across the room!\"\n",
    "\n",
    "# 3. Print the final story\n",
    "# print(\"\\nHere is your story:\")\n",
    "# print(story)"
   ]
  },
  {
   "cell_type": "markdown",
   "metadata": {},
   "source": [
    "---"
   ]
  },
  {
   "cell_type": "markdown",
   "metadata": {},
   "source": [
    "## 🏗️ Combined Mini-Project: Tip Calculator\n",
    "\n",
    "Let's build a practical tool that combines everything: input, type conversion, math, and formatted output."
   ]
  },
  {
   "cell_type": "markdown",
   "metadata": {},
   "source": [
    "### ✏️ Project: Build the Tip Calculator\n",
    "\n",
    "Create a script that calculates the total amount for a meal, including a tip.\n",
    "1. Ask the user for the `bill_total`.\n",
    "2. Ask the user for the `tip_percentage` they want to leave (e.g., 15, 18, 20).\n",
    "3. Convert both inputs to `float`s.\n",
    "4. Calculate the `tip_amount`.\n",
    "5. Calculate the `total_bill`.\n",
    "6. Print all the details in a nicely formatted summary."
   ]
  },
  {
   "cell_type": "code",
   "execution_count": null,
   "metadata": {},
   "outputs": [],
   "source": [
    "# TODO: Your code here (uncomment to run)\n",
    "# print(\"--- Tip Calculator ---\")\n",
    "\n",
    "# 1 & 2: Ask for input\n",
    "# bill_total_str = input(\"What was the total bill? $\")\n",
    "# tip_percentage_str = input(\"What percentage tip would you like to give? (e.g., 15)? \")\n",
    "\n",
    "# 3: Convert to floats\n",
    "# bill_total = float(bill_total_str)\n",
    "# tip_percentage = float(tip_percentage_str)\n",
    "\n",
    "# 4: Calculate tip amount\n",
    "# tip_amount = bill_total * (tip_percentage / 100)\n",
    "\n",
    "# 5: Calculate total bill\n",
    "# total_bill = bill_total + tip_amount\n",
    "\n",
    "# 6: Print the summary\n",
    "# print(\"\\n--- Your Bill Summary ---\")\n",
    "# print(f\"Bill Amount: ${bill_total:.2f}\")\n",
    "# print(f\"Tip ({tip_percentage:.0f}%): ${tip_amount:.2f}\")\n",
    "# print(\"-\" * 25)\n",
    "# print(f\"Total to Pay: ${total_bill:.2f}\")\n",
    "# print(\"-------------------------\")"
   ]
  },
  {
   "cell_type": "markdown",
   "metadata": {},
   "source": [
    "---"
   ]
  },
  {
   "cell_type": "markdown",
   "metadata": {},
   "source": [
    "## 🎉 You Did It!\n",
    "\n",
    "You've completed the additional practice for Module 1. These exercises have given you even more experience with the core building blocks of Python.\n",
    "\n",
    "**Remember your workflow:** Save, commit, push, and open that Pull Request!"
   ]
  }
 ],
 "metadata": {
  "kernelspec": {
   "display_name": "Python 3",
   "language": "python",
   "name": "python3"
  },
  "language_info": {
   "codemirror_mode": {
    "name": "ipython",
    "version": 3
   },
   "file_extension": ".py",
   "mimetype": "text/x-python",
   "name": "python",
   "nbconvert_exporter": "python",
   "pygments_lexer": "ipython3",
   "version": "3.12.0"
  }
 },
 "nbformat": 4,
 "nbformat_minor": 2
}