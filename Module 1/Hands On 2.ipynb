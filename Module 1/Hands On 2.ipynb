{
 "cells": [
  {
   "cell_type": "markdown",
   "metadata": {},
   "source": [
    "# Module 1 — Python Basics I 🧱\n",
    "\n",
    "Welcome! In this notebook you will practice the very basics of Python:\n",
    "- Syntax and running code\n",
    "- Variables and simple data types (numbers, strings, booleans)\n",
    "- Math with numbers\n",
    "- Working with strings (join, slice, basic methods)\n",
    "- Input and output (print and input)\n",
    "\n",
    "Keep it simple, try each exercise, and have fun! 🌟"
   ]
  },
  {
   "cell_type": "markdown",
   "metadata": {},
   "source": [
    "## How to use this notebook\n",
    "1. Click a cell and press Shift+Enter to run it (or click the Run ▶️ button).\n",
    "2. Do the exercises in the cells marked \"Your Turn\".\n",
    "3. Use `print(...)` to see your values.\n",
    "4. If something breaks, don't worry—read the error and try again."
   ]
  },
  {
   "cell_type": "code",
   "execution_count": 1,
   "metadata": {},
   "outputs": [
    {
     "name": "stdout",
     "output_type": "stream",
     "text": [
      "Python version: 3.13.8 (tags/v3.13.8:a15ae61, Oct  7 2025, 12:34:25) [MSC v.1944 64 bit (AMD64)]\n",
      "All set! ✅\n"
     ]
    }
   ],
   "source": [
    "# Quick check: your Python version (no need to change anything)\n",
    "import sys\n",
    "print(\"Python version:\", sys.version)\n",
    "print(\"All set! ✅\")"
   ]
  },
  {
   "cell_type": "markdown",
   "metadata": {},
   "source": [
    "---\n",
    "## 1) Syntax and print 🖨️\n",
    "Python runs code line by line. Use `print()` to show output."
   ]
  },
  {
   "cell_type": "code",
   "execution_count": 2,
   "metadata": {},
   "outputs": [
    {
     "name": "stdout",
     "output_type": "stream",
     "text": [
      "Hello, Astral Family! 🚀\n",
      "5\n",
      "2 + 3 = 5\n"
     ]
    }
   ],
   "source": [
    "# Example\n",
    "print(\"Hello, Astral Family! 🚀\")\n",
    "print(2 + 3)\n",
    "print(\"2 + 3 =\", 2 + 3)"
   ]
  },
  {
   "cell_type": "markdown",
   "metadata": {},
   "source": [
    "### Your Turn\n",
    "- Print your name on one line.\n",
    "- Print a fun fact about yourself on another line."
   ]
  },
  {
   "cell_type": "code",
   "execution_count": 3,
   "metadata": {
    "tags": [
     "exercise"
    ]
   },
   "outputs": [
    {
     "name": "stdout",
     "output_type": "stream",
     "text": [
      "My name is ...\n",
      "Fun fact: ...\n"
     ]
    }
   ],
   "source": [
    "# TODO: print your name and a fun fact\n",
    "print(\"My name is ...\")\n",
    "print(\"Fun fact: ...\")"
   ]
  },
  {
   "cell_type": "markdown",
   "metadata": {},
   "source": [
    "---\n",
    "## 2) Variables and types 📦\n",
    "A variable stores a value. Python figures out the type from the value.\n",
    "\n",
    "Common types now:\n",
    "- int → whole numbers (e.g., 7)\n",
    "- float → decimals (e.g., 3.14)\n",
    "- str → text (e.g., \"hello\")\n",
    "- bool → True/False\n",
    "\n",
    "Use `type(value)` to see the type."
   ]
  },
  {
   "cell_type": "code",
   "execution_count": 4,
   "metadata": {},
   "outputs": [
    {
     "name": "stdout",
     "output_type": "stream",
     "text": [
      "16 <class 'int'>\n",
      "1.7 <class 'float'>\n",
      "Alex <class 'str'>\n",
      "True <class 'bool'>\n"
     ]
    }
   ],
   "source": [
    "# Examples\n",
    "age = 16\n",
    "height_m = 1.70\n",
    "first_name = \"Alex\"\n",
    "is_student = True\n",
    "\n",
    "print(age, type(age))\n",
    "print(height_m, type(height_m))\n",
    "print(first_name, type(first_name))\n",
    "print(is_student, type(is_student))"
   ]
  },
  {
   "cell_type": "markdown",
   "metadata": {},
   "source": [
    "### Your Turn\n",
    "Create these variables and pick any values you like:\n",
    "- `city` (str), `year` (int), `temperature_c` (float), `likes_python` (bool)\n",
    "Then print them nicely on one line using an f-string, like: `City: Cairo | Year: 2025 | Temp: 26.5°C | Likes Python: True`"
   ]
  },
  {
   "cell_type": "code",
   "execution_count": 5,
   "metadata": {
    "tags": [
     "exercise"
    ]
   },
   "outputs": [
    {
     "name": "stdout",
     "output_type": "stream",
     "text": [
      "City:  | Year: 0 | Temp: 0.0°C | Likes Python: False\n"
     ]
    }
   ],
   "source": [
    "# TODO: make the variables and print one formatted line\n",
    "city = \"\"\n",
    "year = 0\n",
    "temperature_c = 0.0\n",
    "likes_python = False\n",
    "\n",
    "print(f\"City: {city} | Year: {year} | Temp: {temperature_c}°C | Likes Python: {likes_python}\")"
   ]
  },
  {
   "cell_type": "markdown",
   "metadata": {},
   "source": [
    "---\n",
    "## 3) Numbers and math ➕➖✖️➗\n",
    "Basic operators:\n",
    "- `+` add, `-` subtract, `*` multiply, `/` divide (gives float)\n",
    "- `//` integer division, `%` remainder, `**` power\n",
    "\n",
    "You can change types: `int(3.9)` → 3, `float(3)` → 3.0\n",
    "Use parentheses to control order: `(2 + 3) * 4`"
   ]
  },
  {
   "cell_type": "code",
   "execution_count": 6,
   "metadata": {},
   "outputs": [
    {
     "name": "stdout",
     "output_type": "stream",
     "text": [
      "13\n",
      "3.3333333333333335\n",
      "3\n",
      "1\n",
      "32\n",
      "3 3.0\n"
     ]
    }
   ],
   "source": [
    "# Examples\n",
    "print(10 + 3)\n",
    "print(10 / 3)\n",
    "print(10 // 3)\n",
    "print(10 % 3)\n",
    "print(2 ** 5)\n",
    "\n",
    "x = 3.9\n",
    "print(int(x), float(3))  # 3 3.0"
   ]
  },
  {
   "cell_type": "markdown",
   "metadata": {},
   "source": [
    "### Your Turn: Small café bill ☕\n",
    "- Set `coffee_price` and `cake_price` to any numbers you want.\n",
    "- Set `tax_rate` (for example 0.1 for 10%).\n",
    "- Compute `subtotal`, `tax`, and `total`.\n",
    "- Print: `Subtotal: $.. | Tax: $.. | Total: $..` (format to 2 decimals)."
   ]
  },
  {
   "cell_type": "code",
   "execution_count": 7,
   "metadata": {
    "tags": [
     "exercise"
    ]
   },
   "outputs": [
    {
     "name": "stdout",
     "output_type": "stream",
     "text": [
      "Subtotal: $0.00 | Tax: $0.00 | Total: $0.00\n"
     ]
    }
   ],
   "source": [
    "# TODO: café bill\n",
    "coffee_price = 0.0\n",
    "cake_price = 0.0\n",
    "tax_rate = 0.0  # e.g., 0.1 means 10%\n",
    "\n",
    "subtotal = 0.0\n",
    "tax = 0.0\n",
    "total = 0.0\n",
    "\n",
    "print(f\"Subtotal: ${subtotal:.2f} | Tax: ${tax:.2f} | Total: ${total:.2f}\")"
   ]
  },
  {
   "cell_type": "markdown",
   "metadata": {},
   "source": [
    "---\n",
    "## 4) Strings 🧵\n",
    "Strings are text. You can join them, measure them, and slice parts out.\n",
    "\n",
    "Useful bits:\n",
    "- Join/concatenate: `\"Hello, \" + name`\n",
    "- Length: `len(s)`\n",
    "- Indexing: `s[0]` (first char)\n",
    "- Slicing: `s[start:end]` (end not included)\n",
    "- Methods: `lower()`, `upper()`, `title()`, `strip()`, `replace(a, b)`\n",
    "- f-strings: `f\"Hello {name}!\"` for nice formatting"
   ]
  },
  {
   "cell_type": "code",
   "execution_count": 8,
   "metadata": {},
   "outputs": [
    {
     "name": "stdout",
     "output_type": "stream",
     "text": [
      "17\n",
      "astral family\n",
      "Astral Family\n",
      "Hello, Astral Family!\n",
      "Welcome, Astral Family! ✨\n",
      "P yth n\n"
     ]
    }
   ],
   "source": [
    "# Examples\n",
    "s = \"  astral family  \"\n",
    "print(len(s))\n",
    "print(s.strip())\n",
    "print(s.strip().title())\n",
    "print(\"Hello, \" + s.strip().title() + \"!\")\n",
    "name = s.strip().title()\n",
    "print(f\"Welcome, {name}! ✨\")\n",
    "\n",
    "word = \"Python\"\n",
    "print(word[0], word[1:4], word[-1])  # P yth n"
   ]
  },
  {
   "cell_type": "markdown",
   "metadata": {},
   "source": [
    "### Your Turn: Clean and format a name\n",
    "- Given `first = \"  aLeX  \"` and `last = \"  mORgaN \"`:\n",
    "  1) Make `first_clean` and `last_clean` using `strip().title()`.\n",
    "  2) Make `full_name` by joining them with a space.\n",
    "  3) Print: `Hello, Alex Morgan!` using an f-string.\n",
    "\n",
    "Then try to slice just the first 3 letters of `full_name` (no spaces), e.g., `Ale`."
   ]
  },
  {
   "cell_type": "code",
   "execution_count": 9,
   "metadata": {
    "tags": [
     "exercise"
    ]
   },
   "outputs": [
    {
     "name": "stdout",
     "output_type": "stream",
     "text": [
      "Hello, !\n",
      "\n"
     ]
    }
   ],
   "source": [
    "# TODO: clean and format\n",
    "first = \"  aLeX  \"\n",
    "last = \"  mORgaN \"\n",
    "\n",
    "first_clean = \"\"\n",
    "last_clean = \"\"\n",
    "full_name = \"\"\n",
    "\n",
    "print(f\"Hello, {full_name}!\")\n",
    "\n",
    "# Slice first 3 letters (no spaces)\n",
    "no_space = full_name.replace(\" \", \"\")\n",
    "print(no_space[:3])  # Expected 'Ale'"
   ]
  },
  {
   "cell_type": "markdown",
   "metadata": {},
   "source": [
    "---\n",
    "## 5) Input and output ⌨️➡️🖨️\n",
    "`input(prompt)` asks the user for text and returns a string.\n",
    "\n",
    "Note: Inputs in notebooks are interactive. Run the cell and type your answer in the box that appears. If you don't want to interact right now, you can skip these or comment them out."
   ]
  },
  {
   "cell_type": "code",
   "execution_count": 10,
   "metadata": {},
   "outputs": [],
   "source": [
    "# Demo (uncomment to try)\n",
    "# name = input(\"Your name: \")\n",
    "# print(\"Nice to meet you,\", name)\n",
    "\n",
    "# age_text = input(\"Your age: \")\n",
    "# age_num = int(age_text)  # convert text to int\n",
    "# print(\"Next year you will be\", age_num + 1)"
   ]
  },
  {
   "cell_type": "markdown",
   "metadata": {},
   "source": [
    "### Your Turn: Friendly greeter\n",
    "Write a tiny script that:\n",
    "1) Asks for your first name and city.\n",
    "2) Prints `Hello, <name> from <city>! 👋`\n",
    "\n",
    "Hint: use two inputs and one `print` with an f-string."
   ]
  },
  {
   "cell_type": "code",
   "execution_count": 11,
   "metadata": {
    "tags": [
     "exercise"
    ]
   },
   "outputs": [],
   "source": [
    "# TODO: greeter (uncomment lines to try)\n",
    "# first = input(\"First name: \")\n",
    "# city = input(\"City: \")\n",
    "# print(f\"Hello, {first} from {city}! 👋\")"
   ]
  },
  {
   "cell_type": "markdown",
   "metadata": {},
   "source": [
    "---\n",
    "## 6) Mini practice set 🧰\n",
    "Light, short tasks. Use prints to check your work.\n",
    "\n",
    "P1) Celsius → Fahrenheit: if `c = 25`, compute `f = c * 9/5 + 32` and print it with 1 decimal (e.g., `77.0`).\n",
    "\n",
    "P2) Neat price line: Given `item = \"  noteBOOK  \"` and `price = 12.987`, make the output `Item: Notebook | Price: $12.99` using `strip().title()` and an f-string with `:.2f`.\n",
    "\n",
    "P3) Minutes to hours: if `m = 135`, compute `hours` and `minutes` using `//` and `%` (result: `2 hours 15 minutes`)."
   ]
  },
  {
   "cell_type": "code",
   "execution_count": 12,
   "metadata": {
    "tags": [
     "exercise"
    ]
   },
   "outputs": [
    {
     "name": "stdout",
     "output_type": "stream",
     "text": [
      "25 C = 0.0 F\n",
      "Item:  | Price: $12.99\n",
      "135 minutes = 0 hours 0 minutes\n"
     ]
    }
   ],
   "source": [
    "# P1) Celsius -> Fahrenheit\n",
    "c = 25\n",
    "f = 0.0  # TODO\n",
    "print(f\"{c} C = {f:.1f} F\")\n",
    "\n",
    "# P2) Neat price line\n",
    "item = \"  noteBOOK  \"\n",
    "price = 12.987\n",
    "nice_item = \"\"  # TODO\n",
    "print(f\"Item: {nice_item} | Price: ${price:.2f}\")\n",
    "\n",
    "# P3) Minutes to hours\n",
    "m = 135\n",
    "hours = 0  # TODO\n",
    "minutes = 0  # TODO\n",
    "print(f\"{m} minutes = {hours} hours {minutes} minutes\")"
   ]
  },
  {
   "cell_type": "markdown",
   "metadata": {},
   "source": [
    "---\n",
    "## 7) Wrap-up 🎉\n",
    "Great job! You practiced:\n",
    "- Printing and basic syntax\n",
    "- Variables and simple data types\n",
    "- Math with numbers\n",
    "- Strings and f-strings\n",
    "- Input and output\n",
    "\n",
    "Next: Module 2 — Control Flow 🔁 (if/elif/else and loops)."
   ]
  }
 ],
 "metadata": {
  "kernelspec": {
   "display_name": "Python 3",
   "language": "python",
   "name": "python3"
  },
  "language_info": {
   "codemirror_mode": {
    "name": "ipython",
    "version": 3
   },
   "file_extension": ".py",
   "mimetype": "text/x-python",
   "name": "python",
   "nbconvert_exporter": "python",
   "pygments_lexer": "ipython3",
   "version": "3.13.8"
  }
 },
 "nbformat": 4,
 "nbformat_minor": 5
}
