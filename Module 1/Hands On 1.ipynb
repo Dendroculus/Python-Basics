{
 "cells": [
  {
   "cell_type": "markdown",
   "metadata": {},
   "source": [
    "# 🚀 Module 1: Python Basics I (Concepts & Examples) 🧱\n",
    "\n",
    "Welcome! In this notebook, you'll learn the fundamental building blocks of Python. This is a hands-on guide — read the explanations and run each code cell (Shift+Enter) to see the concepts in action.\n",
    "\n",
    "**Goals:**\n",
    "- Syntax\n",
    "- Variables & Data Types\n",
    "- Numbers & Math Operations\n",
    "- Strings (basic manipulation, concatenation, f-strings)\n",
    "- User Input & Output\n",
    "- Comments & Naming Conventions\n",
    "- Mini Challenge!"
   ]
  },
  {
   "cell_type": "markdown",
   "metadata": {},
   "source": ["---"]
  },
  {
   "cell_type": "markdown",
   "metadata": {},
   "source": [
    "## 1. Printing Output with `print()` 🖨️\n",
    "\n",
    "The `print()` function is your main way to display information. It can print text, numbers, variables, or even math results.\n",
    "\n",
    "**Syntax:** `print(item1, item2, ..., sep=' ', end='\\n')`"
   ]
  },
  {
   "cell_type": "code",
   "execution_count": null,
   "metadata": {},
   "outputs": [],
   "source": [
    "print(\"Hello, Astral Family! 🚀\")\n",
    "print(42)\n",
    "print(10 + 5)\n",
    "print(\"My age is:\", 30)\n",
    "print(\"A\", \"B\", \"C\", sep=\" - \")\n",
    "print(\"No new line\", end=\" | \")\n",
    "print(\"see?\")"
   ]
  },
  {
   "cell_type": "markdown",
   "metadata": {},
   "source": [
    "**Checkpoint 🧠**\n",
    "\n",
    "Try printing your own introduction using multiple items and custom separators."
   ]
  },
  {
   "cell_type": "code",
   "execution_count": null,
   "metadata": {},
   "outputs": [],
   "source": [
    "# Practice: introduce yourself using print()\n",
    "# Example: print(\"Hi, I'm Alex and I love Python!\")\n",
    "print()"
   ]
  },
  {
   "cell_type": "markdown",
   "metadata": {},
   "source": ["---\n","## 2. Variables and Data Types 📦\n","\n","Variables store values. Each value has a *data type* — a kind of information."]
  },
  {
   "cell_type": "code",
   "execution_count": null,
   "metadata": {},
   "outputs": [],
   "source": [
    "name = \"Captain Coder\"\n",
    "age = 35\n",
    "height = 1.88\n",
    "is_hero = True\n",
    "\n",
    "print(name, type(name))\n",
    "print(age, type(age))\n",
    "print(height, type(height))\n",
    "print(is_hero, type(is_hero))"
   ]
  },
  {
   "cell_type": "markdown",
   "metadata": {},
   "source": [
    "**Checkpoint 🧠**\n",
    "\n",
    "Create your own variables for `pet_name`, `pet_age`, and `is_cute`, then print them with their types."
   ]
  },
  {
   "cell_type": "code",
   "execution_count": null,
   "metadata": {},
   "outputs": [],
   "source": [
    "# Practice: your own variables here\n",
    "pet_name = \"\"  # put your pet's name as a string\n",
    "pet_age = 0        # integer\n",
    "is_cute = True     # boolean (True/False)\n",
    "print(pet_name, type(pet_name))\n",
    "print(pet_age, type(pet_age))\n",
    "print(is_cute, type(is_cute))"
   ]
  },
  {
   "cell_type": "markdown",
   "metadata": {},
   "source": ["---\n","## 3. Numbers and Math Operations ➕➖✖️➗\n","\n","Python follows normal math rules (PEMDAS)."]
  },
  {
   "cell_type": "code",
   "execution_count": null,
   "metadata": {},
   "outputs": [],
   "source": [
    "x, y = 10, 3\n",
    "print(x + y, x - y, x * y, x / y)\n",
    "print(x ** y, x % y, x // y)"
   ]
  },
  {
   "cell_type": "markdown",
   "metadata": {},
   "source": [
    "**Checkpoint 🧮**\n",
    "\n",
    "Try computing your savings after 1 year with this formula:\n",
    "\n",
    "`final = principal + (principal * rate * time)`"
   ]
  },
  {
   "cell_type": "code",
   "execution_count": null,
   "metadata": {},
   "outputs": [],
   "source": [
    "principal = 1200\n",
    "rate = 0.07\n",
    "time = 1\n",
    "\n",
    "final = principal + (principal * rate * time)\n",
    "print(final)"
   ]
  },
  {
   "cell_type": "markdown",
   "metadata": {},
   "source": ["---\n","## 4. Strings and F-Strings 🧵\n","\n","This section covers basic string manipulation (concatenation, methods like `.strip()`, `.replace()`, `.lower()`), and f-strings for formatting."]
  },
  {
   "cell_type": "code",
   "execution_count": null,
   "metadata": {},
   "outputs": [],
   "source": [
    "first = \"Luna\"\n",
    "last = \"Sky\"\n",
    "full = first + \" \" + last  # concatenation\n",
    "print(full)\n",
    "print(len(full))"
   ]
  },
  {
   "cell_type": "code",
   "execution_count": null,
   "metadata": {},
   "outputs": [],
   "source": [
    "text = \"   Hello|World|Python   \"\n",
    "print(text.strip().replace(\"|\", \" \" ).lower())"
   ]
  },
  {
   "cell_type": "markdown",
   "metadata": {},
   "source": [
    "### F-Strings\n",
    "They let you mix text and variables cleanly."
   ]
  },
  {
   "cell_type": "code",
   "execution_count": null,
   "metadata": {},
   "outputs": [],
   "source": [
    "name = \"Luna\"\n",
    "age = 20\n",
    "print(f\"My name is {name} and I'm {age} years old.\")\n",
    "price = 45.678\n",
    "print(f\"Price: ${price:.2f}\")"
   ]
  },
  {
   "cell_type": "markdown",
   "metadata": {},
   "source": [
    "**Checkpoint 🧠**\n",
    "\n",
    "Write a formatted sentence about your favorite hobby using an f-string."
   ]
  },
  {
   "cell_type": "code",
   "execution_count": null,
   "metadata": {},
   "outputs": [],
   "source": [
    "# Practice here\n",
    "hobby = \"\"\n",
    "hours = 0\n",
    "print(f\"My favorite hobby is {hobby} and I spend {hours} hours per week on it.\")"
   ]
  },
  {
   "cell_type": "markdown",
   "metadata": {},
   "source": ["---\n","## 5. User Input with `input()` ⌨️\n","\n","It always returns text, so use `int()` or `float()` to do math."]
  },
  {
   "cell_type": "code",
   "execution_count": null,
   "metadata": {},
   "outputs": [],
   "source": [
    "# Example (uncomment to try):\n",
    "# name = input(\"What's your name? \")\n",
    "# age = int(input(\"How old are you? \"))\n",
    "# print(f\"Hi {name}, next year you'll be {age + 1}!\")"
   ]
  },
  {
   "cell_type": "markdown",
   "metadata": {},
   "source": ["---\n","## 6. Comments & Naming Conventions 💬\n","\n","Use `#` to add notes that Python ignores. It helps others understand your code.\n","\n","- Snake case for variables → `total_score`\n","- Avoid spaces or capital letters in variable names\n","- Use descriptive names"]
  },
  {
   "cell_type": "code",
   "execution_count": null,
   "metadata": {},
   "outputs": [],
   "source": [
    "# This is a comment explaining the code below\n",
    "student_score = 85  # good name\n",
    "x = 85              # bad name\n",
    "print(student_score)"
   ]
  },
  {
   "cell_type": "markdown",
   "metadata": {},
   "source": ["---\n","## 7. Mini Challenge 🎯\n","\n","**Task:** Create a small program that asks for the user's name, age, and favorite number. Then print a sentence summarizing them using f-strings.\n","\n","_Hint: use input(), int(), and print()_"]
  },
  {
   "cell_type": "code",
   "execution_count": null,
   "metadata": {},
   "outputs": [],
   "source": [
    "# Your mini challenge here\n",
    "# Example: Hi Alex, you are 25 years old and your favorite number is 7!\n",
    "# Uncomment when running interactively:\n",
    "# name = input(\"What's your name? \" )\n",
    "# age = int(input(\"How old are you? \"))\n",
    "# fav_number = int(input(\"What's your favorite number? \"))\n",
    "# print(f\"Hi {name}, you are {age} years old and your favorite number is {fav_number}!\")\n",
    "\n",
    "# Non-interactive example (safe to run anywhere):\n",
    "name = 'Alex'\n",
    "age = 25\n",
    "fav_number = 7\n",
    "print(f\"Hi {name}, you are {age} years old and your favorite number is {fav_number}!\")"
   ]
  },
  {
   "cell_type": "markdown",
   "metadata": {},
   "source": [
    "---\n",
    "## 8. Summary Table 🧭\n",
    "\n",
    "| Concept | Function / Symbol | Example |\n",
    "|----------|-------------------|----------|\n",
    "| Print output | `print()` | `print('Hi')` |\n",
    "| Create variable | `=` | `x = 10` |\n",
    "| Find type | `type()` | `type(3.14)` |\n",
    "| Convert type | `int()`, `float()` | `float('5')` |\n",
    "| String length | `len()` | `len('Hello')` |\n",
    "| String methods | `.strip()`, `.replace()`, `.lower()` | `text.strip().lower()` |\n",
    "| F-string | `f\"{var}\"` | `f\"Age {age}\"` |\n",
    "| Comment | `#` | `# note` |\n",
    "\n",
    "🎉 Great work! You’ve finished **Module 1 — Python Basics I**. Next: move to `Module 1 Exercise` to practice!"
   ]
  }
 ],
 "metadata": {
  "kernelspec": {
   "display_name": "Python 3",
   "language": "python",
   "name": "python3"
  },
  "language_info": {
   "name": "python",
   "version": "3.12"
  }
 },
 "nbformat": 4,
 "nbformat_minor": 2
}