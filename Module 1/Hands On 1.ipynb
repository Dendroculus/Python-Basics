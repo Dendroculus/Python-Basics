{
 "cells": [
  {
   "cell_type": "markdown",
   "metadata": {},
   "source": [
    "# 🚀 Module 1: Python Basics I 🧱\n",
    "\n",
    "Welcome to your first set of Python exercises! In this module, we'll cover the absolute fundamentals. Work through the cells below, read the explanations, and fill in the code where you see `# Your code here`.\n",
    "\n",
    "**Our goals for this module are to learn about:**\n",
    "- Variables\n",
    "- Basic Data Types (`int`, `float`, `bool`, `str`)\n",
    "- Simple Math Operations\n",
    "- F-Strings for formatting text\n",
    "- Getting user input with `input()`\n",
    "- Printing output with `print()`"
   ]
  },
  {
   "cell_type": "markdown",
   "metadata": {},
   "source": [
    "---"
   ]
  },
  {
   "cell_type": "markdown",
   "metadata": {},
   "source": [
    "## 1. Variables and Data Types\n",
    "\n",
    "A **variable** is like a labeled box where you can store a value. The **data type** is the *kind* of value in the box.\n",
    "\n",
    "- **`int`**: Integer, a whole number (e.g., `10`, `-5`).\n",
    "- **`float`**: Floating-point number, a number with a decimal (e.g., `3.14`, `-0.5`).\n",
    "- **`str`**: String, text inside quotes (e.g., `\"Hello, world!\"`).\n",
    "- **`bool`**: Boolean, can only be `True` or `False`."
   ]
  },
  {
   "cell_type": "markdown",
   "metadata": {},
   "source": [
    "### ✏️ Exercise 1.1: Create some variables\n",
    "\n",
    "Create a variable for your name, your age, the current year, and a boolean to show you're learning Python."
   ]
  },
  {
   "cell_type": "code",
   "execution_count": 1,
   "metadata": {},
   "outputs": [
    {
     "name": "stdout",
     "output_type": "stream",
     "text": [
      "Alex\n",
      "25\n",
      "2025\n",
      "True\n"
     ]
    }
   ],
   "source": [
    "# Your code here\n",
    "my_name = \"Alex\"\n",
    "my_age = 25\n",
    "current_year = 2025\n",
    "is_learning_python = True\n",
    "\n",
    "# Now, let's print them to see their values!\n",
    "print(my_name)\n",
    "print(my_age)\n",
    "print(current_year)\n",
    "print(is_learning_python)"
   ]
  },
  {
   "cell_type": "markdown",
   "metadata": {},
   "source": [
    "---"
   ]
  },
  {
   "cell_type": "markdown",
   "metadata": {},
   "source": [
    "## 2. Math Operations\n",
    "\n",
    "Python can work like a calculator. Here are the basic operators:\n",
    "\n",
    "- `+` (Addition)\n",
    "- `-` (Subtraction)\n",
    "- `*` (Multiplication)\n",
    "- `/` (Division - always results in a float)\n",
    "- `**` (Exponent - e.g., `2**3` is 8)\n",
    "- `%` (Modulus - gives the remainder of a division)"
   ]
  },
  {
   "cell_type": "markdown",
   "metadata": {},
   "source": [
    "### ✏️ Exercise 2.1: Simple Math\n",
    "\n",
    "Calculate the year you were born using the variables from the previous exercise. Then, calculate how many years until you turn 100."
   ]
  },
  {
   "cell_type": "code",
   "execution_count": 2,
   "metadata": {},
   "outputs": [
    {
     "name": "stdout",
     "output_type": "stream",
     "text": [
      "2000\n",
      "75\n"
     ]
    }
   ],
   "source": [
    "# Your code here\n",
    "birth_year = current_year - my_age\n",
    "years_until_100 = 100 - my_age\n",
    "\n",
    "print(birth_year)\n",
    "print(years_until_100)"
   ]
  },
  {
   "cell_type": "markdown",
   "metadata": {},
   "source": [
    "---"
   ]
  },
  {
   "cell_type": "markdown",
   "metadata": {},
   "source": [
    "## 3. Strings and F-Strings\n",
    "\n",
    "Strings are how we work with text. **F-Strings** are a modern and easy way to format strings by putting variables directly inside them."
   ]
  },
  {
   "cell_type": "code",
   "execution_count": 3,
   "metadata": {},
   "outputs": [
    {
     "name": "stdout",
     "output_type": "stream",
     "text": [
      "Hello, my name is Hans and I am 30 years old.\n"
     ]
    }
   ],
   "source": [
    "# Example of an F-String\n",
    "name = \"Hans\"\n",
    "age = 30\n",
    "greeting = f\"Hello, my name is {name} and I am {age} years old.\"\n",
    "print(greeting)"
   ]
  },
  {
   "cell_type": "markdown",
   "metadata": {},
   "source": [
    "### ✏️ Exercise 3.1: Create a summary sentence\n",
    "\n",
    "Using the variables from Exercise 1.1, create a single sentence using an f-string that says something like:\n",
    "`\"My name is Alex, and it's True that I'm learning Python in 2025.\"`"
   ]
  },
  {
   "cell_type": "code",
   "execution_count": 4,
   "metadata": {},
   "outputs": [
    {
     "name": "stdout",
     "output_type": "stream",
     "text": [
      "My name is Alex, and it's True that I'm learning Python in 2025.\n"
     ]
    }
   ],
   "source": [
    "# Your code here\n",
    "summary = f\"My name is {my_name}, and it's {is_learning_python} that I'm learning Python in {current_year}.\"\n",
    "print(summary)"
   ]
  },
  {
   "cell_type": "markdown",
   "metadata": {},
   "source": [
    "---"
   ]
  },
  {
   "cell_type": "markdown",
   "metadata": {},
   "source": [
    "## 4. Input and Output\n",
    "\n",
    "A program isn't very useful if you can't interact with it! \n",
    "- `print()`: Displays information to the user.\n",
    "- `input()`: Asks the user for information and gives it back to your program as a **string**."
   ]
  },
  {
   "cell_type": "markdown",
   "metadata": {},
   "source": [
    "### ✏️ Exercise 4.1: Ask for a user's favorite food\n",
    "\n",
    "Ask the user for their favorite food and then print a fun response."
   ]
  },
  {
   "cell_type": "code",
   "execution_count": 5,
   "metadata": {},
   "outputs": [
    {
     "name": "stdout",
     "output_type": "stream",
     "text": [
      "Wow,  sounds delicious right now!\n"
     ]
    }
   ],
   "source": [
    "# Your code here\n",
    "favorite_food = input(\"What is your favorite food? \")\n",
    "response = f\"Wow, {favorite_food} sounds delicious right now!\"\n",
    "print(response)"
   ]
  },
  {
   "cell_type": "markdown",
   "metadata": {},
   "source": [
    "---"
   ]
  },
  {
   "cell_type": "markdown",
   "metadata": {},
   "source": [
    "## 🏗️ Mini-Projects\n",
    "\n",
    "Time to combine everything we've learned!"
   ]
  },
  {
   "cell_type": "markdown",
   "metadata": {},
   "source": [
    "### Project 1: Tiny Calculator\n",
    "\n",
    "Create a simple calculator that asks for two numbers and then prints their sum, difference, and product.\n",
    "\n",
    "**Hint**: `input()` always gives you a string! You'll need to convert the user's input to a number using `int()` or `float()`."
   ]
  },
  {
   "cell_type": "code",
   "execution_count": 6,
   "metadata": {},
   "outputs": [
    {
     "name": "stdout",
     "output_type": "stream",
     "text": [
      "--- Tiny Calculator ---\n"
     ]
    },
    {
     "ename": "ValueError",
     "evalue": "could not convert string to float: ''",
     "output_type": "error",
     "traceback": [
      "\u001b[31m---------------------------------------------------------------------------\u001b[39m",
      "\u001b[31mValueError\u001b[39m                                Traceback (most recent call last)",
      "\u001b[36mCell\u001b[39m\u001b[36m \u001b[39m\u001b[32mIn[6]\u001b[39m\u001b[32m, line 7\u001b[39m\n\u001b[32m      4\u001b[39m num2_str = \u001b[38;5;28minput\u001b[39m(\u001b[33m\"\u001b[39m\u001b[33mEnter the second number: \u001b[39m\u001b[33m\"\u001b[39m)\n\u001b[32m      6\u001b[39m \u001b[38;5;66;03m# Convert strings to numbers (let's use float for decimals)\u001b[39;00m\n\u001b[32m----> \u001b[39m\u001b[32m7\u001b[39m num1 = \u001b[38;5;28;43mfloat\u001b[39;49m\u001b[43m(\u001b[49m\u001b[43mnum1_str\u001b[49m\u001b[43m)\u001b[49m\n\u001b[32m      8\u001b[39m num2 = \u001b[38;5;28mfloat\u001b[39m(num2_str)\n\u001b[32m     10\u001b[39m \u001b[38;5;66;03m# Perform calculations\u001b[39;00m\n",
      "\u001b[31mValueError\u001b[39m: could not convert string to float: ''"
     ]
    }
   ],
   "source": [
    "# Your code here\n",
    "print(\"--- Tiny Calculator ---\")\n",
    "num1_str = input(\"Enter the first number: \")\n",
    "num2_str = input(\"Enter the second number: \")\n",
    "\n",
    "# Convert strings to numbers (let's use float for decimals)\n",
    "num1 = float(num1_str)\n",
    "num2 = float(num2_str)\n",
    "\n",
    "# Perform calculations\n",
    "sum_result = num1 + num2\n",
    "diff_result = num1 - num2\n",
    "prod_result = num1 * num2\n",
    "\n",
    "# Print results\n",
    "print(f\"{num1} + {num2} = {sum_result}\")\n",
    "print(f\"{num1} - {num2} = {diff_result}\")\n",
    "print(f\"{num1} * {num2} = {prod_result}\")"
   ]
  },
  {
   "cell_type": "markdown",
   "metadata": {},
   "source": [
    "### Project 2: Unit Converter (km to miles)\n",
    "\n",
    "Create a script that asks the user for a distance in kilometers and converts it to miles.\n",
    "\n",
    "**Formula**: 1 kilometer = 0.621371 miles."
   ]
  },
  {
   "cell_type": "code",
   "execution_count": null,
   "metadata": {},
   "outputs": [],
   "source": [
    "# Your code here\n",
    "print(\"--- KM to Miles Converter ---\")\n",
    "km_str = input(\"Enter distance in kilometers (km): \")\n",
    "\n",
    "# Convert to float\n",
    "km = float(km_str)\n",
    "\n",
    "# Conversion factor\n",
    "km_to_miles_factor = 0.621371\n",
    "\n",
    "# Calculate miles\n",
    "miles = km * km_to_miles_factor\n",
    "\n",
    "# Print the result, formatted to 2 decimal places\n",
    "print(f\"{km} km is equal to {miles:.2f} miles.\")"
   ]
  },
  {
   "cell_type": "markdown",
   "metadata": {},
   "source": [
    "### Project 3 (Stretch Goal): F-String Formatter\n",
    "\n",
    "As mentioned in the syllabus, a great way to practice f-strings is to format a table. Below is a list of items and their prices. Your task is to print them in a neatly aligned table.\n",
    "\n",
    "**Hint**: You can control the alignment and padding in an f-string. For example, `{item_name: <15}` will make the text left-aligned within a 15-character space."
   ]
  },
  {
   "cell_type": "code",
   "execution_count": null,
   "metadata": {},
   "outputs": [],
   "source": [
    "items = [\n",
    "    (\"Apples\", 2.50),\n",
    "    (\"Bananas\", 1.75),\n",
    "    (\"Chocolate Bar\", 4.99),\n",
    "    (\"Milk (1 Gallon)\", 5.45)\n",
    "]\n",
    "\n",
    "# Your code here\n",
    "print(\"--- Receipt ---\")\n",
    "print(\"-\" * 30)\n",
    "print(f\"{'Item':<20} | {'Price':>7}\")\n",
    "print(\"-\" * 30)\n",
    "\n",
    "total = 0\n",
    "for item_name, price in items:\n",
    "    print(f\"{item_name:<20} | ${price:>6.2f}\")\n",
    "    total += price\n",
    "\n",
    "print(\"-\" * 30)\n",
    "print(f\"{'Total':<20} | ${total:>6.2f}\")\n",
    "print(\"-\" * 30)"
   ]
  },
  {
   "cell_type": "markdown",
   "metadata": {},
   "source": [
    "---"
   ]
  },
  {
   "cell_type": "markdown",
   "metadata": {},
   "source": [
    "## 🎉 Well Done!\n",
    "\n",
    "You've completed the exercises for Module 1! You now have a solid grasp of the most fundamental building blocks of Python.\n",
    "\n",
    "**Don't forget to:**\n",
    "1. Save this notebook.\n",
    "2. Commit your changes to your Git branch.\n",
    "3. Push the branch to GitHub and open a Pull Request!"
   ]
  }
 ],
 "metadata": {
  "kernelspec": {
   "display_name": "Python 3",
   "language": "python",
   "name": "python3"
  },
  "language_info": {
   "codemirror_mode": {
    "name": "ipython",
    "version": 3
   },
   "file_extension": ".py",
   "mimetype": "text/x-python",
   "name": "python",
   "nbconvert_exporter": "python",
   "pygments_lexer": "ipython3",
   "version": "3.13.8"
  }
 },
 "nbformat": 4,
 "nbformat_minor": 2
}
