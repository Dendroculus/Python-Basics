{
 "cells": [
  {
   "cell_type": "markdown",
   "metadata": {},
   "source": [
    "# 🗂️ Module 5: Modules & Packages (Concepts & Examples) 📦\n",
    "\n",
    "Welcome to Module 5! So far, we've written all our code in a single file or notebook. For larger projects, this becomes unmanageable. Modules and packages are Python's way of letting us organize code across multiple files, making it reusable, clean, and collaborative.\n",
    "\n",
    "**Our goals are to understand:**\n",
    "- **Modules**: What a Python module is and how to `import` it.\n",
    "- **Packages**: How to group related modules into a directory (package).\n",
    "- **Project Layout**: A standard way to structure a simple Python project.\n",
    "- **The Main Entry Point**: The purpose of the `if __name__ == \"__main__\":` block."
   ]
  },
  {
   "cell_type": "markdown",
   "metadata": {},
   "source": [
    "---"
   ]
  },
  {
   "cell_type": "markdown",
   "metadata": {},
   "source": [
    "## 1. What is a Module?\n",
    "\n",
    "A module is simply a file containing Python code, with a `.py` extension. We use modules to break down large programs into smaller, manageable, and organized files. You can then access the code from one module in another module by **importing** it.\n",
    "\n",
    "**Let's create a module.** In the same directory as this notebook, create a new file named `helpers.py` and put the following code inside it:\n",
    "\n",
    "```python\n",
    "# helpers.py\n",
    "print(\"Helper module is being imported!\")\n",
    "\n",
    "PI = 3.14159\n",
    "\n",
    "def greet(name: str) -> str:\n",
    "    \"\"\"Returns a simple greeting string.\"\"\"\n",
    "    return f\"Hello, {name}!\"\n",
    "```\n",
    "\n",
    "Now we can import and use this module in our notebook."
   ]
  },
  {
   "cell_type": "markdown",
   "metadata": {},
   "source": [
    "### Import Techniques\n",
    "There are several ways to import code."
   ]
  },
  {
   "cell_type": "code",
   "execution_count": null,
   "metadata": {},
   "outputs": [],
   "source": [
    "# Technique 1: Import the entire module\n",
    "# You must use the module's name as a prefix to access its contents.\n",
    "import helpers\n",
    "\n",
    "print(f\"Value of PI from helpers: {helpers.PI}\")\n",
    "print(helpers.greet(\"Alice\"))"
   ]
  },
  {
   "cell_type": "code",
   "execution_count": null,
   "metadata": {},
   "outputs": [],
   "source": [
    "# Technique 2: Import specific components using 'from'\n",
    "# This brings the function/variable directly into the current namespace.\n",
    "from helpers import greet, PI\n",
    "\n",
    "print(f\"Value of PI directly: {PI}\")\n",
    "print(greet(\"Bob\"))"
   ]
  },
  {
   "cell_type": "code",
   "execution_count": null,
   "metadata": {},
   "outputs": [],
   "source": [
    "# Technique 3: Use an alias with 'as'\n",
    "# This is useful for long module names or to avoid naming conflicts.\n",
    "import helpers as h\n",
    "\n",
    "print(h.greet(\"Charlie\"))"
   ]
  },
  {
   "cell_type": "markdown",
   "metadata": {},
   "source": [
    "---"
   ]
  },
  {
   "cell_type": "markdown",
   "metadata": {},
   "source": [
    "## 2. What is a Package?\n",
    "\n",
    "A package is a way of structuring Python’s module namespace by using \"dotted module names\". In simple terms, a package is just a **directory containing Python modules**.\n",
    "\n",
    "For a directory to be considered a package, it must contain a file named `__init__.py`. This file can be empty, but its presence tells Python that the directory is a package, allowing you to import modules from it.\n",
    "\n",
    "**Example Package Structure:**\n",
    "```\n",
    "my_app/\n",
    "├── utils/               <-- This is a package\n",
    "│   ├── __init__.py      <-- Makes 'utils' a package\n",
    "│   ├── string_ops.py\n",
    "│   └── math_ops.py\n",
    "└── main.py\n",
    "```\n",
    "To import the `string_ops` module from this structure, you would write:\n",
    "`from utils import string_ops`\n",
    "\n",
    "Or to import a specific function from it:\n",
    "`from utils.string_ops import reverse_string`"
   ]
  },
  {
   "cell_type": "markdown",
   "metadata": {},
   "source": [
    "---"
   ]
  },
  {
   "cell_type": "markdown",
   "metadata": {},
   "source": [
    "## 3. Standard Project Layout\n",
    "\n",
    "While there are many ways to structure a project, a simple and effective layout for a small application looks like this:\n",
    "\n",
    "```\n",
    "my_project/\n",
    "├── my_package/          # Your application's main code lives here\n",
    "│   ├── __init__.py\n",
    "│   ├── module1.py\n",
    "│   └── module2.py\n",
    "├── tests/               # A place for your tests\n",
    "│   ├── __init__.py\n",
    "│   └── test_module1.py\n",
    "├── main.py              # The main entry point to run your application\n",
    "└── README.md            # Description of your project\n",
    "```\n",
    "- `my_package/`: Contains the core logic, split into sensible modules.\n",
    "- `tests/`: Contains code to test your package's functionality.\n",
    "- `main.py`: A script that imports from `my_package` and starts the application."
   ]
  },
  {
   "cell_type": "markdown",
   "metadata": {},
   "source": [
    "---"
   ]
  },
  {
   "cell_type": "markdown",
   "metadata": {},
   "source": [
    "## 4. The Main Entry Point: `if __name__ == \"__main__\"`\n",
    "\n",
    "This is one of the most important concepts for writing reusable Python code. It's a block of code that **only runs when the file is executed directly** as a script, not when it is imported as a module.\n",
    "\n",
    "Python sets a special variable `__name__` for every module.\n",
    "- If you run the file directly (e.g., `python my_script.py`), Python sets `__name__ = \"__main__\"`.\n",
    "- If you import the file (e.g., `import my_script`), Python sets `__name__ = \"my_script\"` (the file's name).\n",
    "\n",
    "Let's modify our `helpers.py` file to see this in action. Change it to this:\n",
    "\n",
    "```python\n",
    "# helpers.py\n",
    "\n",
    "PI = 3.14159\n",
    "\n",
    "def greet(name: str) -> str:\n",
    "    return f\"Hello, {name}!\"\n",
    "\n",
    "# This block will only run when we execute 'python helpers.py' directly\n",
    "if __name__ == \"__main__\":\n",
    "    print(\"This script is being run directly!\")\n",
    "    print(\"Let's test our greet function.\")\n",
    "    message = greet(\"World\")\n",
    "    print(message)\n",
    "else:\n",
    "    # This block runs when the file is imported\n",
    "    print(f\"The module '{__name__}' has been imported.\")\n",
    "```"
   ]
  },
  {
   "cell_type": "code",
   "execution_count": null,
   "metadata": {},
   "outputs": [],
   "source": [
    "# Now, when we import helpers, the 'if' block doesn't run, only the 'else' block.\n",
    "# This prevents test code from running every time we import the module.\n",
    "import helpers\n",
    "\n",
    "# We can still use the functions as normal\n",
    "print(helpers.greet(\"Developer\"))"
   ]
  },
  {
   "cell_type": "markdown",
   "metadata": {},
   "source": [
    "Now, open a terminal or command prompt, navigate to the directory of this notebook, and run `python helpers.py`. You will see the output from the `if __name__ == \"__main__\"` block.\n",
    "\n",
    "🎉 You've learned how to structure code across multiple files! This is the key to building larger, more professional applications.\n",
    "\n",
    "Next: move to **`Exercise 5.ipynb`** to build your own simple project."
   ]
  }
 ],
 "metadata": {
  "kernelspec": {
   "display_name": "Python 3",
   "language": "python",
   "name": "python3"
  },
  "language_info": {
   "name": "python",
   "version": "3.12"
  }
 },
 "nbformat": 4,
 "nbformat_minor": 2
}