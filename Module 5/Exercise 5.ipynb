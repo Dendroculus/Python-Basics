{
 "cells": [
  {
   "cell_type": "markdown",
   "metadata": {},
   "source": [
    "# 📦 Module 5: Modules & Packages (Exercises) 🗂️\n",
    "\n",
    "This set of exercises is different! You will be creating a small project with multiple files and directories. This is how real Python applications are built.\n",
    "\n",
    "**Instructions:**\n",
    "1. Read the goal for each exercise.\n",
    "2. Create the files and directories as described.\n",
    "3. Write the specified code inside those files.\n",
    "4. The solution sections will show the complete code for each file."
   ]
  },
  {
   "cell_type": "markdown",
   "metadata": {},
   "source": [
    "---"
   ]
  },
  {
   "cell_type": "markdown",
   "metadata": {},
   "source": [
    "### ✏️ Exercise 1: Project Setup\n",
    "\n",
    "**Goal**: Create the file and directory structure for a simple calculator application.\n",
    "\n",
    "**Task**: In the same directory as this notebook, create the following structure:\n",
    "```\n",
    "simple_calculator/\n",
    "├── operations/\n",
    "│   ├── __init__.py\n",
    "│   └── basic.py\n",
    "└── main.py\n",
    "```\n",
    "- `simple_calculator/` is the root directory for your project.\n",
    "- `operations/` will be your package for holding math functions.\n",
    "- `__init__.py` makes `operations` a package (it can be empty).\n",
    "- `basic.py` will contain your addition and subtraction functions.\n",
    "- `main.py` will be the script you run to use the calculator."
   ]
  },
  {
   "cell_type": "markdown",
   "metadata": {},
   "source": [
    "<details>\n",
    "  <summary>Click for a hint</summary>\n",
    "  You can create directories (folders) and empty files using your computer's file explorer or a code editor like VS Code.\n",
    "</details>"
   ]
  },
  {
   "cell_type": "markdown",
   "metadata": {},
   "source": [
    "---"
   ]
  },
  {
   "cell_type": "markdown",
   "metadata": {},
   "source": [
    "### ✏️ Exercise 2: Create the `basic` Module\n",
    "\n",
    "**Goal**: Write the functions for your calculator in the `basic.py` module.\n",
    "\n",
    "**Task**: Open the `simple_calculator/operations/basic.py` file and add the following Python code to it. This file will contain two simple functions."
   ]
  },
  {
   "cell_type": "markdown",
   "metadata": {},
   "source": [
    "<details>\n",
    "  <summary>Click here for the code to put in `basic.py`</summary>\n",
    "\n",
    "  ```python\n",
    "  # simple_calculator/operations/basic.py\n",
    "  \n",
    "  def add(a: float, b: float) -> float:\n",
    "      \"\"\"Returns the sum of two numbers.\"\"\"\n",
    "      return a + b\n",
    "  \n",
    "  def subtract(a: float, b: float) -> float:\n",
    "      \"\"\"Returns the difference of two numbers.\"\"\"\n",
    "      return a - b\n",
    "  ```\n",
    "</details>"
   ]
  },
  {
   "cell_type": "markdown",
   "metadata": {},
   "source": [
    "---"
   ]
  },
  {
   "cell_type": "markdown",
   "metadata": {},
   "source": [
    "### ✏️ Exercise 3: Create the Main Script\n",
    "\n",
    "**Goal**: Write the `main.py` script to import and use your `basic` module.\n",
    "\n",
    "**Task**: Open the `simple_calculator/main.py` file and add code that does the following:\n",
    "1. Imports the `add` and `subtract` functions from the `operations.basic` module.\n",
    "2. Defines a `run_calculator()` function that performs and prints a few calculations.\n",
    "3. Uses an `if __name__ == \"__main__\":` block to call `run_calculator()`."
   ]
  },
  {
   "cell_type": "markdown",
   "metadata": {},
   "source": [
    "<details>\n",
    "  <summary>Click here for the code to put in `main.py`</summary>\n",
    "\n",
    "  ```python\n",
    "  # simple_calculator/main.py\n",
    "  \n",
    "  # Import the functions from your package\n",
    "  from operations.basic import add, subtract\n",
    "  \n",
    "  def run_calculator():\n",
    "      \"\"\"Runs the main calculator logic.\"\"\"\n",
    "      print(\"Welcome to the Simple Calculator!\")\n",
    "      \n",
    "      # Perform some calculations\n",
    "      sum_result = add(15, 7)\n",
    "      diff_result = subtract(10, 20)\n",
    "      \n",
    "      print(f\"15 + 7 = {sum_result}\")\n",
    "      print(f\"10 - 20 = {diff_result}\")\n",
    "  \n",
    "  # This ensures the code only runs when the script is executed directly\n",
    "  if __name__ == \"__main__\":\n",
    "      run_calculator()\n",
    "  ```\n",
    "</details>"
   ]
  },
  {
   "cell_type": "markdown",
   "metadata": {},
   "source": [
    "---"
   ]
  },
  {
   "cell_type": "markdown",
   "metadata": {},
   "source": [
    "### ✏️ Exercise 4: Run Your Application\n",
    "\n",
    "**Goal**: Execute your project from the command line.\n",
    "\n",
    "**Task**:\n",
    "1. Open your computer's terminal or command prompt (like Terminal on Mac/Linux or PowerShell/CMD on Windows).\n",
    "2. Navigate to the directory that contains your `simple_calculator` folder.\n",
    "3. Run the following command: `python simple_calculator/main.py`\n",
    "\n",
    "#### Expected Output:\n",
    "```\n",
    "Welcome to the Simple Calculator!\n",
    "15 + 7 = 22\n",
    "10 - 20 = -10\n",
    "```"
   ]
  },
  {
   "cell_type": "markdown",
   "metadata": {},
   "source": [
    "---"
   ]
  },
  {
   "cell_type": "markdown",
   "metadata": {},
   "source": [
    "## 🎉 Excellent Work!\n",
    "\n",
    "You have successfully built and run your first multi-file Python project! You used a package to organize your functions and a main script to run your application. This structure is the foundation for building any large and complex program."
   ]
  }
 ],
 "metadata": {
  "kernelspec": {
   "display_name": "Python 3",
   "language": "python",
   "name": "python3"
  },
  "language_info": {
   "name": "python",
   "version": "3.12"
  }
 },
 "nbformat": 4,
 "nbformat_minor": 2
}