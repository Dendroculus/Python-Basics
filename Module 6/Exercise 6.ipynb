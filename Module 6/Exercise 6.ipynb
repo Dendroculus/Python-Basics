{
 "cells": [
  {
   "cell_type": "markdown",
   "metadata": {},
   "source": [
    "# 📂 Module 6: Files & Data (Exercises) 💾\n",
    "\n",
    "It's time to practice reading from and writing to files. These exercises will test your ability to handle different data formats and potential errors.\n",
    "\n",
    "Complete the code in each cell where you see `# TODO:` to match the expected output. Check your work against the solutions."
   ]
  },
  {
   "cell_type": "markdown",
   "metadata": {},
   "source": [
    "---"
   ]
  },
  {
   "cell_type": "markdown",
   "metadata": {},
   "source": [
    "### ✏️ Exercise 1: Write and Read a Shopping List\n",
    "\n",
    "**Goal**: Practice basic file writing and reading.\n",
    "\n",
    "**Task**:\n",
    "1. Create a `pathlib.Path` object pointing to `shopping_list.txt` inside a `data` directory.\n",
    "2. Write the items from the `shopping_items` list to this file. Each item should be on a new line.\n",
    "3. Read the entire content of the file back into a variable and print it.\n",
    "\n",
    "#### Expected Output:\n",
    "```\n",
    "Apples\n",
    "Bread\n",
    "Milk\n",
    "Eggs\n",
    "```"
   ]
  },
  {
   "cell_type": "code",
   "execution_count": null,
   "metadata": {},
   "outputs": [],
   "source": [
    "from pathlib import Path\n",
    "\n",
    "# TODO: Create the data directory and a Path object for the shopping list file\n",
    "data_dir = Path(\"data\")\n",
    "data_dir.mkdir(exist_ok=True)\n",
    "list_path = data_dir / \"shopping_list.txt\"\n",
    "\n",
    "shopping_items = [\"Apples\", \"Bread\", \"Milk\", \"Eggs\"]\n",
    "\n",
    "# TODO: Write the shopping_items to the file. Add a newline character after each item.\n",
    "with open(list_path, \"w\") as f:\n",
    "    pass # Replace with your write logic\n",
    "\n",
    "# TODO: Read the content of the file back into a variable\n",
    "file_content = \"\"\n",
    "with open(list_path, \"r\") as f:\n",
    "    pass # Replace with your read logic\n",
    "\n",
    "print(file_content)"
   ]
  },
  {
   "cell_type": "markdown",
   "metadata": {},
   "source": [
    "<details>\n",
    "  <summary>Click here for the solution</summary>\n",
    "\n",
    "  ```python\n",
    "  from pathlib import Path\n",
    "\n",
    "  data_dir = Path(\"data\")\n",
    "  data_dir.mkdir(exist_ok=True)\n",
    "  list_path = data_dir / \"shopping_list.txt\"\n",
    "\n",
    "  shopping_items = [\"Apples\", \"Bread\", \"Milk\", \"Eggs\"]\n",
    "\n",
    "  with open(list_path, \"w\") as f:\n",
    "      for item in shopping_items:\n",
    "          f.write(f\"{item}\\n\")\n",
    "\n",
    "  with open(list_path, \"r\") as f:\n",
    "      file_content = f.read()\n",
    "\n",
    "  print(file_content.strip()) # .strip() to remove any trailing newline\n",
    "  ```\n",
    "</details>"
   ]
  },
  {
   "cell_type": "markdown",
   "metadata": {},
   "source": [
    "---"
   ]
  },
  {
   "cell_type": "markdown",
   "metadata": {},
   "source": [
    "### ✏️ Exercise 2: Create a CSV Report\n",
    "\n",
    "**Goal**: Practice writing structured data to a CSV file.\n",
    "\n",
    "**Task**: You are given a list of dictionaries, `products`. Write this data to a CSV file named `products.csv` in the `data` directory. The CSV should have headers `product_name`, `price`, and `in_stock`.\n",
    "\n",
    "#### Expected file content (`data/products.csv`):\n",
    "```csv\n",
    "product_name,price,in_stock\n",
    "Laptop,1200,15\n",
    "Mouse,25,30\n",
    "Keyboard,75,22\n",
    "```"
   ]
  },
  {
   "cell_type": "code",
   "execution_count": null,
   "metadata": {},
   "outputs": [],
   "source": [
    "import csv\n",
    "from pathlib import Path\n",
    "\n",
    "products = [\n",
    "    {\"product_name\": \"Laptop\", \"price\": 1200, \"in_stock\": 15},\n",
    "    {\"product_name\": \"Mouse\", \"price\": 25, \"in_stock\": 30},\n",
    "    {\"product_name\": \"Keyboard\", \"price\": 75, \"in_stock\": 22}\n",
    "]\n",
    "\n",
    "csv_path = Path(\"data\") / \"products.csv\"\n",
    "\n",
    "# TODO: Write the products data to the CSV file using csv.DictWriter\n",
    "\n",
    "\n",
    "print(f\"Successfully created {csv_path}\")"
   ]
  },
  {
   "cell_type": "markdown",
   "metadata": {},
   "source": [
    "<details>\n",
    "  <summary>Click here for the solution</summary>\n",
    "\n",
    "  ```python\n",
    "  import csv\n",
    "  from pathlib import Path\n",
    "\n",
    "  products = [\n",
    "      {\"product_name\": \"Laptop\", \"price\": 1200, \"in_stock\": 15},\n",
    "      {\"product_name\": \"Mouse\", \"price\": 25, \"in_stock\": 30},\n",
    "      {\"product_name\": \"Keyboard\", \"price\": 75, \"in_stock\": 22}\n",
    "  ]\n",
    "\n",
    "  csv_path = Path(\"data\") / \"products.csv\"\n",
    "\n",
    "  with open(csv_path, \"w\", newline=\"\") as csvfile:\n",
    "      fieldnames = [\"product_name\", \"price\", \"in_stock\"]\n",
    "      writer = csv.DictWriter(csvfile, fieldnames=fieldnames)\n",
    "      writer.writeheader()\n",
    "      writer.writerows(products)\n",
    "\n",
    "  print(f\"Successfully created {csv_path}\")\n",
    "  ```\n",
    "</details>"
   ]
  },
  {
   "cell_type": "markdown",
   "metadata": {},
   "source": [
    "---"
   ]
  },
  {
   "cell_type": "markdown",
   "metadata": {},
   "source": [
    "### ✏️ Exercise 3: Parse a JSON Configuration\n",
    "\n",
    "**Goal**: Practice reading and parsing JSON data.\n",
    "\n",
    "**Task**: You are given a JSON string `api_response`. Convert this string into a Python dictionary. Then, extract the `username` of the first user in the `users` list and print it.\n",
    "\n",
    "#### Expected Output:\n",
    "```\n",
    "First user's name: Alice\n",
    "```"
   ]
  },
  {
   "cell_type": "code",
   "execution_count": null,
   "metadata": {},
   "outputs": [],
   "source": [
    "import json\n",
    "\n",
    "api_response = '{\\n  \"status\": \"success\",\\n  \"data\": {\\n    \"users\": [\\n      {\\n        \"username\": \"Alice\",\\n        \"id\": 1\\n      },\\n      {\\n        \"username\": \"Bob\",\\n        \"id\": 2\\n      }\\n    ]\\n  }\\n}'\n",
    "\n",
    "# TODO: Parse the JSON string into a Python dictionary\n",
    "data = {}\n",
    "\n",
    "# TODO: Extract the username of the first user\n",
    "first_user_name = \"\"\n",
    "\n",
    "print(f\"First user's name: {first_user_name}\")"
   ]
  },
  {
   "cell_type": "markdown",
   "metadata": {},
   "source": [
    "<details>\n",
    "  <summary>Click here for the solution</summary>\n",
    "\n",
    "  ```python\n",
    "  import json\n",
    "\n",
    "  api_response = '{\\n  \"status\": \"success\",\\n  \"data\": {\\n    \"users\": [\\n      {\\n        \"username\": \"Alice\",\\n        \"id\": 1\\n      },\\n      {\\n        \"username\": \"Bob\",\\n        \"id\": 2\\n      }\\n    ]\\n  }\\n}'\n",
    "\n",
    "  data = json.loads(api_response)\n",
    "\n",
    "  first_user_name = data['data']['users'][0]['username']\n",
    "\n",
    "  print(f\"First user's name: {first_user_name}\")\n",
    "  ```\n",
    "</details>"
   ]
  },
  {
   "cell_type": "markdown",
   "metadata": {},
   "source": [
    "---"
   ]
  },
  {
   "cell_type": "markdown",
   "metadata": {},
   "source": [
    "### ✏️ Exercise 4: Graceful File Reading\n",
    "\n",
    "**Goal**: Write a robust function that handles `FileNotFoundError`.\n",
    "\n",
    "**Task**: Create a function `read_config` that takes a file path. It should try to open and read the file. If the file is not found, it should catch the `FileNotFoundError` and return a default dictionary `{\"error\": \"File not found\"}`. Test it with a non-existent file path.\n",
    "\n",
    "#### Expected Output:\n",
    "```\n",
    "{'error': 'File not found'}\n",
    "```"
   ]
  },
  {
   "cell_type": "code",
   "execution_count": null,
   "metadata": {},
   "outputs": [],
   "source": [
    "from pathlib import Path\n",
    "import json # Assuming the config is JSON\n",
    "\n",
    "def read_config(path: Path) -> dict:\n",
    "    # TODO: Implement the try...except block\n",
    "    pass\n",
    "\n",
    "# TODO: Test the function with a path that you know doesn't exist\n",
    "missing_path = Path(\"data\") / \"missing_config.json\"\n",
    "config = {}\n",
    "\n",
    "print(config)"
   ]
  },
  {
   "cell_type": "markdown",
   "metadata": {},
   "source": [
    "<details>\n",
    "  <summary>Click here for the solution</summary>\n",
    "\n",
    "  ```python\n",
    "  from pathlib import Path\n",
    "  import json\n",
    "\n",
    "  def read_config(path: Path) -> dict:\n",
    "      try:\n",
    "          with open(path, \"r\") as f:\n",
    "              return json.load(f)\n",
    "      except FileNotFoundError:\n",
    "          return {\"error\": \"File not found\"}\n",
    "\n",
    "  missing_path = Path(\"data\") / \"missing_config.json\"\n",
    "  config = read_config(missing_path)\n",
    "\n",
    "  print(config)\n",
    "  ```\n",
    "</details>"
   ]
  },
  {
   "cell_type": "markdown",
   "metadata": {},
   "source": [
    "---"
   ]
  },
  {
   "cell_type": "markdown",
   "metadata": {},
   "source": [
    "## 🎉 Excellent Work!\n",
    "\n",
    "You've practiced the essential skills for making your Python programs interact with the file system. Being able to read, write, and handle different data formats is crucial for almost any application you will build."
   ]
  }
 ],
 "metadata": {
  "kernelspec": {
   "display_name": "Python 3",
   "language": "python",
   "name": "python3"
  },
  "language_info": {
   "name": "python",
   "version": "3.12"
  }
 },
 "nbformat": 4,
 "nbformat_minor": 2
}