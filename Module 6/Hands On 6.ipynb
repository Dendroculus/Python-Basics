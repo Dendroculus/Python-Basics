{
 "cells": [
  {
   "cell_type": "markdown",
   "metadata": {},
   "source": [
    "# 💾 Module 6: Files & Data (Concepts & Examples) 📂\n",
    "\n",
    "Welcome to Module 6! Programs need to store and retrieve information permanently. This module covers how to work with files on your computer, handle structured data formats like CSV and JSON, and write robust code that can handle common errors.\n",
    "\n",
    "**Our goals are to understand:**\n",
    "- **`pathlib`**: The modern, object-oriented way to work with filesystem paths.\n",
    "- **The `with` statement**: The standard for safely opening and closing files.\n",
    "- **Reading & Writing Plain Text**: The fundamentals of file I/O.\n",
    "- **CSV Files**: How to read and write Comma-Separated Values data.\n",
    "- **JSON Files**: How to work with JavaScript Object Notation for data interchange.\n",
    "- **Error Handling**: Using `try...except` to gracefully handle issues like missing files."
   ]
  },
  {
   "cell_type": "markdown",
   "metadata": {},
   "source": [
    "---"
   ]
  },
  {
   "cell_type": "markdown",
   "metadata": {},
   "source": [
    "## 1. `pathlib` - The Modern Way to Handle Paths\n",
    "\n",
    "Instead of using strings to represent file paths, modern Python encourages using the `pathlib` module. It provides a `Path` object with useful methods that work correctly across different operating systems (Windows, macOS, Linux).\n"
   ]
  },
  {
   "cell_type": "code",
   "execution_count": null,
   "metadata": {},
   "outputs": [],
   "source": [
    "from pathlib import Path\n",
    "\n",
    "# Create a Path object representing a 'data' directory\n",
    "data_dir = Path(\"data\")\n",
    "\n",
    "# Create the directory if it doesn't exist\n",
    "data_dir.mkdir(exist_ok=True)\n",
    "\n",
    "# Join paths using the / operator - it's OS-aware!\n",
    "file_path = data_dir / \"my_file.txt\"\n",
    "\n",
    "print(f\"Full path: {file_path}\")\n",
    "print(f\"File name: {file_path.name}\")\n",
    "print(f\"Parent directory: {file_path.parent}\")\n",
    "print(f\"Does the file exist yet? {file_path.exists()}\")"
   ]
  },
  {
   "cell_type": "markdown",
   "metadata": {},
   "source": [
    "---"
   ]
  },
  {
   "cell_type": "markdown",
   "metadata": {},
   "source": [
    "## 2. Reading and Writing Files with `with`\n",
    "\n",
    "The `with open(...)` statement is the best way to handle files. It **automatically closes the file** for you when you're done, even if an error occurs. This prevents data corruption and resource leaks.\n",
    "\n",
    "**Common Modes:**\n",
    "- `'r'`: **Read** (default mode). Fails if the file doesn't exist.\n",
    "- `'w'`: **Write**. Creates a new file or **overwrites** an existing one.\n",
    "- `'a'`: **Append**. Adds new content to the end of an existing file."
   ]
  },
  {
   "cell_type": "code",
   "execution_count": null,
   "metadata": {},
   "outputs": [],
   "source": [
    "# Let's use the file_path from the previous cell\n",
    "notes = [\"First line of text.\\n\", \"Second line.\\n\", \"Third line.\\n\"]\n",
    "\n",
    "# Writing to a file ('w' mode overwrites it)\n",
    "with open(file_path, \"w\") as f:\n",
    "    print(f\"Writing to {file_path}...\")\n",
    "    f.write(\"Hello, Files!\\n\")\n",
    "    f.writelines(notes)\n",
    "\n",
    "# Reading from a file ('r' mode)\n",
    "with open(file_path, \"r\") as f:\n",
    "    print(f\"\\nReading from {file_path}...\")\n",
    "    content = f.read()\n",
    "    print(content)"
   ]
  },
  {
   "cell_type": "markdown",
   "metadata": {},
   "source": [
    "---"
   ]
  },
  {
   "cell_type": "markdown",
   "metadata": {},
   "source": [
    "## 3. Working with CSV Files\n",
    "\n",
    "CSV (Comma-Separated Values) is a common format for tabular data (like spreadsheets). Python's built-in `csv` module makes it easy to work with.\n"
   ]
  },
  {
   "cell_type": "code",
   "execution_count": null,
   "metadata": {},
   "outputs": [],
   "source": [
    "import csv\n",
    "\n",
    "csv_path = Path(\"data\") / \"users.csv\"\n",
    "users_data = [\n",
    "    {\"username\": \"alex\", \"id\": 101, \"role\": \"admin\"},\n",
    "    {\"username\": \"bob\", \"id\": 102, \"role\": \"editor\"},\n",
    "    {\"username\": \"charlie\", \"id\": 103, \"role\": \"viewer\"}\n",
    "]\n",
    "\n",
    "# Writing to a CSV file with DictWriter\n",
    "with open(csv_path, \"w\", newline=\"\") as csvfile:\n",
    "    fieldnames = [\"username\", \"id\", \"role\"]\n",
    "    writer = csv.DictWriter(csvfile, fieldnames=fieldnames)\n",
    "    \n",
    "    writer.writeheader()\n",
    "    writer.writerows(users_data)\n",
    "print(f\"Wrote data to {csv_path}\")\n",
    "\n",
    "# Reading from a CSV file with DictReader\n",
    "with open(csv_path, \"r\", newline=\"\") as csvfile:\n",
    "    print(f\"\\nReading from {csv_path}...\")\n",
    "    reader = csv.DictReader(csvfile)\n",
    "    for row in reader:\n",
    "        print(dict(row))"
   ]
  },
  {
   "cell_type": "markdown",
   "metadata": {},
   "source": [
    "---"
   ]
  },
  {
   "cell_type": "markdown",
   "metadata": {},
   "source": [
    "## 4. Working with JSON Files\n",
    "\n",
    "JSON (JavaScript Object Notation) is the standard format for sending data between web servers and browsers. It's human-readable and maps very closely to Python dictionaries and lists.\n",
    "\n",
    "- `json.dump()` / `json.dumps()`: Convert a Python object to a JSON file/string (**Serialization**).\n",
    "- `json.load()` / `json.loads()`: Convert a JSON file/string to a Python object (**Deserialization**)."
   ]
  },
  {
   "cell_type": "code",
   "execution_count": null,
   "metadata": {},
   "outputs": [],
   "source": [
    "import json\n",
    "\n",
    "json_path = Path(\"data\") / \"config.json\"\n",
    "config_data = {\n",
    "    \"server_ip\": \"192.168.1.100\",\n",
    "    \"port\": 8080,\n",
    "    \"is_production\": False,\n",
    "    \"supported_clients\": [\"web\", \"mobile\"]\n",
    "}\n",
    "\n",
    "# Writing a Python dictionary to a JSON file\n",
    "with open(json_path, \"w\") as jsonfile:\n",
    "    json.dump(config_data, jsonfile, indent=4)\n",
    "print(f\"Wrote data to {json_path}\")\n",
    "\n",
    "# Reading a JSON file into a Python dictionary\n",
    "with open(json_path, \"r\") as jsonfile:\n",
    "    loaded_data = json.load(jsonfile)\n",
    "print(f\"\\nRead from {json_path}:\")\n",
    "print(loaded_data)\n",
    "print(f\"Server IP from loaded data: {loaded_data['server_ip']}\")"
   ]
  },
  {
   "cell_type": "markdown",
   "metadata": {},
   "source": [
    "---"
   ]
  },
  {
   "cell_type": "markdown",
   "metadata": {},
   "source": [
    "## 5. Basic Error Handling with `try...except`\n",
    "\n",
    "Real-world programs must handle errors. What if a file is missing? Or you don't have permission to read it? The `try...except` block lets you handle these situations without crashing.\n",
    "\n",
    "- **`try`**: The code inside this block is executed first.\n",
    "- **`except`**: If an error occurs in the `try` block, the code in the matching `except` block is run."
   ]
  },
  {
   "cell_type": "code",
   "execution_count": null,
   "metadata": {},
   "outputs": [],
   "source": [
    "missing_file_path = Path(\"data\") / \"non_existent_file.txt\"\n",
    "\n",
    "def safe_read_file(path: Path) -> str:\n",
    "    \"\"\"Safely reads a file, returning its content or an error message.\"\"\"\n",
    "    try:\n",
    "        with open(path, \"r\") as f:\n",
    "            return f.read()\n",
    "    except FileNotFoundError:\n",
    "        return f\"Error: The file at '{path}' was not found.\"\n",
    "    except Exception as e:\n",
    "        # A general catch-all for other unexpected errors\n",
    "        return f\"An unexpected error occurred: {e}\"\n",
    "\n",
    "# Test case 1: A file that exists\n",
    "print(\"Attempting to read an existing file...\")\n",
    "print(safe_read_file(file_path))\n",
    "\n",
    "# Test case 2: A file that does not exist\n",
    "print(\"\\nAttempting to read a missing file...\")\n",
    "print(safe_read_file(missing_file_path))"
   ]
  },
  {
   "cell_type": "markdown",
   "metadata": {},
   "source": [
    "🎉 You now have the tools to make your programs interact with the outside world by reading and writing data, and the ability to handle common issues gracefully.\n",
    "\n",
    "Next: move to **`Exercise 6.ipynb`** to apply these skills!"
   ]
  }
 ],
 "metadata": {
  "kernelspec": {
   "display_name": "Python 3",
   "language": "python",
   "name": "python3"
  },
  "language_info": {
   "name": "python",
   "version": "3.12"
  }
 },
 "nbformat": 4,
 "nbformat_minor": 2
}