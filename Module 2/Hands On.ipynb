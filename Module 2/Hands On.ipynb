{
 "cells": [
  {
   "cell_type": "markdown",
   "metadata": {},
   "source": [
    "# 🚀 Module 2: Control Flow (Concepts & Examples) 🔁\n",
    "\n",
    "Welcome! In this notebook, we'll explore **control flow**—the backbone of any program. Think of your code like a recipe. Control flow statements are the instructions that tell you *when* to perform a step, *if* you need to make a choice, and *how many times* to repeat an action.\n",
    "\n",
    "Run each code cell (Shift+Enter) to see the concepts in action.\n",
    "\n",
    "**Our goals are to understand:**\n",
    "- **Conditional Statements**: `if`, `elif`, `else`\n",
    "- **The `match` Statement**: A modern way to handle multiple conditions.\n",
    "- **Loops**: `for` and `while` for repeating code.\n",
    "- **Loop Control**: `break` and `continue` to change a loop's behavior.\n",
    "- **Comprehensions**: A clean, \"Pythonic\" way to create lists and dictionaries."
   ]
  },
  {
   "cell_type": "markdown",
   "metadata": {},
   "source": [
    "---"
   ]
  },
  {
   "cell_type": "markdown",
   "metadata": {},
   "source": [
    "## 1. Conditional Statements (`if`, `elif`, `else`)\n",
    "\n",
    "Conditional statements allow your program to make decisions. They are the \"choose your own adventure\" part of your code.\n",
    "\n",
    "The code inside an `if` block only runs if the condition is `True`."
   ]
  },
  {
   "cell_type": "code",
   "execution_count": null,
   "metadata": {},
   "outputs": [],
   "source": [
    "age = 19\n",
    "\n",
    "print(\"Let's check if you can vote.\")\n",
    "\n",
    "# The `if` statement checks a condition\n",
    "if age >= 18:\n",
    "    # This code is indented, so it only runs if the condition is True\n",
    "    print(\"You are old enough to vote!\")\n",
    "\n",
    "# The `else` statement runs if the `if` condition is False\n",
    "else:\n",
    "    print(\"Sorry, you are not old enough to vote yet.\")"
   ]
  },
  {
   "cell_type": "markdown",
   "metadata": {},
   "source": [
    "### Combining Conditions with `and`, `or`, `not`\n",
    "You can create more complex rules using logical operators:\n",
    "- **`and`**: Both conditions must be true.\n",
    "- **`or`**: At least one of the conditions must be true.\n",
    "- **`not`**: Reverses the truth value of a condition."
   ]
  },
  {
   "cell_type": "code",
   "execution_count": null,
   "metadata": {},
   "outputs": [],
   "source": [
    "has_ticket = True\n",
    "age = 20\n",
    "\n",
    "# Using 'and'\n",
    "if has_ticket and age >= 18:\n",
    "    print(\"Welcome to the movie!\")\n",
    "else:\n",
    "    print(\"You can't enter.\")\n",
    "\n",
    "# Using 'or'\n",
    "is_vip = False\n",
    "has_invitation = True\n",
    "if is_vip or has_invitation:\n",
    "    print(\"Welcome to the exclusive party!\")"
   ]
  },
  {
   "cell_type": "markdown",
   "metadata": {},
   "source": [
    "### Chaining Conditions with `elif`\n",
    "You can chain multiple checks together with `elif` (short for \"else if\"). Python checks each condition in order and runs the code for the *first* one that is `True`."
   ]
  },
  {
   "cell_type": "code",
   "execution_count": null,
   "metadata": {},
   "outputs": [],
   "source": [
    "grade = 85\n",
    "\n",
    "if grade >= 90:\n",
    "    print(\"You got an A!\")\n",
    "elif grade >= 80:\n",
    "    print(\"You got a B!\")\n",
    "elif grade >= 70:\n",
    "    print(\"You got a C.\")\n",
    "else:\n",
    "    print(\"You need to study more.\")"
   ]
  },
  {
   "cell_type": "markdown",
   "metadata": {},
   "source": [
    "### Checking for \"Truthiness\"\n",
    "In Python, some values are considered \"falsy\" in an `if` statement. This is a very common and useful shortcut.\n",
    "- The number `0`\n",
    "- An empty string `\"\"`\n",
    "- An empty list `[]` or dictionary `{}`\n",
    "- The special value `None`\n",
    "\n",
    "Everything else is \"truthy\"."
   ]
  },
  {
   "cell_type": "code",
   "execution_count": null,
   "metadata": {},
   "outputs": [],
   "source": [
    "my_list = [1, 2, 3]\n",
    "if my_list: # This checks if the list is not empty\n",
    "    print(\"The list has items in it.\")\n",
    "\n",
    "user_name = \"\"\n",
    "if not user_name: # This checks if the string is empty\n",
    "    print(\"Username is missing!\")"
   ]
  },
  {
   "cell_type": "markdown",
   "metadata": {},
   "source": [
    "---"
   ]
  },
  {
   "cell_type": "markdown",
   "metadata": {},
   "source": [
    "## 2. The `match` Statement\n",
    "\n",
    "Introduced in Python 3.10, the `match` statement is a clean way to compare a variable against a series of possible values (patterns). It's great when you have many `elif` conditions checking the same variable."
   ]
  },
  {
   "cell_type": "code",
   "execution_count": null,
   "metadata": {},
   "outputs": [],
   "source": [
    "command = \"start\"\n",
    "\n",
    "match command:\n",
    "    case \"start\" | \"go\": # You can use | for OR\n",
    "        print(\"Starting the process...\")\n",
    "    case \"stop\":\n",
    "        print(\"Stopping the process.\")\n",
    "    case \"status\":\n",
    "        print(\"Showing current status.\")\n",
    "    case _:\n",
    "        # The `_` is a wildcard that matches anything else (the default case)\n",
    "        print(\"Unknown command.\")"
   ]
  },
  {
   "cell_type": "markdown",
   "metadata": {},
   "source": [
    "---"
   ]
  },
  {
   "cell_type": "markdown",
   "metadata": {},
   "source": [
    "## 3. `for` Loops\n",
    "\n",
    "`for` loops are used when you have a sequence of items (like a list, string, or range of numbers) and you want to do something for **each item** in that sequence."
   ]
  },
  {
   "cell_type": "code",
   "execution_count": null,
   "metadata": {},
   "outputs": [],
   "source": [
    "# Looping through a list\n",
    "fruits = [\"apple\", \"banana\", \"cherry\"]\n",
    "for fruit in fruits:\n",
    "    print(f\"I like to eat {fruit.title()}.\")\n",
    "\n",
    "print(\"\\n---\\n\")\n",
    "\n",
    "# Looping through a range of numbers\n",
    "# range(5) generates numbers from 0 up to (but not including) 5\n",
    "for i in range(1, 6): # Numbers from 1 to 5\n",
    "    print(f\"Counting: {i}\")"
   ]
  },
  {
   "cell_type": "markdown",
   "metadata": {},
   "source": [
    "### Looping with `enumerate`\n",
    "Sometimes you need both the item and its index (position) in the list. `enumerate` is the perfect tool for this."
   ]
  },
  {
   "cell_type": "code",
   "execution_count": null,
   "metadata": {},
   "outputs": [],
   "source": [
    "tasks = [\"Clean room\", \"Study Python\", \"Go grocery shopping\"]\n",
    "for index, task in enumerate(tasks):\n",
    "    print(f\"Task #{index + 1}: {task}\")"
   ]
  },
  {
   "cell_type": "markdown",
   "metadata": {},
   "source": [
    "### Looping Over Dictionaries\n",
    "You can loop over a dictionary's keys, values, or both at the same time."
   ]
  },
  {
   "cell_type": "code",
   "execution_count": null,
   "metadata": {},
   "outputs": [],
   "source": [
    "user_profile = {\n",
    "    \"name\": \"Alex\",\n",
    "    \"level\": 5,\n",
    "    \"is_active\": True\n",
    "}\n",
    "\n",
    "# The most common way: looping over key-value pairs with .items()\n",
    "for key, value in user_profile.items():\n",
    "    print(f\"{key.title()}: {value}\")"
   ]
  },
  {
   "cell_type": "markdown",
   "metadata": {},
   "source": [
    "---"
   ]
  },
  {
   "cell_type": "markdown",
   "metadata": {},
   "source": [
    "## 4. `while` Loops\n",
    "\n",
    "`while` loops are used when you want to repeat a block of code **as long as a condition is true**. You might not know in advance how many times it will run."
   ]
  },
  {
   "cell_type": "code",
   "execution_count": null,
   "metadata": {},
   "outputs": [],
   "source": [
    "countdown = 5\n",
    "\n",
    "while countdown > 0:\n",
    "    print(f\"{countdown}...\")\n",
    "    countdown -= 1  # This is crucial! It changes the state so the loop can eventually end.\n",
    "\n",
    "print(\"Blast off! 🚀\")"
   ]
  },
  {
   "cell_type": "markdown",
   "metadata": {},
   "source": [
    "A very common pattern is the `while True` loop, which creates an infinite loop that you must explicitly exit with `break`. This is perfect for menus or games that should keep running until the user decides to quit."
   ]
  },
  {
   "cell_type": "code",
   "execution_count": null,
   "metadata": {},
   "outputs": [],
   "source": [
    "# This is a demonstration. To run it, you would need to run it in a .py file, \n",
    "# as notebook input can be tricky.\n",
    "\n",
    "# while True:\n",
    "#     command = input(\"Enter a command (or 'quit' to exit): \")\n",
    "#     if command.lower() == \"quit\":\n",
    "#         print(\"Goodbye!\")\n",
    "#         break\n",
    "#     elif command.lower() == \"help\":\n",
    "#         print(\"Commands: help, quit\")\n",
    "#     else:\n",
    "#         print(\"Unknown command.\")"
   ]
  },
  {
   "cell_type": "markdown",
   "metadata": {},
   "source": [
    "---"
   ]
  },
  {
   "cell_type": "markdown",
   "metadata": {},
   "source": [
    "## 5. Loop Control: `break` and `continue`\n",
    "\n",
    "You can change how loops behave from the inside:\n",
    "- **`break`**: Immediately exits the entire loop, no matter what.\n",
    "- **`continue`**: Skips the rest of the code in the current iteration and jumps to the start of the next one."
   ]
  },
  {
   "cell_type": "code",
   "execution_count": null,
   "metadata": {},
   "outputs": [],
   "source": [
    "# Example of `break`\n",
    "print(\"Looking for the first number divisible by 7...\")\n",
    "for i in range(1, 100):\n",
    "    if i % 7 == 0:\n",
    "        print(f\"Found it! The number is {i}.\")\n",
    "        break\n",
    "\n",
    "print(\"\\n---\\n\")\n",
    "\n",
    "# Example of `continue`\n",
    "print(\"Printing numbers from 1 to 10, but skipping multiples of 3...\")\n",
    "for i in range(1, 11):\n",
    "    if i % 3 == 0:\n",
    "        continue  # Skip this iteration\n",
    "    print(i)"
   ]
  },
  {
   "cell_type": "markdown",
   "metadata": {},
   "source": [
    "---"
   ]
  },
  {
   "cell_type": "markdown",
   "metadata": {},
   "source": [
    "## 6. Comprehensions\n",
    "\n",
    "Comprehensions are a concise and efficient way to create a new list, set, or dictionary from an existing sequence. They are considered very \"Pythonic\" (a good practice in Python).\n",
    "\n",
    "#### The Anatomy of a List Comprehension\n",
    "Think of it like a one-line `for` loop.\n",
    "\n",
    "`new_list = [<transform_expression> for <item> in <iterable> if <filter_condition>]`\n",
    "\n",
    "- **`transform_expression`**: What to do with each item (e.g., `item * 2`).\n",
    "- **`for <item> in <iterable>`**: The standard loop part.\n",
    "- **`if <filter_condition>`** (Optional): A condition to decide if the item should be included."
   ]
  },
  {
   "cell_type": "code",
   "execution_count": null,
   "metadata": {},
   "outputs": [],
   "source": [
    "# Old way with a for loop\n",
    "squares = []\n",
    "for i in range(1, 6):\n",
    "    squares.append(i ** 2)\n",
    "print(f\"Old way: {squares}\")\n",
    "\n",
    "# New way with a list comprehension\n",
    "squares_comp = [i ** 2 for i in range(1, 6)]\n",
    "print(f\"Comprehension: {squares_comp}\")\n",
    "\n",
    "# A comprehension with a condition\n",
    "even_squares = [i ** 2 for i in range(1, 11) if i % 2 == 0]\n",
    "print(f\"Even squares: {even_squares}\")"
   ]
  },
  {
   "cell_type": "markdown",
   "metadata": {},
   "source": [
    "### Dictionary and Set Comprehensions\n",
    "The same logic applies to creating dictionaries (with key-value pairs) and sets (for unique items)."
   ]
  },
  {
   "cell_type": "code",
   "execution_count": null,
   "metadata": {},
   "outputs": [],
   "source": [
    "# Dictionary Comprehension: Create a mapping of numbers to their squares\n",
    "num_to_square = {x: x**2 for x in range(1, 6)}\n",
    "print(f\"Dictionary: {num_to_square}\")\n",
    "\n",
    "# Set Comprehension: Get unique lowercase first letters from a list of names\n",
    "names = [\"Alice\", \"Bob\", \"Charlie\", \"Anna\"]\n",
    "first_letters = {name[0].lower() for name in names}\n",
    "print(f\"Set of first letters: {first_letters}\")"
   ]
  },
  {
   "cell_type": "markdown",
   "metadata": {},
   "source": [
    "---"
   ]
  },
  {
   "cell_type": "markdown",
   "metadata": {},
   "source": [
    "## 🎉 You're Ready!\n",
    "\n",
    "You've now seen the fundamental tools for controlling the flow of your Python programs, along with some powerful patterns and shortcuts.\n",
    "\n",
    "Now it's time to put this knowledge into practice. Head over to **`module_2_exercises.ipynb`** to start building!"
   ]
  }
 ],
 "metadata": {
  "kernelspec": {
   "display_name": "Python 3",
   "language": "python",
   "name": "python3"
  },
  "language_info": {
   "codemirror_mode": {
    "name": "ipython",
    "version": 3
   },
   "file_extension": ".py",
   "mimetype": "text/x-python",
   "name": "python",
   "nbconvert_exporter": "python",
   "pygments_lexer": "ipython3",
   "version": "3.12.0"
  }
 },
 "nbformat": 4,
 "nbformat_minor": 2
}