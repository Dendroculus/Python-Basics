{
 "cells": [
  {
   "cell_type": "markdown",
   "metadata": {},
   "source": [
    "# 🚀 Module 2: Control Flow (Exercises) 🔁\n",
    "\n",
    "Welcome to the exercises for Module 2! It's time to put your knowledge of `if`, `for`, `while`, and comprehensions to the test. \n",
    "\n",
    "Complete the code in each cell where you see `# TODO:` to match the expected output. You can check your work by looking at the solution in the collapsible section."
   ]
  },
  {
   "cell_type": "markdown",
   "metadata": {},
   "source": [
    "---"
   ]
  },
  {
   "cell_type": "markdown",
   "metadata": {},
   "source": [
    "### ✏️ Exercise 1: The Grader\n",
    "\n",
    "Write a script that takes a numerical `score` and prints a letter grade based on the following scale:\n",
    "- 90-100: \"A\"\n",
    "- 80-89: \"B\"\n",
    "- 70-79: \"C\"\n",
    "- 60-69: \"D\"\n",
    "- Below 60: \"F\"\n",
    "\n",
    "#### Expected Output (for `score = 88`):\n",
    "```\n",
    "A score of 88 gets a grade of: B\n",
    "```"
   ]
  },
  {
   "cell_type": "code",
   "execution_count": null,
   "metadata": {},
   "outputs": [],
   "source": [
    "score = 88\n",
    "\n",
    "# TODO: Write your if/elif/else logic here to determine the grade\n",
    "grade = \"\"\n",
    "\n",
    "# TODO: Print the final message\n"
   ]
  },
  {
   "cell_type": "markdown",
   "metadata": {},
   "source": [
    "<details>\n",
    "  <summary>Click here for the solution</summary>\n",
    "\n",
    "  ```python\n",
    "  score = 88\n",
    "\n",
    "  if score >= 90:\n",
    "      grade = \"A\"\n",
    "  elif score >= 80:\n",
    "      grade = \"B\"\n",
    "  elif score >= 70:\n",
    "      grade = \"C\"\n",
    "  elif score >= 60:\n",
    "      grade = \"D\"\n",
    "  else:\n",
    "      grade = \"F\"\n",
    "\n",
    "  print(f\"A score of {score} gets a grade of: {grade}\")\n",
    "  ```\n",
    "</details>"
   ]
  },
  {
   "cell_type": "markdown",
   "metadata": {},
   "source": [
    "---"
   ]
  },
  {
   "cell_type": "markdown",
   "metadata": {},
   "source": [
    "### ✏️ Exercise 2: Simple Rule Engine with `match`\n",
    "\n",
    "Create a simple command processor using a `match` statement. Based on the `status_code`, print a message.\n",
    "- `200`: \"OK\"\n",
    "- `404`: \"Not Found\"\n",
    "- `500`: \"Internal Server Error\"\n",
    "- Anything else: \"Unknown Status Code\"\n",
    "\n",
    "#### Expected Output (for `status_code = 404`):\n",
    "```\n",
    "Status 404: Not Found\n",
    "```"
   ]
  },
  {
   "cell_type": "code",
   "execution_count": null,
   "metadata": {},
   "outputs": [],
   "source": [
    "status_code = 404\n",
    "\n",
    "# TODO: Write your match statement here\n",
    "message = \"\"\n",
    "\n",
    "# TODO: Print the final message\n"
   ]
  },
  {
   "cell_type": "markdown",
   "metadata": {},
   "source": [
    "<details>\n",
    "  <summary>Click here for the solution</summary>\n",
    "\n",
    "  ```python\n",
    "  status_code = 404\n",
    "\n",
    "  match status_code:\n",
    "      case 200:\n",
    "          message = \"OK\"\n",
    "      case 404:\n",
    "          message = \"Not Found\"\n",
    "      case 500:\n",
    "          message = \"Internal Server Error\"\n",
    "      case _:\n",
    "          message = \"Unknown Status Code\"\n",
    "\n",
    "  print(f\"Status {status_code}: {message}\")\n",
    "  ```\n",
    "</details>"
   ]
  },
  {
   "cell_type": "markdown",
   "metadata": {},
   "source": [
    "---"
   ]
  },
  {
   "cell_type": "markdown",
   "metadata": {},
   "source": [
    "### ✏️ Exercise 3: FizzBuzz+\n",
    "\n",
    "Write a script that loops from 1 to 50 and for each number, prints the following:\n",
    "- \"Fizz\" if the number is a multiple of 3.\n",
    "- \"Buzz\" if the number is a multiple of 5.\n",
    "- \"FizzBuzz\" if the number is a multiple of both 3 and 5.\n",
    "- The number itself if none of the above are true.\n",
    "\n",
    "#### Expected Output (for numbers 1 through 15):\n",
    "```\n",
    "1\n",
    "2\n",
    "Fizz\n",
    "4\n",
    "Buzz\n",
    "Fizz\n",
    "7\n",
    "8\n",
    "Fizz\n",
    "Buzz\n",
    "11\n",
    "Fizz\n",
    "13\n",
    "14\n",
    "FizzBuzz\n",
    "```"
   ]
  },
  {
   "cell_type": "code",
   "execution_count": null,
   "metadata": {},
   "outputs": [],
   "source": [
    "# TODO: Write a for loop that iterates from 1 to 50\n",
    "\n",
    "    # TODO: Inside the loop, use if/elif/else to check the conditions and print the correct output\n"
   ]
  },
  {
   "cell_type": "markdown",
   "metadata": {},
   "source": [
    "<details>\n",
    "  <summary>Click here for the solution</summary>\n",
    "\n",
    "  ```python\n",
    "  for i in range(1, 51):\n",
    "      if i % 3 == 0 and i % 5 == 0:\n",
    "          print(\"FizzBuzz\")\n",
    "      elif i % 3 == 0:\n",
    "          print(\"Fizz\")\n",
    "      elif i % 5 == 0:\n",
    "          print(\"Buzz\")\n",
    "      else:\n",
    "          print(i)\n",
    "  ```\n",
    "</details>"
   ]
  },
  {
   "cell_type": "markdown",
   "metadata": {},
   "source": [
    "---"
   ]
  },
  {
   "cell_type": "markdown",
   "metadata": {},
   "source": [
    "### ✏️ Exercise 4: Number Guessing Game\n",
    "\n",
    "Create a game where the computer picks a secret number between 1 and 20, and the user has to guess it.\n",
    "- Use a `while` loop to keep the game going.\n",
    "- Give the user hints like \"Too high!\" or \"Too low!\".\n",
    "- Use `break` to exit the loop once they guess correctly.\n",
    "\n",
    "#### Expected Output (example interaction):\n",
    "```\n",
    "I'm thinking of a number between 1 and 20...\n",
    "Take a guess: 10\n",
    "Too low!\n",
    "Take a guess: 15\n",
    "Too high!\n",
    "Take a guess: 13\n",
    "Correct! The number was 13. You win!\n",
    "```"
   ]
  },
  {
   "cell_type": "code",
   "execution_count": null,
   "metadata": {},
   "outputs": [],
   "source": [
    "import random\n",
    "\n",
    "secret_number = random.randint(1, 20)\n",
    "print(\"I'm thinking of a number between 1 and 20...\")\n",
    "\n",
    "# TODO: Write a while loop that continues until the correct guess is made\n",
    "\n",
    "    # TODO: Ask the user for input and convert it to an integer\n",
    "\n",
    "    # TODO: Use if/elif/else to compare the guess to the secret number and print hints\n",
    "\n",
    "    # TODO: If the guess is correct, print a success message and break the loop\n"
   ]
  },
  {
   "cell_type": "markdown",
   "metadata": {},
   "source": [
    "<details>\n",
    "  <summary>Click here for the solution</summary>\n",
    "\n",
    "  ```python\n",
    "  import random\n",
    "\n",
    "  secret_number = random.randint(1, 20)\n",
    "  print(\"I'm thinking of a number between 1 and 20...\")\n",
    "\n",
    "  while True:\n",
    "      guess_str = input(\"Take a guess: \")\n",
    "      guess = int(guess_str)\n",
    "\n",
    "      if guess < secret_number:\n",
    "          print(\"Too low!\")\n",
    "      elif guess > secret_number:\n",
    "          print(\"Too high!\")\n",
    "      else:\n",
    "          print(f\"Correct! The number was {secret_number}. You win!\")\n",
    "          break\n",
    "  ```\n",
    "</details>"
   ]
  },
  {
   "cell_type": "markdown",
   "metadata": {},
   "source": [
    "---"
   ]
  },
  {
   "cell_type": "markdown",
   "metadata": {},
   "source": [
    "### ✏️ Exercise 5: Comprehensions for Data Processing\n",
    "\n",
    "Use comprehensions to solve these two tasks."
   ]
  },
  {
   "cell_type": "markdown",
   "metadata": {},
   "source": [
    "**Task 1**: Given `numbers`, create `squared_evens` that contains the square of every even number from the list.\n",
    "\n",
    "#### Expected Output:\n",
    "```\n",
    "[4, 16, 36, 64, 100]\n",
    "```"
   ]
  },
  {
   "cell_type": "code",
   "execution_count": null,
   "metadata": {},
   "outputs": [],
   "source": [
    "numbers = [1, 2, 3, 4, 5, 6, 7, 8, 9, 10]\n",
    "\n",
    "# TODO: Use a list comprehension to create the squared_evens list\n",
    "squared_evens = []\n",
    "\n",
    "print(squared_evens)"
   ]
  },
  {
   "cell_type": "markdown",
   "metadata": {},
   "source": [
    "<details>\n",
    "  <summary>Click here for the solution</summary>\n",
    "\n",
    "  ```python\n",
    "  numbers = [1, 2, 3, 4, 5, 6, 7, 8, 9, 10]\n",
    "  squared_evens = [n**2 for n in numbers if n % 2 == 0]\n",
    "  print(squared_evens)\n",
    "  ```\n",
    "</details>"
   ]
  },
  {
   "cell_type": "markdown",
   "metadata": {},
   "source": [
    "**Task 2**: Given `words`, create a dictionary `word_lengths` where each key is a word and its value is the word's length.\n",
    "\n",
    "#### Expected Output:\n",
    "```\n",
    "{'python': 6, 'is': 2, 'awesome': 7}\n",
    "```"
   ]
  },
  {
   "cell_type": "code",
   "execution_count": null,
   "metadata": {},
   "outputs": [],
   "source": [
    "words = [\"python\", \"is\", \"awesome\"]\n",
    "\n",
    "# TODO: Use a dictionary comprehension to create the word_lengths dictionary\n",
    "word_lengths = {}\n",
    "\n",
    "print(word_lengths)"
   ]
  },
  {
   "cell_type": "markdown",
   "metadata": {},
   "source": [
    "<details>\n",
    "  <summary>Click here for the solution</summary>\n",
    "\n",
    "  ```python\n",
    "  words = [\"python\", \"is\", \"awesome\"]\n",
    "  word_lengths = {word: len(word) for word in words}\n",
    "  print(word_lengths)\n",
    "  ```\n",
    "</details>"
   ]
  },
  {
   "cell_type": "markdown",
   "metadata": {},
   "source": [
    "---"
   ]
  },
  {
   "cell_type": "markdown",
   "metadata": {},
   "source": [
    "## 🎉 Excellent Work!\n",
    "\n",
    "You have now mastered the art of controlling your program's flow. These concepts are the foundation upon which all complex applications are built.\n",
    "\n",
    "**Time to submit your work:**\n",
    "1. Make sure you've saved this notebook.\n",
    "2. Commit your changes to your Git branch.\n",
    "3. Push your branch to GitHub and open a Pull Request for review."
   ]
  }
 ],
 "metadata": {
  "kernelspec": {
   "display_name": "Python 3",
   "language": "python",
   "name": "python3"
  },
  "language_info": {
   "codemirror_mode": {
    "name": "ipython",
    "version": 3
   },
   "file_extension": ".py",
   "mimetype": "text/x-python",
   "name": "python",
   "nbconvert_exporter": "python",
   "pygments_lexer": "ipython3",
   "version": "3.12.0"
  }
 },
 "nbformat": 4,
 "nbformat_minor": 2
}